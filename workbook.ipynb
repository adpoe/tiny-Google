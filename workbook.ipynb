{
 "cells": [
  {
   "cell_type": "markdown",
   "metadata": {},
   "source": [
    "# Workbook\n",
    "A workbook used to test code snippets in Python during development of tiny-Google. "
   ]
  },
  {
   "cell_type": "code",
   "execution_count": 3,
   "metadata": {
    "collapsed": false
   },
   "outputs": [],
   "source": [
    "# result from cat -n command\n",
    "s = ' 12361\tAdventuresOfHuckleberryFinnByMarkTwain.txt\\tour email newsletter to hear about new eBooks.'"
   ]
  },
  {
   "cell_type": "code",
   "execution_count": 4,
   "metadata": {
    "collapsed": false
   },
   "outputs": [
    {
     "data": {
      "text/plain": [
       "[' 12361',\n",
       " 'AdventuresOfHuckleberryFinnByMarkTwain.txt',\n",
       " 'our email newsletter to hear about new eBooks.']"
      ]
     },
     "execution_count": 4,
     "metadata": {},
     "output_type": "execute_result"
    }
   ],
   "source": [
    "s.split('\\t')"
   ]
  },
  {
   "cell_type": "code",
   "execution_count": 6,
   "metadata": {
    "collapsed": false
   },
   "outputs": [
    {
     "data": {
      "text/plain": [
       "12361"
      ]
     },
     "execution_count": 6,
     "metadata": {},
     "output_type": "execute_result"
    }
   ],
   "source": [
    "# grab the number\n",
    "int(s.split('\\t')[0][1:])"
   ]
  },
  {
   "cell_type": "code",
   "execution_count": 7,
   "metadata": {
    "collapsed": true
   },
   "outputs": [],
   "source": [
    "# using nl unix command command\n",
    "s1 = ' 7004\tBeowulfbyJLesslieHall.txt\\tsubscribe to our email newsletter to hear about new eBooks.'"
   ]
  },
  {
   "cell_type": "code",
   "execution_count": 8,
   "metadata": {
    "collapsed": false
   },
   "outputs": [
    {
     "data": {
      "text/plain": [
       "7004"
      ]
     },
     "execution_count": 8,
     "metadata": {},
     "output_type": "execute_result"
    }
   ],
   "source": [
    "int(s1.split('\\t')[0][1:])"
   ]
  },
  {
   "cell_type": "code",
   "execution_count": 9,
   "metadata": {
    "collapsed": true
   },
   "outputs": [],
   "source": [
    "# parsing list fom a given inverted index row\n",
    "row = 'music   BeowulfbyJLesslieHall.txt:4,AdventuresOfHuckleberryFinnByMarkTwain.txt:7,AliceAdventuresinWonderlandbyLewisCarroll.txt:3,DublinersbyJamesJoyce.txt:36'"
   ]
  },
  {
   "cell_type": "code",
   "execution_count": 10,
   "metadata": {
    "collapsed": false
   },
   "outputs": [
    {
     "data": {
      "text/plain": [
       "['music   BeowulfbyJLesslieHall.txt:4,AdventuresOfHuckleberryFinnByMarkTwain.txt:7,AliceAdventuresinWonderlandbyLewisCarroll.txt:3,DublinersbyJamesJoyce.txt:36']"
      ]
     },
     "execution_count": 10,
     "metadata": {},
     "output_type": "execute_result"
    }
   ],
   "source": [
    "row.split('\\t')"
   ]
  },
  {
   "cell_type": "code",
   "execution_count": 12,
   "metadata": {
    "collapsed": false
   },
   "outputs": [
    {
     "data": {
      "text/plain": [
       "['music',\n",
       " 'BeowulfbyJLesslieHall.txt:4,AdventuresOfHuckleberryFinnByMarkTwain.txt:7,AliceAdventuresinWonderlandbyLewisCarroll.txt:3,DublinersbyJamesJoyce.txt:36']"
      ]
     },
     "execution_count": 12,
     "metadata": {},
     "output_type": "execute_result"
    }
   ],
   "source": [
    "row.split('   ')  # why not tab?"
   ]
  },
  {
   "cell_type": "code",
   "execution_count": 14,
   "metadata": {
    "collapsed": true
   },
   "outputs": [],
   "source": [
    "r = row.split('   ')"
   ]
  },
  {
   "cell_type": "code",
   "execution_count": 15,
   "metadata": {
    "collapsed": false
   },
   "outputs": [
    {
     "data": {
      "text/plain": [
       "'BeowulfbyJLesslieHall.txt:4,AdventuresOfHuckleberryFinnByMarkTwain.txt:7,AliceAdventuresinWonderlandbyLewisCarroll.txt:3,DublinersbyJamesJoyce.txt:36'"
      ]
     },
     "execution_count": 15,
     "metadata": {},
     "output_type": "execute_result"
    }
   ],
   "source": [
    "r[1]"
   ]
  },
  {
   "cell_type": "code",
   "execution_count": 16,
   "metadata": {
    "collapsed": false
   },
   "outputs": [
    {
     "data": {
      "text/plain": [
       "['BeowulfbyJLesslieHall.txt:4',\n",
       " 'AdventuresOfHuckleberryFinnByMarkTwain.txt:7',\n",
       " 'AliceAdventuresinWonderlandbyLewisCarroll.txt:3',\n",
       " 'DublinersbyJamesJoyce.txt:36']"
      ]
     },
     "execution_count": 16,
     "metadata": {},
     "output_type": "execute_result"
    }
   ],
   "source": [
    "r[1].split(',')"
   ]
  },
  {
   "cell_type": "code",
   "execution_count": 17,
   "metadata": {
    "collapsed": false
   },
   "outputs": [
    {
     "data": {
      "text/plain": [
       "'BeowulfbyJLesslieHall.txt:4'"
      ]
     },
     "execution_count": 17,
     "metadata": {},
     "output_type": "execute_result"
    }
   ],
   "source": [
    "r[1].split(',')[0]"
   ]
  },
  {
   "cell_type": "code",
   "execution_count": 18,
   "metadata": {
    "collapsed": false
   },
   "outputs": [
    {
     "data": {
      "text/plain": [
       "['BeowulfbyJLesslieHall.txt', '4']"
      ]
     },
     "execution_count": 18,
     "metadata": {},
     "output_type": "execute_result"
    }
   ],
   "source": [
    "r[1].split(',')[0].split(':')  # Now we have th numbers and can sort by k-v pairs... "
   ]
  },
  {
   "cell_type": "code",
   "execution_count": 20,
   "metadata": {
    "collapsed": false
   },
   "outputs": [],
   "source": [
    "occurrence_index = {}"
   ]
  },
  {
   "cell_type": "markdown",
   "metadata": {},
   "source": [
    "# Parse inverted index output to get data we need"
   ]
  },
  {
   "cell_type": "code",
   "execution_count": 21,
   "metadata": {
    "collapsed": true
   },
   "outputs": [],
   "source": [
    "s1 = 'domain\tDublinersbyJamesJoyce.txt:8:[7899, 8168, 7854, 7900, 7841, 8128, 8021, 7938],AdventuresOfHuckleberryFinnByMarkTwain.txt:8:[12312, 12044, 12031, 12350, 12086, 12208, 12087, 12125],AliceAdventuresinWonderlandbyLewisCarroll.txt:8:[3684, 3389, 3573, 3724, 3449, 3448, 3486, 3402],BeowulfbyJLesslieHall.txt:8:[6841, 6670, 6657, 6717, 6952, 6992, 6716, 6754]'\n",
    "s2 = 'boggs\tAdventuresOfHuckleberryFinnByMarkTwain.txt:16:[6053, 6005, 6102, 5969, 6023, 5982, 6056, 6015, 100, 376, 6069, 5973, 6095, 6047, 6041, 5979]'\n",
    "s3 = 'weather\tAdventuresOfHuckleberryFinnByMarkTwain.txt:12:[10444, 10125, 6579, 2958, 1103, 5460, 2975, 6592, 8653, 4621, 2953, 4219],DublinersbyJamesJoyce.txt:5:[3210, 604, 3473, 7339, 3713]'"
   ]
  },
  {
   "cell_type": "code",
   "execution_count": 22,
   "metadata": {
    "collapsed": true
   },
   "outputs": [],
   "source": [
    "lines = [s1,s2,s3]"
   ]
  },
  {
   "cell_type": "code",
   "execution_count": 23,
   "metadata": {
    "collapsed": false
   },
   "outputs": [
    {
     "data": {
      "text/plain": [
       "['domain\\tDublinersbyJamesJoyce.txt:8:[7899, 8168, 7854, 7900, 7841, 8128, 8021, 7938],AdventuresOfHuckleberryFinnByMarkTwain.txt:8:[12312, 12044, 12031, 12350, 12086, 12208, 12087, 12125],AliceAdventuresinWonderlandbyLewisCarroll.txt:8:[3684, 3389, 3573, 3724, 3449, 3448, 3486, 3402],BeowulfbyJLesslieHall.txt:8:[6841, 6670, 6657, 6717, 6952, 6992, 6716, 6754]',\n",
       " 'boggs\\tAdventuresOfHuckleberryFinnByMarkTwain.txt:16:[6053, 6005, 6102, 5969, 6023, 5982, 6056, 6015, 100, 376, 6069, 5973, 6095, 6047, 6041, 5979]',\n",
       " 'weather\\tAdventuresOfHuckleberryFinnByMarkTwain.txt:12:[10444, 10125, 6579, 2958, 1103, 5460, 2975, 6592, 8653, 4621, 2953, 4219],DublinersbyJamesJoyce.txt:5:[3210, 604, 3473, 7339, 3713]']"
      ]
     },
     "execution_count": 23,
     "metadata": {},
     "output_type": "execute_result"
    }
   ],
   "source": [
    "lines"
   ]
  },
  {
   "cell_type": "code",
   "execution_count": 24,
   "metadata": {
    "collapsed": false
   },
   "outputs": [
    {
     "data": {
      "text/plain": [
       "'domain\\tDublinersbyJamesJoyce.txt:8:[7899, 8168, 7854, 7900, 7841, 8128, 8021, 7938],AdventuresOfHuckleberryFinnByMarkTwain.txt:8:[12312, 12044, 12031, 12350, 12086, 12208, 12087, 12125],AliceAdventuresinWonderlandbyLewisCarroll.txt:8:[3684, 3389, 3573, 3724, 3449, 3448, 3486, 3402],BeowulfbyJLesslieHall.txt:8:[6841, 6670, 6657, 6717, 6952, 6992, 6716, 6754]'"
      ]
     },
     "execution_count": 24,
     "metadata": {},
     "output_type": "execute_result"
    }
   ],
   "source": [
    "s1"
   ]
  },
  {
   "cell_type": "code",
   "execution_count": 25,
   "metadata": {
    "collapsed": true
   },
   "outputs": [],
   "source": [
    "word_and_metadata = s1.split('\\t')"
   ]
  },
  {
   "cell_type": "code",
   "execution_count": 26,
   "metadata": {
    "collapsed": false
   },
   "outputs": [
    {
     "data": {
      "text/plain": [
       "['domain',\n",
       " 'DublinersbyJamesJoyce.txt:8:[7899, 8168, 7854, 7900, 7841, 8128, 8021, 7938],AdventuresOfHuckleberryFinnByMarkTwain.txt:8:[12312, 12044, 12031, 12350, 12086, 12208, 12087, 12125],AliceAdventuresinWonderlandbyLewisCarroll.txt:8:[3684, 3389, 3573, 3724, 3449, 3448, 3486, 3402],BeowulfbyJLesslieHall.txt:8:[6841, 6670, 6657, 6717, 6952, 6992, 6716, 6754]']"
      ]
     },
     "execution_count": 26,
     "metadata": {},
     "output_type": "execute_result"
    }
   ],
   "source": [
    "word_and_metadata"
   ]
  },
  {
   "cell_type": "code",
   "execution_count": 31,
   "metadata": {
    "collapsed": true
   },
   "outputs": [],
   "source": [
    "word = word_and_metadata[0]\n",
    "metadata = word_and_metadata[1]"
   ]
  },
  {
   "cell_type": "code",
   "execution_count": 32,
   "metadata": {
    "collapsed": false
   },
   "outputs": [
    {
     "data": {
      "text/plain": [
       "'domain'"
      ]
     },
     "execution_count": 32,
     "metadata": {},
     "output_type": "execute_result"
    }
   ],
   "source": [
    "word"
   ]
  },
  {
   "cell_type": "code",
   "execution_count": 33,
   "metadata": {
    "collapsed": false
   },
   "outputs": [
    {
     "data": {
      "text/plain": [
       "'DublinersbyJamesJoyce.txt:8:[7899, 8168, 7854, 7900, 7841, 8128, 8021, 7938],AdventuresOfHuckleberryFinnByMarkTwain.txt:8:[12312, 12044, 12031, 12350, 12086, 12208, 12087, 12125],AliceAdventuresinWonderlandbyLewisCarroll.txt:8:[3684, 3389, 3573, 3724, 3449, 3448, 3486, 3402],BeowulfbyJLesslieHall.txt:8:[6841, 6670, 6657, 6717, 6952, 6992, 6716, 6754]'"
      ]
     },
     "execution_count": 33,
     "metadata": {},
     "output_type": "execute_result"
    }
   ],
   "source": [
    "metadata"
   ]
  },
  {
   "cell_type": "code",
   "execution_count": 34,
   "metadata": {
    "collapsed": true
   },
   "outputs": [],
   "source": [
    "entries = metadata.split(',')"
   ]
  },
  {
   "cell_type": "code",
   "execution_count": 36,
   "metadata": {
    "collapsed": false
   },
   "outputs": [
    {
     "data": {
      "text/plain": [
       "32"
      ]
     },
     "execution_count": 36,
     "metadata": {},
     "output_type": "execute_result"
    }
   ],
   "source": [
    "len(entries)"
   ]
  },
  {
   "cell_type": "code",
   "execution_count": 37,
   "metadata": {
    "collapsed": false
   },
   "outputs": [
    {
     "data": {
      "text/plain": [
       "['DublinersbyJamesJoyce.txt:8:[7899',\n",
       " ' 8168',\n",
       " ' 7854',\n",
       " ' 7900',\n",
       " ' 7841',\n",
       " ' 8128',\n",
       " ' 8021',\n",
       " ' 7938]',\n",
       " 'AdventuresOfHuckleberryFinnByMarkTwain.txt:8:[12312',\n",
       " ' 12044',\n",
       " ' 12031',\n",
       " ' 12350',\n",
       " ' 12086',\n",
       " ' 12208',\n",
       " ' 12087',\n",
       " ' 12125]',\n",
       " 'AliceAdventuresinWonderlandbyLewisCarroll.txt:8:[3684',\n",
       " ' 3389',\n",
       " ' 3573',\n",
       " ' 3724',\n",
       " ' 3449',\n",
       " ' 3448',\n",
       " ' 3486',\n",
       " ' 3402]',\n",
       " 'BeowulfbyJLesslieHall.txt:8:[6841',\n",
       " ' 6670',\n",
       " ' 6657',\n",
       " ' 6717',\n",
       " ' 6952',\n",
       " ' 6992',\n",
       " ' 6716',\n",
       " ' 6754]']"
      ]
     },
     "execution_count": 37,
     "metadata": {},
     "output_type": "execute_result"
    }
   ],
   "source": [
    "entries"
   ]
  },
  {
   "cell_type": "markdown",
   "metadata": {},
   "source": [
    "### Problem --> can't split by `,`  --> need to split books on a different delimiter ==> try `;` and take it from the top"
   ]
  },
  {
   "cell_type": "code",
   "execution_count": 38,
   "metadata": {
    "collapsed": true
   },
   "outputs": [],
   "source": [
    "s1 = 'squeeze\tAdventuresOfHuckleberryFinnByMarkTwain.txt:5:[11584, 5775, 4292, 4821, 9823];AliceAdventuresinWonderlandbyLewisCarroll.txt:1:[2951]'\n",
    "s2 = 'witness\tAliceAdventuresinWonderlandbyLewisCarroll.txt:10:[3056, 3076, 3080, 2902, 2903, 2940, 2905, 3075, 3047, 3045];DublinersbyJamesJoyce.txt:2:[3574, 3483]'\n",
    "s3 = 'made\tBeowulfbyJLesslieHall.txt:27:[3763, 4064, 349, 3652, 4691, 964, 211, 277, 1887, 6521, 5187, 279, 5678, 2320, 1964, 4523, 1988, 6199, 5589, 1871, 4093, 5131, 5823, 1991, 1890, 3124, 661];AdventuresOfHuckleberryFinnByMarkTwain.txt:175:[9798, 2799, 8447, 10885, 1949, 2636, 5675, 592, 8547, 9712, 6243, 919, 2438, 3370, 2956, 6281, 8644, 4482, 10022, 1621, 6225, 1129, 11798, 4824, 3356, 7538, 646, 11879, 2185, 2520, 897, 5137, 5579, 5738, 2018, 8795, 8677, 3137, 789, 1823, 3636, 7344, 5745, 11705, 738, 10677, 9537, 6265, 2464, 8130, 919, 1020, 8666, 3642, 4229, 11247, 4521, 4453, 8795, 2959, 10020, 5023, 6266, 666, 5574, 7548, 2466, 10729, 3866, 1693, 6848, 1965, 3747, 10931, 2437, 10970, 3912, 8218, 9399, 5883, 5008, 6417, 5125, 5115, 7570, 4454, 7562, 3368, 8679, 2594, 2039, 6341, 6074, 10388, 3274, 5136, 7494, 3739, 1964, 5351, 7343, 1857, 2533, 6826, 1382, 4621, 11449, 11890, 8656, 11960, 8663, 1781, 6298, 2634, 6310, 10576, 9150, 9426, 6913, 11472, 9045, 1493, 7065, 6699, 4304, 4023, 4465, 702, 7908, 11471, 1573, 4567, 8909, 8229, 3062, 4517, 9044, 11494, 11786, 1489, 5641, 8706, 2414, 4563, 1450, 1999, 583, 635, 7432, 8511, 8614, 4999, 8229, 9012, 6894, 8538, 6239, 7046, 11101, 3948, 9691, 4610, 332, 8384, 10945, 4224, 10203, 3914, 2954, 1811, 6987, 1788, 844, 9360, 7288];AliceAdventuresinWonderlandbyLewisCarroll.txt:30:[2358, 385, 716, 3283, 2221, 374, 907, 1072, 2892, 801, 2839, 2518, 341, 2946, 2102, 3060, 2198, 3267, 50, 920, 827, 1433, 922, 2671, 1167, 2928, 835, 895, 144, 1464];DublinersbyJamesJoyce.txt:90:[5703, 2447, 5313, 1848, 5307, 1070, 6337, 1436, 7304, 4445, 7278, 478, 2003, 6318, 420, 4741, 4420, 7336, 1933, 5274, 6093, 6057, 2941, 2025, 2680, 1374, 986, 4537, 1523, 412, 7812, 5161, 2904, 3334, 1819, 223, 2515, 578, 5222, 6862, 227, 1693, 3926, 1821, 1322, 1909, 2862, 2131, 1309, 7594, 1769, 1283, 4474, 1715, 3292, 1890, 1890, 1888, 512, 7005, 1881, 5987, 4425, 1225, 2820, 5149, 1968, 4795, 4967, 3198, 5675, 6032, 1620, 1869, 3246, 3245, 3243, 2314, 1173, 4941, 3238, 1171, 6220, 5261, 1689, 4083, 3225, 7667, 3205, 5159]'"
   ]
  },
  {
   "cell_type": "code",
   "execution_count": 61,
   "metadata": {
    "collapsed": true
   },
   "outputs": [],
   "source": [
    "lines = [s1,s2,s3]"
   ]
  },
  {
   "cell_type": "code",
   "execution_count": 62,
   "metadata": {
    "collapsed": false
   },
   "outputs": [
    {
     "data": {
      "text/plain": [
       "['squeeze\\tAdventuresOfHuckleberryFinnByMarkTwain.txt:5:[11584, 5775, 4292, 4821, 9823];AliceAdventuresinWonderlandbyLewisCarroll.txt:1:[2951]',\n",
       " 'witness\\tAliceAdventuresinWonderlandbyLewisCarroll.txt:10:[3056, 3076, 3080, 2902, 2903, 2940, 2905, 3075, 3047, 3045];DublinersbyJamesJoyce.txt:2:[3574, 3483]',\n",
       " 'made\\tBeowulfbyJLesslieHall.txt:27:[3763, 4064, 349, 3652, 4691, 964, 211, 277, 1887, 6521, 5187, 279, 5678, 2320, 1964, 4523, 1988, 6199, 5589, 1871, 4093, 5131, 5823, 1991, 1890, 3124, 661];AdventuresOfHuckleberryFinnByMarkTwain.txt:175:[9798, 2799, 8447, 10885, 1949, 2636, 5675, 592, 8547, 9712, 6243, 919, 2438, 3370, 2956, 6281, 8644, 4482, 10022, 1621, 6225, 1129, 11798, 4824, 3356, 7538, 646, 11879, 2185, 2520, 897, 5137, 5579, 5738, 2018, 8795, 8677, 3137, 789, 1823, 3636, 7344, 5745, 11705, 738, 10677, 9537, 6265, 2464, 8130, 919, 1020, 8666, 3642, 4229, 11247, 4521, 4453, 8795, 2959, 10020, 5023, 6266, 666, 5574, 7548, 2466, 10729, 3866, 1693, 6848, 1965, 3747, 10931, 2437, 10970, 3912, 8218, 9399, 5883, 5008, 6417, 5125, 5115, 7570, 4454, 7562, 3368, 8679, 2594, 2039, 6341, 6074, 10388, 3274, 5136, 7494, 3739, 1964, 5351, 7343, 1857, 2533, 6826, 1382, 4621, 11449, 11890, 8656, 11960, 8663, 1781, 6298, 2634, 6310, 10576, 9150, 9426, 6913, 11472, 9045, 1493, 7065, 6699, 4304, 4023, 4465, 702, 7908, 11471, 1573, 4567, 8909, 8229, 3062, 4517, 9044, 11494, 11786, 1489, 5641, 8706, 2414, 4563, 1450, 1999, 583, 635, 7432, 8511, 8614, 4999, 8229, 9012, 6894, 8538, 6239, 7046, 11101, 3948, 9691, 4610, 332, 8384, 10945, 4224, 10203, 3914, 2954, 1811, 6987, 1788, 844, 9360, 7288];AliceAdventuresinWonderlandbyLewisCarroll.txt:30:[2358, 385, 716, 3283, 2221, 374, 907, 1072, 2892, 801, 2839, 2518, 341, 2946, 2102, 3060, 2198, 3267, 50, 920, 827, 1433, 922, 2671, 1167, 2928, 835, 895, 144, 1464];DublinersbyJamesJoyce.txt:90:[5703, 2447, 5313, 1848, 5307, 1070, 6337, 1436, 7304, 4445, 7278, 478, 2003, 6318, 420, 4741, 4420, 7336, 1933, 5274, 6093, 6057, 2941, 2025, 2680, 1374, 986, 4537, 1523, 412, 7812, 5161, 2904, 3334, 1819, 223, 2515, 578, 5222, 6862, 227, 1693, 3926, 1821, 1322, 1909, 2862, 2131, 1309, 7594, 1769, 1283, 4474, 1715, 3292, 1890, 1890, 1888, 512, 7005, 1881, 5987, 4425, 1225, 2820, 5149, 1968, 4795, 4967, 3198, 5675, 6032, 1620, 1869, 3246, 3245, 3243, 2314, 1173, 4941, 3238, 1171, 6220, 5261, 1689, 4083, 3225, 7667, 3205, 5159]']"
      ]
     },
     "execution_count": 62,
     "metadata": {},
     "output_type": "execute_result"
    }
   ],
   "source": [
    "lines"
   ]
  },
  {
   "cell_type": "code",
   "execution_count": 45,
   "metadata": {
    "collapsed": false
   },
   "outputs": [
    {
     "data": {
      "text/plain": [
       "['made',\n",
       " 'BeowulfbyJLesslieHall.txt:27:[3763, 4064, 349, 3652, 4691, 964, 211, 277, 1887, 6521, 5187, 279, 5678, 2320, 1964, 4523, 1988, 6199, 5589, 1871, 4093, 5131, 5823, 1991, 1890, 3124, 661];AdventuresOfHuckleberryFinnByMarkTwain.txt:175:[9798, 2799, 8447, 10885, 1949, 2636, 5675, 592, 8547, 9712, 6243, 919, 2438, 3370, 2956, 6281, 8644, 4482, 10022, 1621, 6225, 1129, 11798, 4824, 3356, 7538, 646, 11879, 2185, 2520, 897, 5137, 5579, 5738, 2018, 8795, 8677, 3137, 789, 1823, 3636, 7344, 5745, 11705, 738, 10677, 9537, 6265, 2464, 8130, 919, 1020, 8666, 3642, 4229, 11247, 4521, 4453, 8795, 2959, 10020, 5023, 6266, 666, 5574, 7548, 2466, 10729, 3866, 1693, 6848, 1965, 3747, 10931, 2437, 10970, 3912, 8218, 9399, 5883, 5008, 6417, 5125, 5115, 7570, 4454, 7562, 3368, 8679, 2594, 2039, 6341, 6074, 10388, 3274, 5136, 7494, 3739, 1964, 5351, 7343, 1857, 2533, 6826, 1382, 4621, 11449, 11890, 8656, 11960, 8663, 1781, 6298, 2634, 6310, 10576, 9150, 9426, 6913, 11472, 9045, 1493, 7065, 6699, 4304, 4023, 4465, 702, 7908, 11471, 1573, 4567, 8909, 8229, 3062, 4517, 9044, 11494, 11786, 1489, 5641, 8706, 2414, 4563, 1450, 1999, 583, 635, 7432, 8511, 8614, 4999, 8229, 9012, 6894, 8538, 6239, 7046, 11101, 3948, 9691, 4610, 332, 8384, 10945, 4224, 10203, 3914, 2954, 1811, 6987, 1788, 844, 9360, 7288];AliceAdventuresinWonderlandbyLewisCarroll.txt:30:[2358, 385, 716, 3283, 2221, 374, 907, 1072, 2892, 801, 2839, 2518, 341, 2946, 2102, 3060, 2198, 3267, 50, 920, 827, 1433, 922, 2671, 1167, 2928, 835, 895, 144, 1464];DublinersbyJamesJoyce.txt:90:[5703, 2447, 5313, 1848, 5307, 1070, 6337, 1436, 7304, 4445, 7278, 478, 2003, 6318, 420, 4741, 4420, 7336, 1933, 5274, 6093, 6057, 2941, 2025, 2680, 1374, 986, 4537, 1523, 412, 7812, 5161, 2904, 3334, 1819, 223, 2515, 578, 5222, 6862, 227, 1693, 3926, 1821, 1322, 1909, 2862, 2131, 1309, 7594, 1769, 1283, 4474, 1715, 3292, 1890, 1890, 1888, 512, 7005, 1881, 5987, 4425, 1225, 2820, 5149, 1968, 4795, 4967, 3198, 5675, 6032, 1620, 1869, 3246, 3245, 3243, 2314, 1173, 4941, 3238, 1171, 6220, 5261, 1689, 4083, 3225, 7667, 3205, 5159]']"
      ]
     },
     "execution_count": 45,
     "metadata": {},
     "output_type": "execute_result"
    }
   ],
   "source": [
    "word_and_metadata = s3.split('\\t')\n",
    "word_and_metadata"
   ]
  },
  {
   "cell_type": "code",
   "execution_count": 46,
   "metadata": {
    "collapsed": true
   },
   "outputs": [],
   "source": [
    "word = word_and_metadata[0]\n",
    "metadata = word_and_metadata[1]"
   ]
  },
  {
   "cell_type": "code",
   "execution_count": 47,
   "metadata": {
    "collapsed": false
   },
   "outputs": [
    {
     "data": {
      "text/plain": [
       "'made'"
      ]
     },
     "execution_count": 47,
     "metadata": {},
     "output_type": "execute_result"
    }
   ],
   "source": [
    "word"
   ]
  },
  {
   "cell_type": "code",
   "execution_count": 48,
   "metadata": {
    "collapsed": false
   },
   "outputs": [
    {
     "data": {
      "text/plain": [
       "'BeowulfbyJLesslieHall.txt:27:[3763, 4064, 349, 3652, 4691, 964, 211, 277, 1887, 6521, 5187, 279, 5678, 2320, 1964, 4523, 1988, 6199, 5589, 1871, 4093, 5131, 5823, 1991, 1890, 3124, 661];AdventuresOfHuckleberryFinnByMarkTwain.txt:175:[9798, 2799, 8447, 10885, 1949, 2636, 5675, 592, 8547, 9712, 6243, 919, 2438, 3370, 2956, 6281, 8644, 4482, 10022, 1621, 6225, 1129, 11798, 4824, 3356, 7538, 646, 11879, 2185, 2520, 897, 5137, 5579, 5738, 2018, 8795, 8677, 3137, 789, 1823, 3636, 7344, 5745, 11705, 738, 10677, 9537, 6265, 2464, 8130, 919, 1020, 8666, 3642, 4229, 11247, 4521, 4453, 8795, 2959, 10020, 5023, 6266, 666, 5574, 7548, 2466, 10729, 3866, 1693, 6848, 1965, 3747, 10931, 2437, 10970, 3912, 8218, 9399, 5883, 5008, 6417, 5125, 5115, 7570, 4454, 7562, 3368, 8679, 2594, 2039, 6341, 6074, 10388, 3274, 5136, 7494, 3739, 1964, 5351, 7343, 1857, 2533, 6826, 1382, 4621, 11449, 11890, 8656, 11960, 8663, 1781, 6298, 2634, 6310, 10576, 9150, 9426, 6913, 11472, 9045, 1493, 7065, 6699, 4304, 4023, 4465, 702, 7908, 11471, 1573, 4567, 8909, 8229, 3062, 4517, 9044, 11494, 11786, 1489, 5641, 8706, 2414, 4563, 1450, 1999, 583, 635, 7432, 8511, 8614, 4999, 8229, 9012, 6894, 8538, 6239, 7046, 11101, 3948, 9691, 4610, 332, 8384, 10945, 4224, 10203, 3914, 2954, 1811, 6987, 1788, 844, 9360, 7288];AliceAdventuresinWonderlandbyLewisCarroll.txt:30:[2358, 385, 716, 3283, 2221, 374, 907, 1072, 2892, 801, 2839, 2518, 341, 2946, 2102, 3060, 2198, 3267, 50, 920, 827, 1433, 922, 2671, 1167, 2928, 835, 895, 144, 1464];DublinersbyJamesJoyce.txt:90:[5703, 2447, 5313, 1848, 5307, 1070, 6337, 1436, 7304, 4445, 7278, 478, 2003, 6318, 420, 4741, 4420, 7336, 1933, 5274, 6093, 6057, 2941, 2025, 2680, 1374, 986, 4537, 1523, 412, 7812, 5161, 2904, 3334, 1819, 223, 2515, 578, 5222, 6862, 227, 1693, 3926, 1821, 1322, 1909, 2862, 2131, 1309, 7594, 1769, 1283, 4474, 1715, 3292, 1890, 1890, 1888, 512, 7005, 1881, 5987, 4425, 1225, 2820, 5149, 1968, 4795, 4967, 3198, 5675, 6032, 1620, 1869, 3246, 3245, 3243, 2314, 1173, 4941, 3238, 1171, 6220, 5261, 1689, 4083, 3225, 7667, 3205, 5159]'"
      ]
     },
     "execution_count": 48,
     "metadata": {},
     "output_type": "execute_result"
    }
   ],
   "source": [
    "metadata"
   ]
  },
  {
   "cell_type": "code",
   "execution_count": 51,
   "metadata": {
    "collapsed": true
   },
   "outputs": [],
   "source": [
    "entries = metadata.split(';')"
   ]
  },
  {
   "cell_type": "code",
   "execution_count": 52,
   "metadata": {
    "collapsed": false
   },
   "outputs": [
    {
     "data": {
      "text/plain": [
       "4"
      ]
     },
     "execution_count": 52,
     "metadata": {},
     "output_type": "execute_result"
    }
   ],
   "source": [
    "len(entries)"
   ]
  },
  {
   "cell_type": "code",
   "execution_count": 53,
   "metadata": {
    "collapsed": false
   },
   "outputs": [
    {
     "data": {
      "text/plain": [
       "['BeowulfbyJLesslieHall.txt:27:[3763, 4064, 349, 3652, 4691, 964, 211, 277, 1887, 6521, 5187, 279, 5678, 2320, 1964, 4523, 1988, 6199, 5589, 1871, 4093, 5131, 5823, 1991, 1890, 3124, 661]',\n",
       " 'AdventuresOfHuckleberryFinnByMarkTwain.txt:175:[9798, 2799, 8447, 10885, 1949, 2636, 5675, 592, 8547, 9712, 6243, 919, 2438, 3370, 2956, 6281, 8644, 4482, 10022, 1621, 6225, 1129, 11798, 4824, 3356, 7538, 646, 11879, 2185, 2520, 897, 5137, 5579, 5738, 2018, 8795, 8677, 3137, 789, 1823, 3636, 7344, 5745, 11705, 738, 10677, 9537, 6265, 2464, 8130, 919, 1020, 8666, 3642, 4229, 11247, 4521, 4453, 8795, 2959, 10020, 5023, 6266, 666, 5574, 7548, 2466, 10729, 3866, 1693, 6848, 1965, 3747, 10931, 2437, 10970, 3912, 8218, 9399, 5883, 5008, 6417, 5125, 5115, 7570, 4454, 7562, 3368, 8679, 2594, 2039, 6341, 6074, 10388, 3274, 5136, 7494, 3739, 1964, 5351, 7343, 1857, 2533, 6826, 1382, 4621, 11449, 11890, 8656, 11960, 8663, 1781, 6298, 2634, 6310, 10576, 9150, 9426, 6913, 11472, 9045, 1493, 7065, 6699, 4304, 4023, 4465, 702, 7908, 11471, 1573, 4567, 8909, 8229, 3062, 4517, 9044, 11494, 11786, 1489, 5641, 8706, 2414, 4563, 1450, 1999, 583, 635, 7432, 8511, 8614, 4999, 8229, 9012, 6894, 8538, 6239, 7046, 11101, 3948, 9691, 4610, 332, 8384, 10945, 4224, 10203, 3914, 2954, 1811, 6987, 1788, 844, 9360, 7288]',\n",
       " 'AliceAdventuresinWonderlandbyLewisCarroll.txt:30:[2358, 385, 716, 3283, 2221, 374, 907, 1072, 2892, 801, 2839, 2518, 341, 2946, 2102, 3060, 2198, 3267, 50, 920, 827, 1433, 922, 2671, 1167, 2928, 835, 895, 144, 1464]',\n",
       " 'DublinersbyJamesJoyce.txt:90:[5703, 2447, 5313, 1848, 5307, 1070, 6337, 1436, 7304, 4445, 7278, 478, 2003, 6318, 420, 4741, 4420, 7336, 1933, 5274, 6093, 6057, 2941, 2025, 2680, 1374, 986, 4537, 1523, 412, 7812, 5161, 2904, 3334, 1819, 223, 2515, 578, 5222, 6862, 227, 1693, 3926, 1821, 1322, 1909, 2862, 2131, 1309, 7594, 1769, 1283, 4474, 1715, 3292, 1890, 1890, 1888, 512, 7005, 1881, 5987, 4425, 1225, 2820, 5149, 1968, 4795, 4967, 3198, 5675, 6032, 1620, 1869, 3246, 3245, 3243, 2314, 1173, 4941, 3238, 1171, 6220, 5261, 1689, 4083, 3225, 7667, 3205, 5159]']"
      ]
     },
     "execution_count": 53,
     "metadata": {},
     "output_type": "execute_result"
    }
   ],
   "source": [
    "entries"
   ]
  },
  {
   "cell_type": "code",
   "execution_count": 54,
   "metadata": {
    "collapsed": false
   },
   "outputs": [
    {
     "data": {
      "text/plain": [
       "'BeowulfbyJLesslieHall.txt:27:[3763, 4064, 349, 3652, 4691, 964, 211, 277, 1887, 6521, 5187, 279, 5678, 2320, 1964, 4523, 1988, 6199, 5589, 1871, 4093, 5131, 5823, 1991, 1890, 3124, 661]'"
      ]
     },
     "execution_count": 54,
     "metadata": {},
     "output_type": "execute_result"
    }
   ],
   "source": [
    "entries[0]"
   ]
  },
  {
   "cell_type": "code",
   "execution_count": 55,
   "metadata": {
    "collapsed": false
   },
   "outputs": [
    {
     "data": {
      "text/plain": [
       "'AdventuresOfHuckleberryFinnByMarkTwain.txt:175:[9798, 2799, 8447, 10885, 1949, 2636, 5675, 592, 8547, 9712, 6243, 919, 2438, 3370, 2956, 6281, 8644, 4482, 10022, 1621, 6225, 1129, 11798, 4824, 3356, 7538, 646, 11879, 2185, 2520, 897, 5137, 5579, 5738, 2018, 8795, 8677, 3137, 789, 1823, 3636, 7344, 5745, 11705, 738, 10677, 9537, 6265, 2464, 8130, 919, 1020, 8666, 3642, 4229, 11247, 4521, 4453, 8795, 2959, 10020, 5023, 6266, 666, 5574, 7548, 2466, 10729, 3866, 1693, 6848, 1965, 3747, 10931, 2437, 10970, 3912, 8218, 9399, 5883, 5008, 6417, 5125, 5115, 7570, 4454, 7562, 3368, 8679, 2594, 2039, 6341, 6074, 10388, 3274, 5136, 7494, 3739, 1964, 5351, 7343, 1857, 2533, 6826, 1382, 4621, 11449, 11890, 8656, 11960, 8663, 1781, 6298, 2634, 6310, 10576, 9150, 9426, 6913, 11472, 9045, 1493, 7065, 6699, 4304, 4023, 4465, 702, 7908, 11471, 1573, 4567, 8909, 8229, 3062, 4517, 9044, 11494, 11786, 1489, 5641, 8706, 2414, 4563, 1450, 1999, 583, 635, 7432, 8511, 8614, 4999, 8229, 9012, 6894, 8538, 6239, 7046, 11101, 3948, 9691, 4610, 332, 8384, 10945, 4224, 10203, 3914, 2954, 1811, 6987, 1788, 844, 9360, 7288]'"
      ]
     },
     "execution_count": 55,
     "metadata": {},
     "output_type": "execute_result"
    }
   ],
   "source": [
    "entries[1]"
   ]
  },
  {
   "cell_type": "code",
   "execution_count": 74,
   "metadata": {
    "collapsed": true
   },
   "outputs": [],
   "source": [
    "entry = entries[1]"
   ]
  },
  {
   "cell_type": "code",
   "execution_count": 76,
   "metadata": {
    "collapsed": false
   },
   "outputs": [
    {
     "name": "stdout",
     "output_type": "stream",
     "text": [
      "BeowulfbyJLesslieHall.txt:27:[3763, 4064, 349, 3652, 4691, 964, 211, 277, 1887, 6521, 5187, 279, 5678, 2320, 1964, 4523, 1988, 6199, 5589, 1871, 4093, 5131, 5823, 1991, 1890, 3124, 661]\n",
      "AdventuresOfHuckleberryFinnByMarkTwain.txt:175:[9798, 2799, 8447, 10885, 1949, 2636, 5675, 592, 8547, 9712, 6243, 919, 2438, 3370, 2956, 6281, 8644, 4482, 10022, 1621, 6225, 1129, 11798, 4824, 3356, 7538, 646, 11879, 2185, 2520, 897, 5137, 5579, 5738, 2018, 8795, 8677, 3137, 789, 1823, 3636, 7344, 5745, 11705, 738, 10677, 9537, 6265, 2464, 8130, 919, 1020, 8666, 3642, 4229, 11247, 4521, 4453, 8795, 2959, 10020, 5023, 6266, 666, 5574, 7548, 2466, 10729, 3866, 1693, 6848, 1965, 3747, 10931, 2437, 10970, 3912, 8218, 9399, 5883, 5008, 6417, 5125, 5115, 7570, 4454, 7562, 3368, 8679, 2594, 2039, 6341, 6074, 10388, 3274, 5136, 7494, 3739, 1964, 5351, 7343, 1857, 2533, 6826, 1382, 4621, 11449, 11890, 8656, 11960, 8663, 1781, 6298, 2634, 6310, 10576, 9150, 9426, 6913, 11472, 9045, 1493, 7065, 6699, 4304, 4023, 4465, 702, 7908, 11471, 1573, 4567, 8909, 8229, 3062, 4517, 9044, 11494, 11786, 1489, 5641, 8706, 2414, 4563, 1450, 1999, 583, 635, 7432, 8511, 8614, 4999, 8229, 9012, 6894, 8538, 6239, 7046, 11101, 3948, 9691, 4610, 332, 8384, 10945, 4224, 10203, 3914, 2954, 1811, 6987, 1788, 844, 9360, 7288]\n",
      "AliceAdventuresinWonderlandbyLewisCarroll.txt:30:[2358, 385, 716, 3283, 2221, 374, 907, 1072, 2892, 801, 2839, 2518, 341, 2946, 2102, 3060, 2198, 3267, 50, 920, 827, 1433, 922, 2671, 1167, 2928, 835, 895, 144, 1464]\n",
      "DublinersbyJamesJoyce.txt:90:[5703, 2447, 5313, 1848, 5307, 1070, 6337, 1436, 7304, 4445, 7278, 478, 2003, 6318, 420, 4741, 4420, 7336, 1933, 5274, 6093, 6057, 2941, 2025, 2680, 1374, 986, 4537, 1523, 412, 7812, 5161, 2904, 3334, 1819, 223, 2515, 578, 5222, 6862, 227, 1693, 3926, 1821, 1322, 1909, 2862, 2131, 1309, 7594, 1769, 1283, 4474, 1715, 3292, 1890, 1890, 1888, 512, 7005, 1881, 5987, 4425, 1225, 2820, 5149, 1968, 4795, 4967, 3198, 5675, 6032, 1620, 1869, 3246, 3245, 3243, 2314, 1173, 4941, 3238, 1171, 6220, 5261, 1689, 4083, 3225, 7667, 3205, 5159]\n"
     ]
    }
   ],
   "source": [
    "for entry in entries:\n",
    "    print(str(entry))"
   ]
  },
  {
   "cell_type": "code",
   "execution_count": 57,
   "metadata": {
    "collapsed": true
   },
   "outputs": [],
   "source": [
    "entry_data = entry.split(':')"
   ]
  },
  {
   "cell_type": "code",
   "execution_count": 58,
   "metadata": {
    "collapsed": false
   },
   "outputs": [
    {
     "data": {
      "text/plain": [
       "['AdventuresOfHuckleberryFinnByMarkTwain.txt',\n",
       " '175',\n",
       " '[9798, 2799, 8447, 10885, 1949, 2636, 5675, 592, 8547, 9712, 6243, 919, 2438, 3370, 2956, 6281, 8644, 4482, 10022, 1621, 6225, 1129, 11798, 4824, 3356, 7538, 646, 11879, 2185, 2520, 897, 5137, 5579, 5738, 2018, 8795, 8677, 3137, 789, 1823, 3636, 7344, 5745, 11705, 738, 10677, 9537, 6265, 2464, 8130, 919, 1020, 8666, 3642, 4229, 11247, 4521, 4453, 8795, 2959, 10020, 5023, 6266, 666, 5574, 7548, 2466, 10729, 3866, 1693, 6848, 1965, 3747, 10931, 2437, 10970, 3912, 8218, 9399, 5883, 5008, 6417, 5125, 5115, 7570, 4454, 7562, 3368, 8679, 2594, 2039, 6341, 6074, 10388, 3274, 5136, 7494, 3739, 1964, 5351, 7343, 1857, 2533, 6826, 1382, 4621, 11449, 11890, 8656, 11960, 8663, 1781, 6298, 2634, 6310, 10576, 9150, 9426, 6913, 11472, 9045, 1493, 7065, 6699, 4304, 4023, 4465, 702, 7908, 11471, 1573, 4567, 8909, 8229, 3062, 4517, 9044, 11494, 11786, 1489, 5641, 8706, 2414, 4563, 1450, 1999, 583, 635, 7432, 8511, 8614, 4999, 8229, 9012, 6894, 8538, 6239, 7046, 11101, 3948, 9691, 4610, 332, 8384, 10945, 4224, 10203, 3914, 2954, 1811, 6987, 1788, 844, 9360, 7288]']"
      ]
     },
     "execution_count": 58,
     "metadata": {},
     "output_type": "execute_result"
    }
   ],
   "source": [
    "entry_data"
   ]
  },
  {
   "cell_type": "code",
   "execution_count": 59,
   "metadata": {
    "collapsed": true
   },
   "outputs": [],
   "source": [
    "# --> entry_data[0] = book\n",
    "#     entry_data[1] = count (grab all of these and sort)\n",
    "#     entry_data[2] = listing (which we can sort, since it's a list, but may need to parse with ast module)"
   ]
  },
  {
   "cell_type": "markdown",
   "metadata": {},
   "source": [
    "## Generalize the process that got us here"
   ]
  },
  {
   "cell_type": "code",
   "execution_count": 80,
   "metadata": {
    "collapsed": false
   },
   "outputs": [
    {
     "name": "stdout",
     "output_type": "stream",
     "text": [
      "squeeze\t5:AdventuresOfHuckleberryFinnByMarkTwain.txt\t[11584, 5775, 4292, 4821, 9823]\n",
      "squeeze\t1:AliceAdventuresinWonderlandbyLewisCarroll.txt\t[2951]\n",
      "witness\t10:AliceAdventuresinWonderlandbyLewisCarroll.txt\t[3056, 3076, 3080, 2902, 2903, 2940, 2905, 3075, 3047, 3045]\n",
      "witness\t2:DublinersbyJamesJoyce.txt\t[3574, 3483]\n",
      "made\t27:BeowulfbyJLesslieHall.txt\t[3763, 4064, 349, 3652, 4691, 964, 211, 277, 1887, 6521, 5187, 279, 5678, 2320, 1964, 4523, 1988, 6199, 5589, 1871, 4093, 5131, 5823, 1991, 1890, 3124, 661]\n",
      "made\t175:AdventuresOfHuckleberryFinnByMarkTwain.txt\t[9798, 2799, 8447, 10885, 1949, 2636, 5675, 592, 8547, 9712, 6243, 919, 2438, 3370, 2956, 6281, 8644, 4482, 10022, 1621, 6225, 1129, 11798, 4824, 3356, 7538, 646, 11879, 2185, 2520, 897, 5137, 5579, 5738, 2018, 8795, 8677, 3137, 789, 1823, 3636, 7344, 5745, 11705, 738, 10677, 9537, 6265, 2464, 8130, 919, 1020, 8666, 3642, 4229, 11247, 4521, 4453, 8795, 2959, 10020, 5023, 6266, 666, 5574, 7548, 2466, 10729, 3866, 1693, 6848, 1965, 3747, 10931, 2437, 10970, 3912, 8218, 9399, 5883, 5008, 6417, 5125, 5115, 7570, 4454, 7562, 3368, 8679, 2594, 2039, 6341, 6074, 10388, 3274, 5136, 7494, 3739, 1964, 5351, 7343, 1857, 2533, 6826, 1382, 4621, 11449, 11890, 8656, 11960, 8663, 1781, 6298, 2634, 6310, 10576, 9150, 9426, 6913, 11472, 9045, 1493, 7065, 6699, 4304, 4023, 4465, 702, 7908, 11471, 1573, 4567, 8909, 8229, 3062, 4517, 9044, 11494, 11786, 1489, 5641, 8706, 2414, 4563, 1450, 1999, 583, 635, 7432, 8511, 8614, 4999, 8229, 9012, 6894, 8538, 6239, 7046, 11101, 3948, 9691, 4610, 332, 8384, 10945, 4224, 10203, 3914, 2954, 1811, 6987, 1788, 844, 9360, 7288]\n",
      "made\t30:AliceAdventuresinWonderlandbyLewisCarroll.txt\t[2358, 385, 716, 3283, 2221, 374, 907, 1072, 2892, 801, 2839, 2518, 341, 2946, 2102, 3060, 2198, 3267, 50, 920, 827, 1433, 922, 2671, 1167, 2928, 835, 895, 144, 1464]\n",
      "made\t90:DublinersbyJamesJoyce.txt\t[5703, 2447, 5313, 1848, 5307, 1070, 6337, 1436, 7304, 4445, 7278, 478, 2003, 6318, 420, 4741, 4420, 7336, 1933, 5274, 6093, 6057, 2941, 2025, 2680, 1374, 986, 4537, 1523, 412, 7812, 5161, 2904, 3334, 1819, 223, 2515, 578, 5222, 6862, 227, 1693, 3926, 1821, 1322, 1909, 2862, 2131, 1309, 7594, 1769, 1283, 4474, 1715, 3292, 1890, 1890, 1888, 512, 7005, 1881, 5987, 4425, 1225, 2820, 5149, 1968, 4795, 4967, 3198, 5675, 6032, 1620, 1869, 3246, 3245, 3243, 2314, 1173, 4941, 3238, 1171, 6220, 5261, 1689, 4083, 3225, 7667, 3205, 5159]\n"
     ]
    }
   ],
   "source": [
    "for line in lines:\n",
    "    word_and_metadata = line.split('\\t')\n",
    "    #print(str(word_and_metadata) + '\\n')\n",
    "    \n",
    "    word = word_and_metadata[0]\n",
    "    metadata = word_and_metadata[1]\n",
    "    \n",
    "    entries = metadata.split(';')\n",
    "\n",
    "    for entry in entries:\n",
    "        entry_data = entry.split(':')\n",
    "        book = entry_data[0]\n",
    "        occurrences = entry_data[1]\n",
    "        listing = entry_data[2]\n",
    "    \n",
    "        print('%s\\t%s:%s\\t%s' % (word, occurrences, book, listing))"
   ]
  },
  {
   "cell_type": "code",
   "execution_count": 73,
   "metadata": {
    "collapsed": false
   },
   "outputs": [
    {
     "name": "stdout",
     "output_type": "stream",
     "text": [
      "squeeze\tAdventuresOfHuckleberryFinnByMarkTwain.txt:5:[11584, 5775, 4292, 4821, 9823];AliceAdventuresinWonderlandbyLewisCarroll.txt:1:[2951]\n",
      "\n",
      "witness\tAliceAdventuresinWonderlandbyLewisCarroll.txt:10:[3056, 3076, 3080, 2902, 2903, 2940, 2905, 3075, 3047, 3045];DublinersbyJamesJoyce.txt:2:[3574, 3483]\n",
      "\n",
      "made\tBeowulfbyJLesslieHall.txt:27:[3763, 4064, 349, 3652, 4691, 964, 211, 277, 1887, 6521, 5187, 279, 5678, 2320, 1964, 4523, 1988, 6199, 5589, 1871, 4093, 5131, 5823, 1991, 1890, 3124, 661];AdventuresOfHuckleberryFinnByMarkTwain.txt:175:[9798, 2799, 8447, 10885, 1949, 2636, 5675, 592, 8547, 9712, 6243, 919, 2438, 3370, 2956, 6281, 8644, 4482, 10022, 1621, 6225, 1129, 11798, 4824, 3356, 7538, 646, 11879, 2185, 2520, 897, 5137, 5579, 5738, 2018, 8795, 8677, 3137, 789, 1823, 3636, 7344, 5745, 11705, 738, 10677, 9537, 6265, 2464, 8130, 919, 1020, 8666, 3642, 4229, 11247, 4521, 4453, 8795, 2959, 10020, 5023, 6266, 666, 5574, 7548, 2466, 10729, 3866, 1693, 6848, 1965, 3747, 10931, 2437, 10970, 3912, 8218, 9399, 5883, 5008, 6417, 5125, 5115, 7570, 4454, 7562, 3368, 8679, 2594, 2039, 6341, 6074, 10388, 3274, 5136, 7494, 3739, 1964, 5351, 7343, 1857, 2533, 6826, 1382, 4621, 11449, 11890, 8656, 11960, 8663, 1781, 6298, 2634, 6310, 10576, 9150, 9426, 6913, 11472, 9045, 1493, 7065, 6699, 4304, 4023, 4465, 702, 7908, 11471, 1573, 4567, 8909, 8229, 3062, 4517, 9044, 11494, 11786, 1489, 5641, 8706, 2414, 4563, 1450, 1999, 583, 635, 7432, 8511, 8614, 4999, 8229, 9012, 6894, 8538, 6239, 7046, 11101, 3948, 9691, 4610, 332, 8384, 10945, 4224, 10203, 3914, 2954, 1811, 6987, 1788, 844, 9360, 7288];AliceAdventuresinWonderlandbyLewisCarroll.txt:30:[2358, 385, 716, 3283, 2221, 374, 907, 1072, 2892, 801, 2839, 2518, 341, 2946, 2102, 3060, 2198, 3267, 50, 920, 827, 1433, 922, 2671, 1167, 2928, 835, 895, 144, 1464];DublinersbyJamesJoyce.txt:90:[5703, 2447, 5313, 1848, 5307, 1070, 6337, 1436, 7304, 4445, 7278, 478, 2003, 6318, 420, 4741, 4420, 7336, 1933, 5274, 6093, 6057, 2941, 2025, 2680, 1374, 986, 4537, 1523, 412, 7812, 5161, 2904, 3334, 1819, 223, 2515, 578, 5222, 6862, 227, 1693, 3926, 1821, 1322, 1909, 2862, 2131, 1309, 7594, 1769, 1283, 4474, 1715, 3292, 1890, 1890, 1888, 512, 7005, 1881, 5987, 4425, 1225, 2820, 5149, 1968, 4795, 4967, 3198, 5675, 6032, 1620, 1869, 3246, 3245, 3243, 2314, 1173, 4941, 3238, 1171, 6220, 5261, 1689, 4083, 3225, 7667, 3205, 5159]\n",
      "\n"
     ]
    }
   ],
   "source": [
    "for line in lines:\n",
    "    print(line + '\\n')"
   ]
  },
  {
   "cell_type": "code",
   "execution_count": null,
   "metadata": {
    "collapsed": true
   },
   "outputs": [],
   "source": []
  }
 ],
 "metadata": {
  "kernelspec": {
   "display_name": "Python 2",
   "language": "python",
   "name": "python2"
  },
  "language_info": {
   "codemirror_mode": {
    "name": "ipython",
    "version": 2
   },
   "file_extension": ".py",
   "mimetype": "text/x-python",
   "name": "python",
   "nbconvert_exporter": "python",
   "pygments_lexer": "ipython2",
   "version": "2.7.8"
  }
 },
 "nbformat": 4,
 "nbformat_minor": 2
}

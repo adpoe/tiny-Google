{
 "cells": [
  {
   "cell_type": "markdown",
   "metadata": {},
   "source": [
    "# Workbook\n",
    "A workbook used to test code snippets in Python during development of tiny-Google. "
   ]
  },
  {
   "cell_type": "code",
   "execution_count": 3,
   "metadata": {
    "collapsed": false
   },
   "outputs": [],
   "source": [
    "# result from cat -n command\n",
    "s = ' 12361\tAdventuresOfHuckleberryFinnByMarkTwain.txt\\tour email newsletter to hear about new eBooks.'"
   ]
  },
  {
   "cell_type": "code",
   "execution_count": 4,
   "metadata": {
    "collapsed": false
   },
   "outputs": [
    {
     "data": {
      "text/plain": [
       "[' 12361',\n",
       " 'AdventuresOfHuckleberryFinnByMarkTwain.txt',\n",
       " 'our email newsletter to hear about new eBooks.']"
      ]
     },
     "execution_count": 4,
     "metadata": {},
     "output_type": "execute_result"
    }
   ],
   "source": [
    "s.split('\\t')"
   ]
  },
  {
   "cell_type": "code",
   "execution_count": 6,
   "metadata": {
    "collapsed": false
   },
   "outputs": [
    {
     "data": {
      "text/plain": [
       "12361"
      ]
     },
     "execution_count": 6,
     "metadata": {},
     "output_type": "execute_result"
    }
   ],
   "source": [
    "# grab the number\n",
    "int(s.split('\\t')[0][1:])"
   ]
  },
  {
   "cell_type": "code",
   "execution_count": 7,
   "metadata": {
    "collapsed": true
   },
   "outputs": [],
   "source": [
    "# using nl unix command command\n",
    "s1 = ' 7004\tBeowulfbyJLesslieHall.txt\\tsubscribe to our email newsletter to hear about new eBooks.'"
   ]
  },
  {
   "cell_type": "code",
   "execution_count": 8,
   "metadata": {
    "collapsed": false
   },
   "outputs": [
    {
     "data": {
      "text/plain": [
       "7004"
      ]
     },
     "execution_count": 8,
     "metadata": {},
     "output_type": "execute_result"
    }
   ],
   "source": [
    "int(s1.split('\\t')[0][1:])"
   ]
  },
  {
   "cell_type": "code",
   "execution_count": 9,
   "metadata": {
    "collapsed": true
   },
   "outputs": [],
   "source": [
    "# parsing list fom a given inverted index row\n",
    "row = 'music   BeowulfbyJLesslieHall.txt:4,AdventuresOfHuckleberryFinnByMarkTwain.txt:7,AliceAdventuresinWonderlandbyLewisCarroll.txt:3,DublinersbyJamesJoyce.txt:36'"
   ]
  },
  {
   "cell_type": "code",
   "execution_count": 10,
   "metadata": {
    "collapsed": false
   },
   "outputs": [
    {
     "data": {
      "text/plain": [
       "['music   BeowulfbyJLesslieHall.txt:4,AdventuresOfHuckleberryFinnByMarkTwain.txt:7,AliceAdventuresinWonderlandbyLewisCarroll.txt:3,DublinersbyJamesJoyce.txt:36']"
      ]
     },
     "execution_count": 10,
     "metadata": {},
     "output_type": "execute_result"
    }
   ],
   "source": [
    "row.split('\\t')"
   ]
  },
  {
   "cell_type": "code",
   "execution_count": 12,
   "metadata": {
    "collapsed": false
   },
   "outputs": [
    {
     "data": {
      "text/plain": [
       "['music',\n",
       " 'BeowulfbyJLesslieHall.txt:4,AdventuresOfHuckleberryFinnByMarkTwain.txt:7,AliceAdventuresinWonderlandbyLewisCarroll.txt:3,DublinersbyJamesJoyce.txt:36']"
      ]
     },
     "execution_count": 12,
     "metadata": {},
     "output_type": "execute_result"
    }
   ],
   "source": [
    "row.split('   ')  # why not tab?"
   ]
  },
  {
   "cell_type": "code",
   "execution_count": 14,
   "metadata": {
    "collapsed": true
   },
   "outputs": [],
   "source": [
    "r = row.split('   ')"
   ]
  },
  {
   "cell_type": "code",
   "execution_count": 15,
   "metadata": {
    "collapsed": false
   },
   "outputs": [
    {
     "data": {
      "text/plain": [
       "'BeowulfbyJLesslieHall.txt:4,AdventuresOfHuckleberryFinnByMarkTwain.txt:7,AliceAdventuresinWonderlandbyLewisCarroll.txt:3,DublinersbyJamesJoyce.txt:36'"
      ]
     },
     "execution_count": 15,
     "metadata": {},
     "output_type": "execute_result"
    }
   ],
   "source": [
    "r[1]"
   ]
  },
  {
   "cell_type": "code",
   "execution_count": 16,
   "metadata": {
    "collapsed": false
   },
   "outputs": [
    {
     "data": {
      "text/plain": [
       "['BeowulfbyJLesslieHall.txt:4',\n",
       " 'AdventuresOfHuckleberryFinnByMarkTwain.txt:7',\n",
       " 'AliceAdventuresinWonderlandbyLewisCarroll.txt:3',\n",
       " 'DublinersbyJamesJoyce.txt:36']"
      ]
     },
     "execution_count": 16,
     "metadata": {},
     "output_type": "execute_result"
    }
   ],
   "source": [
    "r[1].split(',')"
   ]
  },
  {
   "cell_type": "code",
   "execution_count": 17,
   "metadata": {
    "collapsed": false
   },
   "outputs": [
    {
     "data": {
      "text/plain": [
       "'BeowulfbyJLesslieHall.txt:4'"
      ]
     },
     "execution_count": 17,
     "metadata": {},
     "output_type": "execute_result"
    }
   ],
   "source": [
    "r[1].split(',')[0]"
   ]
  },
  {
   "cell_type": "code",
   "execution_count": 18,
   "metadata": {
    "collapsed": false
   },
   "outputs": [
    {
     "data": {
      "text/plain": [
       "['BeowulfbyJLesslieHall.txt', '4']"
      ]
     },
     "execution_count": 18,
     "metadata": {},
     "output_type": "execute_result"
    }
   ],
   "source": [
    "r[1].split(',')[0].split(':')  # Now we have th numbers and can sort by k-v pairs... "
   ]
  },
  {
   "cell_type": "code",
   "execution_count": 20,
   "metadata": {
    "collapsed": false
   },
   "outputs": [],
   "source": [
    "occurrence_index = {}"
   ]
  },
  {
   "cell_type": "code",
   "execution_count": null,
   "metadata": {
    "collapsed": true
   },
   "outputs": [],
   "source": []
  }
 ],
 "metadata": {
  "kernelspec": {
   "display_name": "Python 2",
   "language": "python",
   "name": "python2"
  },
  "language_info": {
   "codemirror_mode": {
    "name": "ipython",
    "version": 2
   },
   "file_extension": ".py",
   "mimetype": "text/x-python",
   "name": "python",
   "nbconvert_exporter": "python",
   "pygments_lexer": "ipython2",
   "version": "2.7.8"
  }
 },
 "nbformat": 4,
 "nbformat_minor": 2
}

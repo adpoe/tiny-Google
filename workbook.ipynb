{
 "cells": [
  {
   "cell_type": "markdown",
   "metadata": {},
   "source": [
    "# Workbook\n",
    "A workbook used to test code snippets in Python during development of tiny-Google. "
   ]
  },
  {
   "cell_type": "code",
   "execution_count": 3,
   "metadata": {
    "collapsed": false
   },
   "outputs": [],
   "source": [
    "# result from cat -n command\n",
    "s = ' 12361\tAdventuresOfHuckleberryFinnByMarkTwain.txt\\tour email newsletter to hear about new eBooks.'"
   ]
  },
  {
   "cell_type": "code",
   "execution_count": 4,
   "metadata": {
    "collapsed": false
   },
   "outputs": [
    {
     "data": {
      "text/plain": [
       "[' 12361',\n",
       " 'AdventuresOfHuckleberryFinnByMarkTwain.txt',\n",
       " 'our email newsletter to hear about new eBooks.']"
      ]
     },
     "execution_count": 4,
     "metadata": {},
     "output_type": "execute_result"
    }
   ],
   "source": [
    "s.split('\\t')"
   ]
  },
  {
   "cell_type": "code",
   "execution_count": 6,
   "metadata": {
    "collapsed": false
   },
   "outputs": [
    {
     "data": {
      "text/plain": [
       "12361"
      ]
     },
     "execution_count": 6,
     "metadata": {},
     "output_type": "execute_result"
    }
   ],
   "source": [
    "# grab the number\n",
    "int(s.split('\\t')[0][1:])"
   ]
  },
  {
   "cell_type": "code",
   "execution_count": 7,
   "metadata": {
    "collapsed": true
   },
   "outputs": [],
   "source": [
    "# using nl unix command command\n",
    "s1 = ' 7004\tBeowulfbyJLesslieHall.txt\\tsubscribe to our email newsletter to hear about new eBooks.'"
   ]
  },
  {
   "cell_type": "code",
   "execution_count": 8,
   "metadata": {
    "collapsed": false
   },
   "outputs": [
    {
     "data": {
      "text/plain": [
       "7004"
      ]
     },
     "execution_count": 8,
     "metadata": {},
     "output_type": "execute_result"
    }
   ],
   "source": [
    "int(s1.split('\\t')[0][1:])"
   ]
  },
  {
   "cell_type": "code",
   "execution_count": 9,
   "metadata": {
    "collapsed": true
   },
   "outputs": [],
   "source": [
    "# parsing list fom a given inverted index row\n",
    "row = ameAdventuresOfHuckleberryFinnByMarkTwain.txt:7,AliceAdventuresinWonderlandbyLewisCarroll.txt:3,DublinersbyJamesJoyce.txt:36'"
   ]
  },
  {
   "cell_type": "code",
   "execution_count": 10,
   "metadata": {
    "collapsed": false
   },
   "outputs": [
    {
     "data": {
      "text/plain": [
       "['music   BeowulfbyJLesslieHall.txt:4,AdventuresOfHuckleberryFinnByMarkTwain.txt:7,AliceAdventuresinWonderlandbyLewisCarroll.txt:3,DublinersbyJamesJoyce.txt:36']"
      ]
     },
     "execution_count": 10,
     "metadata": {},
     "output_type": "execute_result"
    }
   ],
   "source": [
    "row.split('\\t')"
   ]
  },
  {
   "cell_type": "code",
   "execution_count": 12,
   "metadata": {
    "collapsed": false
   },
   "outputs": [
    {
     "data": {
      "text/plain": [
       "['music',\n",
       " 'BeowulfbyJLesslieHall.txt:4,AdventuresOfHuckleberryFinnByMarkTwain.txt:7,AliceAdventuresinWonderlandbyLewisCarroll.txt:3,DublinersbyJamesJoyce.txt:36']"
      ]
     },
     "execution_count": 12,
     "metadata": {},
     "output_type": "execute_result"
    }
   ],
   "source": [
    "row.split('   ')  # why not tab?"
   ]
  },
  {
   "cell_type": "code",
   "execution_count": 14,
   "metadata": {
    "collapsed": true
   },
   "outputs": [],
   "source": [
    "r = row.split('   ')"
   ]
  },
  {
   "cell_type": "code",
   "execution_count": 15,
   "metadata": {
    "collapsed": false
   },
   "outputs": [
    {
     "data": {
      "text/plain": [
       "'BeowulfbyJLesslieHall.txt:4,AdventuresOfHuckleberryFinnByMarkTwain.txt:7,AliceAdventuresinWonderlandbyLewisCarroll.txt:3,DublinersbyJamesJoyce.txt:36'"
      ]
     },
     "execution_count": 15,
     "metadata": {},
     "output_type": "execute_result"
    }
   ],
   "source": [
    "r[1]"
   ]
  },
  {
   "cell_type": "code",
   "execution_count": 16,
   "metadata": {
    "collapsed": false
   },
   "outputs": [
    {
     "data": {
      "text/plain": [
       "['BeowulfbyJLesslieHall.txt:4',\n",
       " 'AdventuresOfHuckleberryFinnByMarkTwain.txt:7',\n",
       " 'AliceAdventuresinWonderlandbyLewisCarroll.txt:3',\n",
       " 'DublinersbyJamesJoyce.txt:36']"
      ]
     },
     "execution_count": 16,
     "metadata": {},
     "output_type": "execute_result"
    }
   ],
   "source": [
    "r[1].split(',')"
   ]
  },
  {
   "cell_type": "code",
   "execution_count": 17,
   "metadata": {
    "collapsed": false
   },
   "outputs": [
    {
     "data": {
      "text/plain": [
       "'BeowulfbyJLesslieHall.txt:4'"
      ]
     },
     "execution_count": 17,
     "metadata": {},
     "output_type": "execute_result"
    }
   ],
   "source": [
    "r[1].split(',')[0]"
   ]
  },
  {
   "cell_type": "code",
   "execution_count": 18,
   "metadata": {
    "collapsed": false
   },
   "outputs": [
    {
     "data": {
      "text/plain": [
       "['BeowulfbyJLesslieHall.txt', '4']"
      ]
     },
     "execution_count": 18,
     "metadata": {},
     "output_type": "execute_result"
    }
   ],
   "source": [
    "r[1].split(',')[0].split(':')  # Now we have th numbers and can sort by k-v pairs... "
   ]
  },
  {
   "cell_type": "code",
   "execution_count": 20,
   "metadata": {
    "collapsed": false
   },
   "outputs": [],
   "source": [
    "occurrence_index = {}"
   ]
  },
  {
   "cell_type": "markdown",
   "metadata": {},
   "source": [
    "# Parse inverted index output to get data we need"
   ]
  },
  {
   "cell_type": "code",
   "execution_count": 21,
   "metadata": {
    "collapsed": true
   },
   "outputs": [],
   "source": [
    "s1 = 'domain\tDublinersbyJamesJoyce.txt:8:[7899, 8168, 7854, 7900, 7841, 8128, 8021, 7938],AdventuresOfHuckleberryFinnByMarkTwain.txt:8:[12312, 12044, 12031, 12350, 12086, 12208, 12087, 12125],AliceAdventuresinWonderlandbyLewisCarroll.txt:8:[3684, 3389, 3573, 3724, 3449, 3448, 3486, 3402],BeowulfbyJLesslieHall.txt:8:[6841, 6670, 6657, 6717, 6952, 6992, 6716, 6754]'\n",
    "s2 = 'boggs\tAdventuresOfHuckleberryFinnByMarkTwain.txt:16:[6053, 6005, 6102, 5969, 6023, 5982, 6056, 6015, 100, 376, 6069, 5973, 6095, 6047, 6041, 5979]'\n",
    "s3 = 'weather\tAdventuresOfHuckleberryFinnByMarkTwain.txt:12:[10444, 10125, 6579, 2958, 1103, 5460, 2975, 6592, 8653, 4621, 2953, 4219],DublinersbyJamesJoyce.txt:5:[3210, 604, 3473, 7339, 3713]'"
   ]
  },
  {
   "cell_type": "code",
   "execution_count": 22,
   "metadata": {
    "collapsed": true
   },
   "outputs": [],
   "source": [
    "lines = [s1,s2,s3]"
   ]
  },
  {
   "cell_type": "code",
   "execution_count": 23,
   "metadata": {
    "collapsed": false
   },
   "outputs": [
    {
     "data": {
      "text/plain": [
       "['domain\\tDublinersbyJamesJoyce.txt:8:[7899, 8168, 7854, 7900, 7841, 8128, 8021, 7938],AdventuresOfHuckleberryFinnByMarkTwain.txt:8:[12312, 12044, 12031, 12350, 12086, 12208, 12087, 12125],AliceAdventuresinWonderlandbyLewisCarroll.txt:8:[3684, 3389, 3573, 3724, 3449, 3448, 3486, 3402],BeowulfbyJLesslieHall.txt:8:[6841, 6670, 6657, 6717, 6952, 6992, 6716, 6754]',\n",
       " 'boggs\\tAdventuresOfHuckleberryFinnByMarkTwain.txt:16:[6053, 6005, 6102, 5969, 6023, 5982, 6056, 6015, 100, 376, 6069, 5973, 6095, 6047, 6041, 5979]',\n",
       " 'weather\\tAdventuresOfHuckleberryFinnByMarkTwain.txt:12:[10444, 10125, 6579, 2958, 1103, 5460, 2975, 6592, 8653, 4621, 2953, 4219],DublinersbyJamesJoyce.txt:5:[3210, 604, 3473, 7339, 3713]']"
      ]
     },
     "execution_count": 23,
     "metadata": {},
     "output_type": "execute_result"
    }
   ],
   "source": [
    "lines"
   ]
  },
  {
   "cell_type": "code",
   "execution_count": 24,
   "metadata": {
    "collapsed": false
   },
   "outputs": [
    {
     "data": {
      "text/plain": [
       "'domain\\tDublinersbyJamesJoyce.txt:8:[7899, 8168, 7854, 7900, 7841, 8128, 8021, 7938],AdventuresOfHuckleberryFinnByMarkTwain.txt:8:[12312, 12044, 12031, 12350, 12086, 12208, 12087, 12125],AliceAdventuresinWonderlandbyLewisCarroll.txt:8:[3684, 3389, 3573, 3724, 3449, 3448, 3486, 3402],BeowulfbyJLesslieHall.txt:8:[6841, 6670, 6657, 6717, 6952, 6992, 6716, 6754]'"
      ]
     },
     "execution_count": 24,
     "metadata": {},
     "output_type": "execute_result"
    }
   ],
   "source": [
    "s1"
   ]
  },
  {
   "cell_type": "code",
   "execution_count": 25,
   "metadata": {
    "collapsed": true
   },
   "outputs": [],
   "source": [
    "word_and_metadata = s1.split('\\t')"
   ]
  },
  {
   "cell_type": "code",
   "execution_count": 26,
   "metadata": {
    "collapsed": false
   },
   "outputs": [
    {
     "data": {
      "text/plain": [
       "['domain',\n",
       " 'DublinersbyJamesJoyce.txt:8:[7899, 8168, 7854, 7900, 7841, 8128, 8021, 7938],AdventuresOfHuckleberryFinnByMarkTwain.txt:8:[12312, 12044, 12031, 12350, 12086, 12208, 12087, 12125],AliceAdventuresinWonderlandbyLewisCarroll.txt:8:[3684, 3389, 3573, 3724, 3449, 3448, 3486, 3402],BeowulfbyJLesslieHall.txt:8:[6841, 6670, 6657, 6717, 6952, 6992, 6716, 6754]']"
      ]
     },
     "execution_count": 26,
     "metadata": {},
     "output_type": "execute_result"
    }
   ],
   "source": [
    "word_and_metadata"
   ]
  },
  {
   "cell_type": "code",
   "execution_count": 31,
   "metadata": {
    "collapsed": true
   },
   "outputs": [],
   "source": [
    "word = word_and_metadata[0]\n",
    "metadata = word_and_metadata[1]"
   ]
  },
  {
   "cell_type": "code",
   "execution_count": 32,
   "metadata": {
    "collapsed": false
   },
   "outputs": [
    {
     "data": {
      "text/plain": [
       "'domain'"
      ]
     },
     "execution_count": 32,
     "metadata": {},
     "output_type": "execute_result"
    }
   ],
   "source": [
    "word"
   ]
  },
  {
   "cell_type": "code",
   "execution_count": 33,
   "metadata": {
    "collapsed": false
   },
   "outputs": [
    {
     "data": {
      "text/plain": [
       "'DublinersbyJamesJoyce.txt:8:[7899, 8168, 7854, 7900, 7841, 8128, 8021, 7938],AdventuresOfHuckleberryFinnByMarkTwain.txt:8:[12312, 12044, 12031, 12350, 12086, 12208, 12087, 12125],AliceAdventuresinWonderlandbyLewisCarroll.txt:8:[3684, 3389, 3573, 3724, 3449, 3448, 3486, 3402],BeowulfbyJLesslieHall.txt:8:[6841, 6670, 6657, 6717, 6952, 6992, 6716, 6754]'"
      ]
     },
     "execution_count": 33,
     "metadata": {},
     "output_type": "execute_result"
    }
   ],
   "source": [
    "metadata"
   ]
  },
  {
   "cell_type": "code",
   "execution_count": 34,
   "metadata": {
    "collapsed": true
   },
   "outputs": [],
   "source": [
    "entries = metadata.split(',')"
   ]
  },
  {
   "cell_type": "code",
   "execution_count": 36,
   "metadata": {
    "collapsed": false
   },
   "outputs": [
    {
     "data": {
      "text/plain": [
       "32"
      ]
     },
     "execution_count": 36,
     "metadata": {},
     "output_type": "execute_result"
    }
   ],
   "source": [
    "len(entries)"
   ]
  },
  {
   "cell_type": "code",
   "execution_count": 37,
   "metadata": {
    "collapsed": false
   },
   "outputs": [
    {
     "data": {
      "text/plain": [
       "['DublinersbyJamesJoyce.txt:8:[7899',\n",
       " ' 8168',\n",
       " ' 7854',\n",
       " ' 7900',\n",
       " ' 7841',\n",
       " ' 8128',\n",
       " ' 8021',\n",
       " ' 7938]',\n",
       " 'AdventuresOfHuckleberryFinnByMarkTwain.txt:8:[12312',\n",
       " ' 12044',\n",
       " ' 12031',\n",
       " ' 12350',\n",
       " ' 12086',\n",
       " ' 12208',\n",
       " ' 12087',\n",
       " ' 12125]',\n",
       " 'AliceAdventuresinWonderlandbyLewisCarroll.txt:8:[3684',\n",
       " ' 3389',\n",
       " ' 3573',\n",
       " ' 3724',\n",
       " ' 3449',\n",
       " ' 3448',\n",
       " ' 3486',\n",
       " ' 3402]',\n",
       " 'BeowulfbyJLesslieHall.txt:8:[6841',\n",
       " ' 6670',\n",
       " ' 6657',\n",
       " ' 6717',\n",
       " ' 6952',\n",
       " ' 6992',\n",
       " ' 6716',\n",
       " ' 6754]']"
      ]
     },
     "execution_count": 37,
     "metadata": {},
     "output_type": "execute_result"
    }
   ],
   "source": [
    "entries"
   ]
  },
  {
   "cell_type": "markdown",
   "metadata": {},
   "source": [
    "### Problem --> can't split by `,`  --> need to split books on a different delimiter ==> try `;` and take it from the top"
   ]
  },
  {
   "cell_type": "code",
   "execution_count": 38,
   "metadata": {
    "collapsed": true
   },
   "outputs": [],
   "source": [
    "s1 = 'squeeze\tAdventuresOfHuckleberryFinnByMarkTwain.txt:5:[11584, 5775, 4292, 4821, 9823];AliceAdventuresinWonderlandbyLewisCarroll.txt:1:[2951]'\n",
    "s2 = 'witness\tAliceAdventuresinWonderlandbyLewisCarroll.txt:10:[3056, 3076, 3080, 2902, 2903, 2940, 2905, 3075, 3047, 3045];DublinersbyJamesJoyce.txt:2:[3574, 3483]'\n",
    "s3 = 'made\tBeowulfbyJLesslieHall.txt:27:[3763, 4064, 349, 3652, 4691, 964, 211, 277, 1887, 6521, 5187, 279, 5678, 2320, 1964, 4523, 1988, 6199, 5589, 1871, 4093, 5131, 5823, 1991, 1890, 3124, 661];AdventuresOfHuckleberryFinnByMarkTwain.txt:175:[9798, 2799, 8447, 10885, 1949, 2636, 5675, 592, 8547, 9712, 6243, 919, 2438, 3370, 2956, 6281, 8644, 4482, 10022, 1621, 6225, 1129, 11798, 4824, 3356, 7538, 646, 11879, 2185, 2520, 897, 5137, 5579, 5738, 2018, 8795, 8677, 3137, 789, 1823, 3636, 7344, 5745, 11705, 738, 10677, 9537, 6265, 2464, 8130, 919, 1020, 8666, 3642, 4229, 11247, 4521, 4453, 8795, 2959, 10020, 5023, 6266, 666, 5574, 7548, 2466, 10729, 3866, 1693, 6848, 1965, 3747, 10931, 2437, 10970, 3912, 8218, 9399, 5883, 5008, 6417, 5125, 5115, 7570, 4454, 7562, 3368, 8679, 2594, 2039, 6341, 6074, 10388, 3274, 5136, 7494, 3739, 1964, 5351, 7343, 1857, 2533, 6826, 1382, 4621, 11449, 11890, 8656, 11960, 8663, 1781, 6298, 2634, 6310, 10576, 9150, 9426, 6913, 11472, 9045, 1493, 7065, 6699, 4304, 4023, 4465, 702, 7908, 11471, 1573, 4567, 8909, 8229, 3062, 4517, 9044, 11494, 11786, 1489, 5641, 8706, 2414, 4563, 1450, 1999, 583, 635, 7432, 8511, 8614, 4999, 8229, 9012, 6894, 8538, 6239, 7046, 11101, 3948, 9691, 4610, 332, 8384, 10945, 4224, 10203, 3914, 2954, 1811, 6987, 1788, 844, 9360, 7288];AliceAdventuresinWonderlandbyLewisCarroll.txt:30:[2358, 385, 716, 3283, 2221, 374, 907, 1072, 2892, 801, 2839, 2518, 341, 2946, 2102, 3060, 2198, 3267, 50, 920, 827, 1433, 922, 2671, 1167, 2928, 835, 895, 144, 1464];DublinersbyJamesJoyce.txt:90:[5703, 2447, 5313, 1848, 5307, 1070, 6337, 1436, 7304, 4445, 7278, 478, 2003, 6318, 420, 4741, 4420, 7336, 1933, 5274, 6093, 6057, 2941, 2025, 2680, 1374, 986, 4537, 1523, 412, 7812, 5161, 2904, 3334, 1819, 223, 2515, 578, 5222, 6862, 227, 1693, 3926, 1821, 1322, 1909, 2862, 2131, 1309, 7594, 1769, 1283, 4474, 1715, 3292, 1890, 1890, 1888, 512, 7005, 1881, 5987, 4425, 1225, 2820, 5149, 1968, 4795, 4967, 3198, 5675, 6032, 1620, 1869, 3246, 3245, 3243, 2314, 1173, 4941, 3238, 1171, 6220, 5261, 1689, 4083, 3225, 7667, 3205, 5159]'"
   ]
  },
  {
   "cell_type": "code",
   "execution_count": 61,
   "metadata": {
    "collapsed": true
   },
   "outputs": [],
   "source": [
    "lines = [s1,s2,s3]"
   ]
  },
  {
   "cell_type": "code",
   "execution_count": 62,
   "metadata": {
    "collapsed": false
   },
   "outputs": [
    {
     "data": {
      "text/plain": [
       "['squeeze\\tAdventuresOfHuckleberryFinnByMarkTwain.txt:5:[11584, 5775, 4292, 4821, 9823];AliceAdventuresinWonderlandbyLewisCarroll.txt:1:[2951]',\n",
       " 'witness\\tAliceAdventuresinWonderlandbyLewisCarroll.txt:10:[3056, 3076, 3080, 2902, 2903, 2940, 2905, 3075, 3047, 3045];DublinersbyJamesJoyce.txt:2:[3574, 3483]',\n",
       " 'made\\tBeowulfbyJLesslieHall.txt:27:[3763, 4064, 349, 3652, 4691, 964, 211, 277, 1887, 6521, 5187, 279, 5678, 2320, 1964, 4523, 1988, 6199, 5589, 1871, 4093, 5131, 5823, 1991, 1890, 3124, 661];AdventuresOfHuckleberryFinnByMarkTwain.txt:175:[9798, 2799, 8447, 10885, 1949, 2636, 5675, 592, 8547, 9712, 6243, 919, 2438, 3370, 2956, 6281, 8644, 4482, 10022, 1621, 6225, 1129, 11798, 4824, 3356, 7538, 646, 11879, 2185, 2520, 897, 5137, 5579, 5738, 2018, 8795, 8677, 3137, 789, 1823, 3636, 7344, 5745, 11705, 738, 10677, 9537, 6265, 2464, 8130, 919, 1020, 8666, 3642, 4229, 11247, 4521, 4453, 8795, 2959, 10020, 5023, 6266, 666, 5574, 7548, 2466, 10729, 3866, 1693, 6848, 1965, 3747, 10931, 2437, 10970, 3912, 8218, 9399, 5883, 5008, 6417, 5125, 5115, 7570, 4454, 7562, 3368, 8679, 2594, 2039, 6341, 6074, 10388, 3274, 5136, 7494, 3739, 1964, 5351, 7343, 1857, 2533, 6826, 1382, 4621, 11449, 11890, 8656, 11960, 8663, 1781, 6298, 2634, 6310, 10576, 9150, 9426, 6913, 11472, 9045, 1493, 7065, 6699, 4304, 4023, 4465, 702, 7908, 11471, 1573, 4567, 8909, 8229, 3062, 4517, 9044, 11494, 11786, 1489, 5641, 8706, 2414, 4563, 1450, 1999, 583, 635, 7432, 8511, 8614, 4999, 8229, 9012, 6894, 8538, 6239, 7046, 11101, 3948, 9691, 4610, 332, 8384, 10945, 4224, 10203, 3914, 2954, 1811, 6987, 1788, 844, 9360, 7288];AliceAdventuresinWonderlandbyLewisCarroll.txt:30:[2358, 385, 716, 3283, 2221, 374, 907, 1072, 2892, 801, 2839, 2518, 341, 2946, 2102, 3060, 2198, 3267, 50, 920, 827, 1433, 922, 2671, 1167, 2928, 835, 895, 144, 1464];DublinersbyJamesJoyce.txt:90:[5703, 2447, 5313, 1848, 5307, 1070, 6337, 1436, 7304, 4445, 7278, 478, 2003, 6318, 420, 4741, 4420, 7336, 1933, 5274, 6093, 6057, 2941, 2025, 2680, 1374, 986, 4537, 1523, 412, 7812, 5161, 2904, 3334, 1819, 223, 2515, 578, 5222, 6862, 227, 1693, 3926, 1821, 1322, 1909, 2862, 2131, 1309, 7594, 1769, 1283, 4474, 1715, 3292, 1890, 1890, 1888, 512, 7005, 1881, 5987, 4425, 1225, 2820, 5149, 1968, 4795, 4967, 3198, 5675, 6032, 1620, 1869, 3246, 3245, 3243, 2314, 1173, 4941, 3238, 1171, 6220, 5261, 1689, 4083, 3225, 7667, 3205, 5159]']"
      ]
     },
     "execution_count": 62,
     "metadata": {},
     "output_type": "execute_result"
    }
   ],
   "source": [
    "lines"
   ]
  },
  {
   "cell_type": "code",
   "execution_count": 45,
   "metadata": {
    "collapsed": false
   },
   "outputs": [
    {
     "data": {
      "text/plain": [
       "['made',\n",
       " 'BeowulfbyJLesslieHall.txt:27:[3763, 4064, 349, 3652, 4691, 964, 211, 277, 1887, 6521, 5187, 279, 5678, 2320, 1964, 4523, 1988, 6199, 5589, 1871, 4093, 5131, 5823, 1991, 1890, 3124, 661];AdventuresOfHuckleberryFinnByMarkTwain.txt:175:[9798, 2799, 8447, 10885, 1949, 2636, 5675, 592, 8547, 9712, 6243, 919, 2438, 3370, 2956, 6281, 8644, 4482, 10022, 1621, 6225, 1129, 11798, 4824, 3356, 7538, 646, 11879, 2185, 2520, 897, 5137, 5579, 5738, 2018, 8795, 8677, 3137, 789, 1823, 3636, 7344, 5745, 11705, 738, 10677, 9537, 6265, 2464, 8130, 919, 1020, 8666, 3642, 4229, 11247, 4521, 4453, 8795, 2959, 10020, 5023, 6266, 666, 5574, 7548, 2466, 10729, 3866, 1693, 6848, 1965, 3747, 10931, 2437, 10970, 3912, 8218, 9399, 5883, 5008, 6417, 5125, 5115, 7570, 4454, 7562, 3368, 8679, 2594, 2039, 6341, 6074, 10388, 3274, 5136, 7494, 3739, 1964, 5351, 7343, 1857, 2533, 6826, 1382, 4621, 11449, 11890, 8656, 11960, 8663, 1781, 6298, 2634, 6310, 10576, 9150, 9426, 6913, 11472, 9045, 1493, 7065, 6699, 4304, 4023, 4465, 702, 7908, 11471, 1573, 4567, 8909, 8229, 3062, 4517, 9044, 11494, 11786, 1489, 5641, 8706, 2414, 4563, 1450, 1999, 583, 635, 7432, 8511, 8614, 4999, 8229, 9012, 6894, 8538, 6239, 7046, 11101, 3948, 9691, 4610, 332, 8384, 10945, 4224, 10203, 3914, 2954, 1811, 6987, 1788, 844, 9360, 7288];AliceAdventuresinWonderlandbyLewisCarroll.txt:30:[2358, 385, 716, 3283, 2221, 374, 907, 1072, 2892, 801, 2839, 2518, 341, 2946, 2102, 3060, 2198, 3267, 50, 920, 827, 1433, 922, 2671, 1167, 2928, 835, 895, 144, 1464];DublinersbyJamesJoyce.txt:90:[5703, 2447, 5313, 1848, 5307, 1070, 6337, 1436, 7304, 4445, 7278, 478, 2003, 6318, 420, 4741, 4420, 7336, 1933, 5274, 6093, 6057, 2941, 2025, 2680, 1374, 986, 4537, 1523, 412, 7812, 5161, 2904, 3334, 1819, 223, 2515, 578, 5222, 6862, 227, 1693, 3926, 1821, 1322, 1909, 2862, 2131, 1309, 7594, 1769, 1283, 4474, 1715, 3292, 1890, 1890, 1888, 512, 7005, 1881, 5987, 4425, 1225, 2820, 5149, 1968, 4795, 4967, 3198, 5675, 6032, 1620, 1869, 3246, 3245, 3243, 2314, 1173, 4941, 3238, 1171, 6220, 5261, 1689, 4083, 3225, 7667, 3205, 5159]']"
      ]
     },
     "execution_count": 45,
     "metadata": {},
     "output_type": "execute_result"
    }
   ],
   "source": [
    "word_and_metadata = s3.split('\\t')\n",
    "word_and_metadata"
   ]
  },
  {
   "cell_type": "code",
   "execution_count": 46,
   "metadata": {
    "collapsed": true
   },
   "outputs": [],
   "source": [
    "word = word_and_metadata[0]\n",
    "metadata = word_and_metadata[1]"
   ]
  },
  {
   "cell_type": "code",
   "execution_count": 47,
   "metadata": {
    "collapsed": false
   },
   "outputs": [
    {
     "data": {
      "text/plain": [
       "'made'"
      ]
     },
     "execution_count": 47,
     "metadata": {},
     "output_type": "execute_result"
    }
   ],
   "source": [
    "word"
   ]
  },
  {
   "cell_type": "code",
   "execution_count": 48,
   "metadata": {
    "collapsed": false
   },
   "outputs": [
    {
     "data": {
      "text/plain": [
       "'BeowulfbyJLesslieHall.txt:27:[3763, 4064, 349, 3652, 4691, 964, 211, 277, 1887, 6521, 5187, 279, 5678, 2320, 1964, 4523, 1988, 6199, 5589, 1871, 4093, 5131, 5823, 1991, 1890, 3124, 661];AdventuresOfHuckleberryFinnByMarkTwain.txt:175:[9798, 2799, 8447, 10885, 1949, 2636, 5675, 592, 8547, 9712, 6243, 919, 2438, 3370, 2956, 6281, 8644, 4482, 10022, 1621, 6225, 1129, 11798, 4824, 3356, 7538, 646, 11879, 2185, 2520, 897, 5137, 5579, 5738, 2018, 8795, 8677, 3137, 789, 1823, 3636, 7344, 5745, 11705, 738, 10677, 9537, 6265, 2464, 8130, 919, 1020, 8666, 3642, 4229, 11247, 4521, 4453, 8795, 2959, 10020, 5023, 6266, 666, 5574, 7548, 2466, 10729, 3866, 1693, 6848, 1965, 3747, 10931, 2437, 10970, 3912, 8218, 9399, 5883, 5008, 6417, 5125, 5115, 7570, 4454, 7562, 3368, 8679, 2594, 2039, 6341, 6074, 10388, 3274, 5136, 7494, 3739, 1964, 5351, 7343, 1857, 2533, 6826, 1382, 4621, 11449, 11890, 8656, 11960, 8663, 1781, 6298, 2634, 6310, 10576, 9150, 9426, 6913, 11472, 9045, 1493, 7065, 6699, 4304, 4023, 4465, 702, 7908, 11471, 1573, 4567, 8909, 8229, 3062, 4517, 9044, 11494, 11786, 1489, 5641, 8706, 2414, 4563, 1450, 1999, 583, 635, 7432, 8511, 8614, 4999, 8229, 9012, 6894, 8538, 6239, 7046, 11101, 3948, 9691, 4610, 332, 8384, 10945, 4224, 10203, 3914, 2954, 1811, 6987, 1788, 844, 9360, 7288];AliceAdventuresinWonderlandbyLewisCarroll.txt:30:[2358, 385, 716, 3283, 2221, 374, 907, 1072, 2892, 801, 2839, 2518, 341, 2946, 2102, 3060, 2198, 3267, 50, 920, 827, 1433, 922, 2671, 1167, 2928, 835, 895, 144, 1464];DublinersbyJamesJoyce.txt:90:[5703, 2447, 5313, 1848, 5307, 1070, 6337, 1436, 7304, 4445, 7278, 478, 2003, 6318, 420, 4741, 4420, 7336, 1933, 5274, 6093, 6057, 2941, 2025, 2680, 1374, 986, 4537, 1523, 412, 7812, 5161, 2904, 3334, 1819, 223, 2515, 578, 5222, 6862, 227, 1693, 3926, 1821, 1322, 1909, 2862, 2131, 1309, 7594, 1769, 1283, 4474, 1715, 3292, 1890, 1890, 1888, 512, 7005, 1881, 5987, 4425, 1225, 2820, 5149, 1968, 4795, 4967, 3198, 5675, 6032, 1620, 1869, 3246, 3245, 3243, 2314, 1173, 4941, 3238, 1171, 6220, 5261, 1689, 4083, 3225, 7667, 3205, 5159]'"
      ]
     },
     "execution_count": 48,
     "metadata": {},
     "output_type": "execute_result"
    }
   ],
   "source": [
    "metadata"
   ]
  },
  {
   "cell_type": "code",
   "execution_count": 51,
   "metadata": {
    "collapsed": true
   },
   "outputs": [],
   "source": [
    "entries = metadata.split(';')"
   ]
  },
  {
   "cell_type": "code",
   "execution_count": 52,
   "metadata": {
    "collapsed": false
   },
   "outputs": [
    {
     "data": {
      "text/plain": [
       "4"
      ]
     },
     "execution_count": 52,
     "metadata": {},
     "output_type": "execute_result"
    }
   ],
   "source": [
    "len(entries)"
   ]
  },
  {
   "cell_type": "code",
   "execution_count": 53,
   "metadata": {
    "collapsed": false
   },
   "outputs": [
    {
     "data": {
      "text/plain": [
       "['BeowulfbyJLesslieHall.txt:27:[3763, 4064, 349, 3652, 4691, 964, 211, 277, 1887, 6521, 5187, 279, 5678, 2320, 1964, 4523, 1988, 6199, 5589, 1871, 4093, 5131, 5823, 1991, 1890, 3124, 661]',\n",
       " 'AdventuresOfHuckleberryFinnByMarkTwain.txt:175:[9798, 2799, 8447, 10885, 1949, 2636, 5675, 592, 8547, 9712, 6243, 919, 2438, 3370, 2956, 6281, 8644, 4482, 10022, 1621, 6225, 1129, 11798, 4824, 3356, 7538, 646, 11879, 2185, 2520, 897, 5137, 5579, 5738, 2018, 8795, 8677, 3137, 789, 1823, 3636, 7344, 5745, 11705, 738, 10677, 9537, 6265, 2464, 8130, 919, 1020, 8666, 3642, 4229, 11247, 4521, 4453, 8795, 2959, 10020, 5023, 6266, 666, 5574, 7548, 2466, 10729, 3866, 1693, 6848, 1965, 3747, 10931, 2437, 10970, 3912, 8218, 9399, 5883, 5008, 6417, 5125, 5115, 7570, 4454, 7562, 3368, 8679, 2594, 2039, 6341, 6074, 10388, 3274, 5136, 7494, 3739, 1964, 5351, 7343, 1857, 2533, 6826, 1382, 4621, 11449, 11890, 8656, 11960, 8663, 1781, 6298, 2634, 6310, 10576, 9150, 9426, 6913, 11472, 9045, 1493, 7065, 6699, 4304, 4023, 4465, 702, 7908, 11471, 1573, 4567, 8909, 8229, 3062, 4517, 9044, 11494, 11786, 1489, 5641, 8706, 2414, 4563, 1450, 1999, 583, 635, 7432, 8511, 8614, 4999, 8229, 9012, 6894, 8538, 6239, 7046, 11101, 3948, 9691, 4610, 332, 8384, 10945, 4224, 10203, 3914, 2954, 1811, 6987, 1788, 844, 9360, 7288]',\n",
       " 'AliceAdventuresinWonderlandbyLewisCarroll.txt:30:[2358, 385, 716, 3283, 2221, 374, 907, 1072, 2892, 801, 2839, 2518, 341, 2946, 2102, 3060, 2198, 3267, 50, 920, 827, 1433, 922, 2671, 1167, 2928, 835, 895, 144, 1464]',\n",
       " 'DublinersbyJamesJoyce.txt:90:[5703, 2447, 5313, 1848, 5307, 1070, 6337, 1436, 7304, 4445, 7278, 478, 2003, 6318, 420, 4741, 4420, 7336, 1933, 5274, 6093, 6057, 2941, 2025, 2680, 1374, 986, 4537, 1523, 412, 7812, 5161, 2904, 3334, 1819, 223, 2515, 578, 5222, 6862, 227, 1693, 3926, 1821, 1322, 1909, 2862, 2131, 1309, 7594, 1769, 1283, 4474, 1715, 3292, 1890, 1890, 1888, 512, 7005, 1881, 5987, 4425, 1225, 2820, 5149, 1968, 4795, 4967, 3198, 5675, 6032, 1620, 1869, 3246, 3245, 3243, 2314, 1173, 4941, 3238, 1171, 6220, 5261, 1689, 4083, 3225, 7667, 3205, 5159]']"
      ]
     },
     "execution_count": 53,
     "metadata": {},
     "output_type": "execute_result"
    }
   ],
   "source": [
    "entries"
   ]
  },
  {
   "cell_type": "code",
   "execution_count": 54,
   "metadata": {
    "collapsed": false
   },
   "outputs": [
    {
     "data": {
      "text/plain": [
       "'BeowulfbyJLesslieHall.txt:27:[3763, 4064, 349, 3652, 4691, 964, 211, 277, 1887, 6521, 5187, 279, 5678, 2320, 1964, 4523, 1988, 6199, 5589, 1871, 4093, 5131, 5823, 1991, 1890, 3124, 661]'"
      ]
     },
     "execution_count": 54,
     "metadata": {},
     "output_type": "execute_result"
    }
   ],
   "source": [
    "entries[0]"
   ]
  },
  {
   "cell_type": "code",
   "execution_count": 55,
   "metadata": {
    "collapsed": false
   },
   "outputs": [
    {
     "data": {
      "text/plain": [
       "'AdventuresOfHuckleberryFinnByMarkTwain.txt:175:[9798, 2799, 8447, 10885, 1949, 2636, 5675, 592, 8547, 9712, 6243, 919, 2438, 3370, 2956, 6281, 8644, 4482, 10022, 1621, 6225, 1129, 11798, 4824, 3356, 7538, 646, 11879, 2185, 2520, 897, 5137, 5579, 5738, 2018, 8795, 8677, 3137, 789, 1823, 3636, 7344, 5745, 11705, 738, 10677, 9537, 6265, 2464, 8130, 919, 1020, 8666, 3642, 4229, 11247, 4521, 4453, 8795, 2959, 10020, 5023, 6266, 666, 5574, 7548, 2466, 10729, 3866, 1693, 6848, 1965, 3747, 10931, 2437, 10970, 3912, 8218, 9399, 5883, 5008, 6417, 5125, 5115, 7570, 4454, 7562, 3368, 8679, 2594, 2039, 6341, 6074, 10388, 3274, 5136, 7494, 3739, 1964, 5351, 7343, 1857, 2533, 6826, 1382, 4621, 11449, 11890, 8656, 11960, 8663, 1781, 6298, 2634, 6310, 10576, 9150, 9426, 6913, 11472, 9045, 1493, 7065, 6699, 4304, 4023, 4465, 702, 7908, 11471, 1573, 4567, 8909, 8229, 3062, 4517, 9044, 11494, 11786, 1489, 5641, 8706, 2414, 4563, 1450, 1999, 583, 635, 7432, 8511, 8614, 4999, 8229, 9012, 6894, 8538, 6239, 7046, 11101, 3948, 9691, 4610, 332, 8384, 10945, 4224, 10203, 3914, 2954, 1811, 6987, 1788, 844, 9360, 7288]'"
      ]
     },
     "execution_count": 55,
     "metadata": {},
     "output_type": "execute_result"
    }
   ],
   "source": [
    "entries[1]"
   ]
  },
  {
   "cell_type": "code",
   "execution_count": 74,
   "metadata": {
    "collapsed": true
   },
   "outputs": [],
   "source": [
    "entry = entries[1]"
   ]
  },
  {
   "cell_type": "code",
   "execution_count": 76,
   "metadata": {
    "collapsed": false
   },
   "outputs": [
    {
     "name": "stdout",
     "output_type": "stream",
     "text": [
      "BeowulfbyJLesslieHall.txt:27:[3763, 4064, 349, 3652, 4691, 964, 211, 277, 1887, 6521, 5187, 279, 5678, 2320, 1964, 4523, 1988, 6199, 5589, 1871, 4093, 5131, 5823, 1991, 1890, 3124, 661]\n",
      "AdventuresOfHuckleberryFinnByMarkTwain.txt:175:[9798, 2799, 8447, 10885, 1949, 2636, 5675, 592, 8547, 9712, 6243, 919, 2438, 3370, 2956, 6281, 8644, 4482, 10022, 1621, 6225, 1129, 11798, 4824, 3356, 7538, 646, 11879, 2185, 2520, 897, 5137, 5579, 5738, 2018, 8795, 8677, 3137, 789, 1823, 3636, 7344, 5745, 11705, 738, 10677, 9537, 6265, 2464, 8130, 919, 1020, 8666, 3642, 4229, 11247, 4521, 4453, 8795, 2959, 10020, 5023, 6266, 666, 5574, 7548, 2466, 10729, 3866, 1693, 6848, 1965, 3747, 10931, 2437, 10970, 3912, 8218, 9399, 5883, 5008, 6417, 5125, 5115, 7570, 4454, 7562, 3368, 8679, 2594, 2039, 6341, 6074, 10388, 3274, 5136, 7494, 3739, 1964, 5351, 7343, 1857, 2533, 6826, 1382, 4621, 11449, 11890, 8656, 11960, 8663, 1781, 6298, 2634, 6310, 10576, 9150, 9426, 6913, 11472, 9045, 1493, 7065, 6699, 4304, 4023, 4465, 702, 7908, 11471, 1573, 4567, 8909, 8229, 3062, 4517, 9044, 11494, 11786, 1489, 5641, 8706, 2414, 4563, 1450, 1999, 583, 635, 7432, 8511, 8614, 4999, 8229, 9012, 6894, 8538, 6239, 7046, 11101, 3948, 9691, 4610, 332, 8384, 10945, 4224, 10203, 3914, 2954, 1811, 6987, 1788, 844, 9360, 7288]\n",
      "AliceAdventuresinWonderlandbyLewisCarroll.txt:30:[2358, 385, 716, 3283, 2221, 374, 907, 1072, 2892, 801, 2839, 2518, 341, 2946, 2102, 3060, 2198, 3267, 50, 920, 827, 1433, 922, 2671, 1167, 2928, 835, 895, 144, 1464]\n",
      "DublinersbyJamesJoyce.txt:90:[5703, 2447, 5313, 1848, 5307, 1070, 6337, 1436, 7304, 4445, 7278, 478, 2003, 6318, 420, 4741, 4420, 7336, 1933, 5274, 6093, 6057, 2941, 2025, 2680, 1374, 986, 4537, 1523, 412, 7812, 5161, 2904, 3334, 1819, 223, 2515, 578, 5222, 6862, 227, 1693, 3926, 1821, 1322, 1909, 2862, 2131, 1309, 7594, 1769, 1283, 4474, 1715, 3292, 1890, 1890, 1888, 512, 7005, 1881, 5987, 4425, 1225, 2820, 5149, 1968, 4795, 4967, 3198, 5675, 6032, 1620, 1869, 3246, 3245, 3243, 2314, 1173, 4941, 3238, 1171, 6220, 5261, 1689, 4083, 3225, 7667, 3205, 5159]\n"
     ]
    }
   ],
   "source": [
    "for entry in entries:\n",
    "    print(str(entry))"
   ]
  },
  {
   "cell_type": "code",
   "execution_count": 57,
   "metadata": {
    "collapsed": true
   },
   "outputs": [],
   "source": [
    "entry_data = entry.split(':')"
   ]
  },
  {
   "cell_type": "code",
   "execution_count": 58,
   "metadata": {
    "collapsed": false
   },
   "outputs": [
    {
     "data": {
      "text/plain": [
       "['AdventuresOfHuckleberryFinnByMarkTwain.txt',\n",
       " '175',\n",
       " '[9798, 2799, 8447, 10885, 1949, 2636, 5675, 592, 8547, 9712, 6243, 919, 2438, 3370, 2956, 6281, 8644, 4482, 10022, 1621, 6225, 1129, 11798, 4824, 3356, 7538, 646, 11879, 2185, 2520, 897, 5137, 5579, 5738, 2018, 8795, 8677, 3137, 789, 1823, 3636, 7344, 5745, 11705, 738, 10677, 9537, 6265, 2464, 8130, 919, 1020, 8666, 3642, 4229, 11247, 4521, 4453, 8795, 2959, 10020, 5023, 6266, 666, 5574, 7548, 2466, 10729, 3866, 1693, 6848, 1965, 3747, 10931, 2437, 10970, 3912, 8218, 9399, 5883, 5008, 6417, 5125, 5115, 7570, 4454, 7562, 3368, 8679, 2594, 2039, 6341, 6074, 10388, 3274, 5136, 7494, 3739, 1964, 5351, 7343, 1857, 2533, 6826, 1382, 4621, 11449, 11890, 8656, 11960, 8663, 1781, 6298, 2634, 6310, 10576, 9150, 9426, 6913, 11472, 9045, 1493, 7065, 6699, 4304, 4023, 4465, 702, 7908, 11471, 1573, 4567, 8909, 8229, 3062, 4517, 9044, 11494, 11786, 1489, 5641, 8706, 2414, 4563, 1450, 1999, 583, 635, 7432, 8511, 8614, 4999, 8229, 9012, 6894, 8538, 6239, 7046, 11101, 3948, 9691, 4610, 332, 8384, 10945, 4224, 10203, 3914, 2954, 1811, 6987, 1788, 844, 9360, 7288]']"
      ]
     },
     "execution_count": 58,
     "metadata": {},
     "output_type": "execute_result"
    }
   ],
   "source": [
    "entry_data"
   ]
  },
  {
   "cell_type": "code",
   "execution_count": 59,
   "metadata": {
    "collapsed": true
   },
   "outputs": [],
   "source": [
    "# --> entry_data[0] = book\n",
    "#     entry_data[1] = count (grab all of these and sort)\n",
    "#     entry_data[2] = listing (which we can sort, since it's a list, but may need to parse with ast module)"
   ]
  },
  {
   "cell_type": "markdown",
   "metadata": {},
   "source": [
    "## Generalize the process that got us here"
   ]
  },
  {
   "cell_type": "code",
   "execution_count": 80,
   "metadata": {
    "collapsed": false
   },
   "outputs": [
    {
     "name": "stdout",
     "output_type": "stream",
     "text": [
      "squeeze\t5:AdventuresOfHuckleberryFinnByMarkTwain.txt\t[11584, 5775, 4292, 4821, 9823]\n",
      "squeeze\t1:AliceAdventuresinWonderlandbyLewisCarroll.txt\t[2951]\n",
      "witness\t10:AliceAdventuresinWonderlandbyLewisCarroll.txt\t[3056, 3076, 3080, 2902, 2903, 2940, 2905, 3075, 3047, 3045]\n",
      "witness\t2:DublinersbyJamesJoyce.txt\t[3574, 3483]\n",
      "made\t27:BeowulfbyJLesslieHall.txt\t[3763, 4064, 349, 3652, 4691, 964, 211, 277, 1887, 6521, 5187, 279, 5678, 2320, 1964, 4523, 1988, 6199, 5589, 1871, 4093, 5131, 5823, 1991, 1890, 3124, 661]\n",
      "made\t175:AdventuresOfHuckleberryFinnByMarkTwain.txt\t[9798, 2799, 8447, 10885, 1949, 2636, 5675, 592, 8547, 9712, 6243, 919, 2438, 3370, 2956, 6281, 8644, 4482, 10022, 1621, 6225, 1129, 11798, 4824, 3356, 7538, 646, 11879, 2185, 2520, 897, 5137, 5579, 5738, 2018, 8795, 8677, 3137, 789, 1823, 3636, 7344, 5745, 11705, 738, 10677, 9537, 6265, 2464, 8130, 919, 1020, 8666, 3642, 4229, 11247, 4521, 4453, 8795, 2959, 10020, 5023, 6266, 666, 5574, 7548, 2466, 10729, 3866, 1693, 6848, 1965, 3747, 10931, 2437, 10970, 3912, 8218, 9399, 5883, 5008, 6417, 5125, 5115, 7570, 4454, 7562, 3368, 8679, 2594, 2039, 6341, 6074, 10388, 3274, 5136, 7494, 3739, 1964, 5351, 7343, 1857, 2533, 6826, 1382, 4621, 11449, 11890, 8656, 11960, 8663, 1781, 6298, 2634, 6310, 10576, 9150, 9426, 6913, 11472, 9045, 1493, 7065, 6699, 4304, 4023, 4465, 702, 7908, 11471, 1573, 4567, 8909, 8229, 3062, 4517, 9044, 11494, 11786, 1489, 5641, 8706, 2414, 4563, 1450, 1999, 583, 635, 7432, 8511, 8614, 4999, 8229, 9012, 6894, 8538, 6239, 7046, 11101, 3948, 9691, 4610, 332, 8384, 10945, 4224, 10203, 3914, 2954, 1811, 6987, 1788, 844, 9360, 7288]\n",
      "made\t30:AliceAdventuresinWonderlandbyLewisCarroll.txt\t[2358, 385, 716, 3283, 2221, 374, 907, 1072, 2892, 801, 2839, 2518, 341, 2946, 2102, 3060, 2198, 3267, 50, 920, 827, 1433, 922, 2671, 1167, 2928, 835, 895, 144, 1464]\n",
      "made\t90:DublinersbyJamesJoyce.txt\t[5703, 2447, 5313, 1848, 5307, 1070, 6337, 1436, 7304, 4445, 7278, 478, 2003, 6318, 420, 4741, 4420, 7336, 1933, 5274, 6093, 6057, 2941, 2025, 2680, 1374, 986, 4537, 1523, 412, 7812, 5161, 2904, 3334, 1819, 223, 2515, 578, 5222, 6862, 227, 1693, 3926, 1821, 1322, 1909, 2862, 2131, 1309, 7594, 1769, 1283, 4474, 1715, 3292, 1890, 1890, 1888, 512, 7005, 1881, 5987, 4425, 1225, 2820, 5149, 1968, 4795, 4967, 3198, 5675, 6032, 1620, 1869, 3246, 3245, 3243, 2314, 1173, 4941, 3238, 1171, 6220, 5261, 1689, 4083, 3225, 7667, 3205, 5159]\n"
     ]
    }
   ],
   "source": [
    "for line in lines:\n",
    "    word_and_metadata = line.split('\\t')\n",
    "    #print(str(word_and_metadata) + '\\n')\n",
    "    \n",
    "    word = word_and_metadata[0]\n",
    "    metadata = word_and_metadata[1]\n",
    "    \n",
    "    entries = metadata.split(';')\n",
    "\n",
    "    for entry in entries:\n",
    "        entry_data = entry.split(':')\n",
    "        book = entry_data[0]\n",
    "        occurrences = entry_data[1]\n",
    "        listing = entry_data[2]\n",
    "    \n",
    "        print('%s\\t%s:%s\\t%s' % (word, occurrences, book, listing))"
   ]
  },
  {
   "cell_type": "code",
   "execution_count": 73,
   "metadata": {
    "collapsed": false
   },
   "outputs": [
    {
     "name": "stdout",
     "output_type": "stream",
     "text": [
      "squeeze\tAdventuresOfHuckleberryFinnByMarkTwain.txt:5:[11584, 5775, 4292, 4821, 9823];AliceAdventuresinWonderlandbyLewisCarroll.txt:1:[2951]\n",
      "\n",
      "witness\tAliceAdventuresinWonderlandbyLewisCarroll.txt:10:[3056, 3076, 3080, 2902, 2903, 2940, 2905, 3075, 3047, 3045];DublinersbyJamesJoyce.txt:2:[3574, 3483]\n",
      "\n",
      "made\tBeowulfbyJLesslieHall.txt:27:[3763, 4064, 349, 3652, 4691, 964, 211, 277, 1887, 6521, 5187, 279, 5678, 2320, 1964, 4523, 1988, 6199, 5589, 1871, 4093, 5131, 5823, 1991, 1890, 3124, 661];AdventuresOfHuckleberryFinnByMarkTwain.txt:175:[9798, 2799, 8447, 10885, 1949, 2636, 5675, 592, 8547, 9712, 6243, 919, 2438, 3370, 2956, 6281, 8644, 4482, 10022, 1621, 6225, 1129, 11798, 4824, 3356, 7538, 646, 11879, 2185, 2520, 897, 5137, 5579, 5738, 2018, 8795, 8677, 3137, 789, 1823, 3636, 7344, 5745, 11705, 738, 10677, 9537, 6265, 2464, 8130, 919, 1020, 8666, 3642, 4229, 11247, 4521, 4453, 8795, 2959, 10020, 5023, 6266, 666, 5574, 7548, 2466, 10729, 3866, 1693, 6848, 1965, 3747, 10931, 2437, 10970, 3912, 8218, 9399, 5883, 5008, 6417, 5125, 5115, 7570, 4454, 7562, 3368, 8679, 2594, 2039, 6341, 6074, 10388, 3274, 5136, 7494, 3739, 1964, 5351, 7343, 1857, 2533, 6826, 1382, 4621, 11449, 11890, 8656, 11960, 8663, 1781, 6298, 2634, 6310, 10576, 9150, 9426, 6913, 11472, 9045, 1493, 7065, 6699, 4304, 4023, 4465, 702, 7908, 11471, 1573, 4567, 8909, 8229, 3062, 4517, 9044, 11494, 11786, 1489, 5641, 8706, 2414, 4563, 1450, 1999, 583, 635, 7432, 8511, 8614, 4999, 8229, 9012, 6894, 8538, 6239, 7046, 11101, 3948, 9691, 4610, 332, 8384, 10945, 4224, 10203, 3914, 2954, 1811, 6987, 1788, 844, 9360, 7288];AliceAdventuresinWonderlandbyLewisCarroll.txt:30:[2358, 385, 716, 3283, 2221, 374, 907, 1072, 2892, 801, 2839, 2518, 341, 2946, 2102, 3060, 2198, 3267, 50, 920, 827, 1433, 922, 2671, 1167, 2928, 835, 895, 144, 1464];DublinersbyJamesJoyce.txt:90:[5703, 2447, 5313, 1848, 5307, 1070, 6337, 1436, 7304, 4445, 7278, 478, 2003, 6318, 420, 4741, 4420, 7336, 1933, 5274, 6093, 6057, 2941, 2025, 2680, 1374, 986, 4537, 1523, 412, 7812, 5161, 2904, 3334, 1819, 223, 2515, 578, 5222, 6862, 227, 1693, 3926, 1821, 1322, 1909, 2862, 2131, 1309, 7594, 1769, 1283, 4474, 1715, 3292, 1890, 1890, 1888, 512, 7005, 1881, 5987, 4425, 1225, 2820, 5149, 1968, 4795, 4967, 3198, 5675, 6032, 1620, 1869, 3246, 3245, 3243, 2314, 1173, 4941, 3238, 1171, 6220, 5261, 1689, 4083, 3225, 7667, 3205, 5159]\n",
      "\n"
     ]
    }
   ],
   "source": [
    "for line in lines:\n",
    "    print(line + '\\n')"
   ]
  },
  {
   "cell_type": "markdown",
   "metadata": {},
   "source": [
    "# Reducer for this output data\n"
   ]
  },
  {
   "cell_type": "code",
   "execution_count": 81,
   "metadata": {
    "collapsed": true
   },
   "outputs": [],
   "source": [
    "myinput = \"\"\"\"xxxiii\t2:BeowulfbyJLesslieHall.txt\t[5090, 158]\n",
    "xxxiv\t2:AdventuresOfHuckleberryFinnByMarkTwain.txt\t[9560, 136]\n",
    "xxxiv\t2:BeowulfbyJLesslieHall.txt\t[162, 5215]\n",
    "xxxix\t2:AdventuresOfHuckleberryFinnByMarkTwain.txt\t[151, 10896]\n",
    "xxxix\t2:BeowulfbyJLesslieHall.txt\t[182, 5943]\n",
    "xxxv\t2:AdventuresOfHuckleberryFinnByMarkTwain.txt\t[9832, 139]\n",
    "xxxv\t2:BeowulfbyJLesslieHall.txt\t[5341, 166]\n",
    "xxxvi\t2:AdventuresOfHuckleberryFinnByMarkTwain.txt\t[142, 10135]\n",
    "xxxvi\t2:BeowulfbyJLesslieHall.txt\t[5566, 170]\n",
    "xxxvii\t2:AdventuresOfHuckleberryFinnByMarkTwain.txt\t[145, 10344]\n",
    "xxxvii\t2:BeowulfbyJLesslieHall.txt\t[174, 5715]\n",
    "xxxviii\t2:AdventuresOfHuckleberryFinnByMarkTwain.txt\t[148, 10612]\n",
    "xxxviii\t2:BeowulfbyJLesslieHall.txt\t[178, 5829]\n",
    "y\t11:AdventuresOfHuckleberryFinnByMarkTwain.txt\t[2105, 4888, 2283, 7655, 2275, 11864, 10312, 3529, 6482, 3985, 8581]\n",
    "y\t1:BeowulfbyJLesslieHall.txt\t[6608]\n",
    "y\t2:DublinersbyJamesJoyce.txt\t[5036, 5017]\n",
    "ya\t1:DublinersbyJamesJoyce.txt\t[433]\n",
    "yacht\t3:DublinersbyJamesJoyce.txt\t[1337, 1310, 1315]\n",
    "yachting\t1:DublinersbyJamesJoyce.txt\t[1373]\n",
    "yahoos\t1:DublinersbyJamesJoyce.txt\t[5348]\n",
    "yaka\t3:DublinersbyJamesJoyce.txt\t[433, 433, 433]\n",
    "yaller\t11:AdventuresOfHuckleberryFinnByMarkTwain.txt\t[6868, 1289, 10438, 11014, 9552, 6874, 7978, 9361, 6906, 11048, 6910]\n",
    "yard\t11:AdventuresOfHuckleberryFinnByMarkTwain.txt\t[10347, 11155, 4064, 6129, 5557, 9367, 2225, 10033, 9016, 9666, 9012]\n",
    "yard\t1:AliceAdventuresinWonderlandbyLewisCarroll.txt\t[3357]\n",
    "yards\t18:AdventuresOfHuckleberryFinnByMarkTwain.txt\t[8870, 5160, 1667, 3250, 3652, 1776, 3247, 3393, 2878, 3983, 9354, 3453, 3125, 3262, 1805, 792, 3644, 2372]\n",
    "yards\t1:AliceAdventuresinWonderlandbyLewisCarroll.txt\t[1469]\n",
    "yards\t1:BeowulfbyJLesslieHall.txt\t[5315]\n",
    "yards\t2:DublinersbyJamesJoyce.txt\t[4902, 4265]\n",
    "yarlet\t1:AdventuresOfHuckleberryFinnByMarkTwain.txt\t[6483]\n",
    "yarn\t6:AdventuresOfHuckleberryFinnByMarkTwain.txt\t[8229, 2769, 11737, 5204, 3264, 11725]\n",
    "yarter\t1:AdventuresOfHuckleberryFinnByMarkTwain.txt\t[10813]\n",
    "yawl\t3:AdventuresOfHuckleberryFinnByMarkTwain.txt\t[6722, 6728, 6732]\n",
    "yawled\t1:AdventuresOfHuckleberryFinnByMarkTwain.txt\t[6731]\n",
    "yawn\t1:AdventuresOfHuckleberryFinnByMarkTwain.txt\t[5795]\n",
    "yawned\t2:AliceAdventuresinWonderlandbyLewisCarroll.txt\t[1117, 2641]\n",
    "yawning\t1:AdventuresOfHuckleberryFinnByMarkTwain.txt\t[5894]\n",
    "yawning\t1:BeowulfbyJLesslieHall.txt\t[5460]\n",
    "yawning\t1:DublinersbyJamesJoyce.txt\t[3621]\n",
    "yawning\t2:AliceAdventuresinWonderlandbyLewisCarroll.txt\t[1861, 1764]\n",
    "ye\t1:AliceAdventuresinWonderlandbyLewisCarroll.txt\t[864]\n",
    "ye\t24:BeowulfbyJLesslieHall.txt\t[5899, 5438, 1691, 1401, 6407, 1404, 1591, 1581, 1401, 1692, 6401, 1423, 1953, 1954, 1380, 1946, 3266, 1499, 1958, 6013, 1403, 1389, 1398, 5894]\n",
    "ye\t3:DublinersbyJamesJoyce.txt\t[4311, 5441, 4311]\n",
    "ye\t8:AdventuresOfHuckleberryFinnByMarkTwain.txt\t[8512, 8497, 10441, 10464, 11808, 8755, 8975, 11462]\n",
    "year\t21:DublinersbyJamesJoyce.txt\t[6046, 6584, 4637, 6481, 7018, 2469, 1955, 7484, 6338, 3830, 2431, 3398, 3293, 6381, 7009, 4437, 4450, 6124, 6537, 2424, 5978]\n",
    "year\t2:AliceAdventuresinWonderlandbyLewisCarroll.txt\t[1666, 1663]\n",
    "year\t39:AdventuresOfHuckleberryFinnByMarkTwain.txt\t[10149, 2288, 10160, 974, 7207, 4756, 9061, 8745, 2282, 595, 10483, 10416, 4730, 10690, 5980, 2588, 832, 5988, 7739, 6482, 6617, 10280, 9361, 5670, 10160, 4759, 10149, 8509, 10117, 2294, 6234, 7211, 11314, 7398, 11443, 5976, 7212, 2679, 2006]\n",
    "year\t3:BeowulfbyJLesslieHall.txt\t[50, 5593, 3096]\n",
    "year_\t1:AdventuresOfHuckleberryFinnByMarkTwain.txt\t[10086]\n",
    "yearly\t1:AdventuresOfHuckleberryFinnByMarkTwain.txt\t[1140]\n",
    "years\t14:BeowulfbyJLesslieHall.txt\t[4280, 1210, 573, 1993, 4743, 4292, 5656, 299, 4904, 6987, 3957, 344, 634, 1278]\n",
    "years\t22:AdventuresOfHuckleberryFinnByMarkTwain.txt\t[5340, 5416, 10682, 12346, 5622, 364, 2542, 7092, 10388, 10157, 10683, 10100, 9090, 11871, 9113, 9007, 575, 6542, 4976, 4483, 10112, 10109]\n",
    "years\t2:AliceAdventuresinWonderlandbyLewisCarroll.txt\t[3719, 3363]\n",
    "years\t37:DublinersbyJamesJoyce.txt\t[181, 6989, 3523, 7188, 7344, 1922, 2066, 2134, 7447, 2374, 7440, 3570, 3367, 1903, 5142, 5969, 2451, 5969, 5975, 3354, 1949, 3172, 5170, 7439, 7798, 1169, 3482, 3638, 981, 3118, 3530, 6449, 3569, 2085, 984, 8163, 6669]\n",
    "yell\t7:AdventuresOfHuckleberryFinnByMarkTwain.txt\t[4861, 6508, 4206, 6024, 5027, 6178, 11260]\n",
    "yelled\t1:AliceAdventuresinWonderlandbyLewisCarroll.txt\t[2575]\n",
    "yelled\t4:AdventuresOfHuckleberryFinnByMarkTwain.txt\t[8092, 2526, 11260, 5989]\n",
    "yelling\t1:BeowulfbyJLesslieHall.txt\t[317]\n",
    "yelling\t2:DublinersbyJamesJoyce.txt\t[2887, 431]\n",
    "yelling\t9:AdventuresOfHuckleberryFinnByMarkTwain.txt\t[6109, 4958, 5982, 2510, 1591, 8080, 9531, 11274, 4965]\n",
    "yellocute\t1:AdventuresOfHuckleberryFinnByMarkTwain.txt\t[8665]\n",
    "yellocution\t1:AdventuresOfHuckleberryFinnByMarkTwain.txt\t[8665]\n",
    "yellow\t1:AdventuresOfHuckleberryFinnByMarkTwain.txt\t[5895]\n",
    "yellow\t2:BeowulfbyJLesslieHall.txt\t[5584, 4843]\n",
    "yellow\t9:DublinersbyJamesJoyce.txt\t[2956, 6774, 6784, 3999, 1879, 4973, 624, 7401, 738]\n",
    "yellower\t1:AdventuresOfHuckleberryFinnByMarkTwain.txt\t[4460]\n",
    "yellowing\t1:DublinersbyJamesJoyce.txt\t[985]\n",
    "yells\t2:AdventuresOfHuckleberryFinnByMarkTwain.txt\t[6006, 8364]\n",
    "yelp\t1:AliceAdventuresinWonderlandbyLewisCarroll.txt\t[919]\n",
    "yer\t13:AdventuresOfHuckleberryFinnByMarkTwain.txt\t[6898, 3505, 3857, 3497, 5366, 6900, 7360, 9763, 7370, 6880, 10628, 4851, 6931]\n",
    "yer\t4:AliceAdventuresinWonderlandbyLewisCarroll.txt\t[808, 820, 825, 815]\n",
    "yerd\t1:AdventuresOfHuckleberryFinnByMarkTwain.txt\t[4890]\n",
    "yerra\t1:DublinersbyJamesJoyce.txt\t[4077]\n",
    "yers\t1:AdventuresOfHuckleberryFinnByMarkTwain.txt\t[9802]\n",
    "yes\t13:AliceAdventuresinWonderlandbyLewisCarroll.txt\t[2779, 1933, 2630, 2478, 1650, 659, 2038, 2435, 99, 2961, 2451, 1754, 1778]\n",
    "yes\t56:DublinersbyJamesJoyce.txt\t[7562, 7341, 4565, 3870, 6901, 2441, 2378, 5624, 6901, 3542, 5387, 7237, 841, 5692, 5826, 2056, 804, 5356, 5422, 7815, 7321, 5546, 7265, 3102, 303, 2431, 5486, 5695, 3910, 6943, 376, 7260, 5237, 2698, 7753, 5663, 5546, 6166, 5237, 3049, 2251, 927, 2691, 5480, 6036, 4187, 3766, 5636, 7791, 7791, 5295, 4097, 3725, 4646, 5295, 5512]\n",
    "yes\t95:AdventuresOfHuckleberryFinnByMarkTwain.txt\t[5343, 3307, 8313, 10766, 4909, 3618, 8223, 8919, 830, 4758, 7161, 7663, 2430, 10839, 6695, 11864, 7857, 6690, 5279, 9572, 2222, 10826, 2105, 9096, 4751, 8740, 8549, 9606, 5263, 3336, 10067, 2683, 9651, 7902, 9655, 9094, 6623, 5335, 11761, 6325, 2743, 10113, 3501, 1517, 7733, 11133, 6645, 10099, 3472, 8005, 2748, 9735, 6937, 8034, 3998, 1526, 3348, 10212, 6681, 8521, 4416, 2092, 7137, 8047, 6449, 9119, 2716, 8720, 3171, 10042, 5923, 1140, 4501, 6898, 5677, 10999, 7854, 10830, 2722, 10750, 3485, 4746, 11455, 1536, 9382, 2321, 7642, 9117, 9738, 5250, 8039, 7097, 9068, 2280, 6932]\n",
    "yesterday\t11:AdventuresOfHuckleberryFinnByMarkTwain.txt\t[11935, 10385, 11619, 6739, 4839, 4365, 8927, 2492, 11345, 5053, 8891]\n",
    "yesterday\t2:DublinersbyJamesJoyce.txt\t[4080, 3523]\n",
    "yesterday\t3:AliceAdventuresinWonderlandbyLewisCarroll.txt\t[304, 2694, 1927]\n",
    "yet\t21:DublinersbyJamesJoyce.txt\t[2874, 1741, 86, 5914, 1703, 7435, 4883, 5992, 1184, 2015, 7165, 5531, 7542, 847, 7047, 1735, 984, 3786, 7156, 3784, 773]\n",
    "yet\t25:AliceAdventuresinWonderlandbyLewisCarroll.txt\t[2863, 412, 3167, 2354, 768, 769, 1680, 3173, 1671, 1071, 1041, 3081, 838, 1524, 2308, 3248, 1051, 935, 3260, 986, 2899, 2899, 2093, 1804, 1061]\n",
    "yet\t30:BeowulfbyJLesslieHall.txt\t[2068, 3181, 2749, 5632, 6536, 4728, 5656, 4280, 2745, 3150, 6193, 2640, 3738, 3068, 4268, 4093, 6004, 5038, 3096, 1993, 6394, 2787, 4838, 6024, 5181, 5184, 3901, 4305, 6464, 221]\n",
    "yet\t60:AdventuresOfHuckleberryFinnByMarkTwain.txt\t[7412, 6949, 3958, 11692, 4795, 10714, 7323, 8872, 3674, 2413, 2689, 7722, 1956, 10232, 1555, 8686, 10889, 9640, 5483, 7835, 9554, 2623, 628, 7681, 6276, 10020, 9834, 4182, 8516, 8402, 11555, 11689, 7735, 3230, 10941, 3010, 11981, 8368, 4986, 7671, 2965, 1679, 10146, 11397, 3259, 3657, 7307, 2751, 9269, 4396, 5956, 11602, 7642, 1559, 11935, 5171, 9341, 2537, 7857, 10359]\n",
    "yield\t1:AdventuresOfHuckleberryFinnByMarkTwain.txt\t[5449]\n",
    "yield\t1:BeowulfbyJLesslieHall.txt\t[5803]\n",
    "yield\t1:DublinersbyJamesJoyce.txt\t[7607]\n",
    "yieldeth\t1:BeowulfbyJLesslieHall.txt\t[3525]\n",
    "yielding\t1:BeowulfbyJLesslieHall.txt\t[3546]\n",
    "yielding\t1:DublinersbyJamesJoyce.txt\t[7598]\n",
    "yirls\t2:AdventuresOfHuckleberryFinnByMarkTwain.txt\t[6625, 6632]\n",
    "yisterday\t1:AdventuresOfHuckleberryFinnByMarkTwain.txt\t[7585]\n",
    "yistiddy\t1:AdventuresOfHuckleberryFinnByMarkTwain.txt\t[10433]\n",
    "yit\t8:AdventuresOfHuckleberryFinnByMarkTwain.txt\t[1205, 8211, 4098, 3153, 3107, 1210, 2165, 3487]\n",
    "yldo\t1:BeowulfbyJLesslieHall.txt\t[3550]\n",
    "yo\t16:AdventuresOfHuckleberryFinnByMarkTwain.txt\t[1205, 3964, 2314, 10327, 1214, 3518, 2069, 2169, 11999, 4154, 2251, 5300, 4154, 1212, 3859, 3120]\n",
    "yonder\t1:BeowulfbyJLesslieHall.txt\t[6248]\n",
    "yonder\t24:AdventuresOfHuckleberryFinnByMarkTwain.txt\t[9202, 6468, 6835, 6480, 11353, 3992, 5130, 4004, 4063, 11210, 2197, 3384, 6929, 6946, 2371, 3071, 5427, 10124, 5106, 1724, 3183, 2696, 3021, 8169]\n",
    "yore\t11:BeowulfbyJLesslieHall.txt\t[4961, 6335, 2184, 6241, 5315, 4316, 4832, 3181, 3504, 2666, 1761]\n",
    "york\t1:BeowulfbyJLesslieHall.txt\t[47]\n",
    "you\t1555:AdventuresOfHuckleberryFinnByMarkTwain.txt\t[7499, 2370, 1253, 8442, 9930, 1257, 7139, 11759, 3083, 9928, 1831, 1257, 12170, 678, 1258, 9931, 6777, 5383, 9927, 1259, 2372, 12069, 1259, 4662, 678, 7906, 9570, 1260, 1260, 4107, 2373, 2774, 12170, 582, 4106, 3796, 4127, 1260, 4131, 4105, 8010, 679, 12068, 4131, 1261, 1261, 1261, 11331, 10330, 5377, 4132, 3153, 3083, 4132, 1262, 1262, 3043, 3604, 3083, 9574, 3383, 7495, 1236, 3692, 5370, 1271, 7256, 1272, 10386, 680, 9921, 2376, 9921, 3083, 582, 7737, 7128, 1273, 11325, 1274, 1274, 12167, 9918, 1231, 11325, 9938, 6199, 10330, 1276, 5369, 6198, 8425, 3084, 12222, 7904, 8463, 1277, 12225, 11325, 1278, 7257, 2381, 12070, 9007, 11357, 7124, 11778, 10390, 9551, 3334, 4087, 12165, 8421, 2756, 9006, 9006, 2794, 7818, 1284, 7914, 4643, 2381, 2794, 12222, 7823, 1284, 4154, 1285, 1218, 12171, 4154, 3082, 7120, 4085, 1286, 6188, 8419, 2795, 4085, 1217, 1286, 9941, 2795, 2383, 1286, 4084, 1287, 1287, 2795, 1807, 7915, 1216, 7116, 11782, 10452, 5435, 1216, 9944, 5435, 6953, 3150, 2797, 5436, 1214, 5437, 7915, 10129, 2797, 12071, 1298, 3156, 9045, 11367, 1298, 6180, 6971, 2797, 10451, 2797, 11783, 1213, 5440, 12110, 1302, 6178, 2741, 1213, 6177, 9047, 3510, 2741, 6177, 1212, 6176, 3620, 3801, 2799, 7356, 7916, 2799, 6174, 9051, 2799, 6172, 1211, 1211, 1305, 6953, 2800, 6172, 9948, 1305, 7999, 9949, 7899, 4074, 6171, 1306, 7153, 8011, 11312, 4074, 4073, 7112, 5344, 6170, 3801, 4631, 1311, 5343, 6264, 6170, 3623, 7824, 4070, 7899, 7916, 4070, 7771, 6169, 7999, 4070, 9906, 6169, 2731, 4630, 5339, 5339, 3156, 5339, 7772, 4067, 5339, 1313, 4067, 7899, 5456, 10331, 4691, 1314, 4066, 11793, 6271, 8497, 9594, 5333, 8986, 7697, 11794, 5331, 12066, 1319, 6163, 5331, 8985, 3146, 6162, 1321, 2397, 4062, 4061, 7775, 1321, 7898, 6162, 10953, 12221, 6161, 1322, 3081, 8012, 8505, 8507, 3792, 2399, 7159, 7625, 1325, 10399, 5324, 2400, 12236, 3145, 2716, 4059, 8984, 609, 4704, 10578, 5322, 4059, 7779, 10319, 1329, 8984, 1329, 3498, 7626, 6156, 5319, 6156, 6154, 8983, 1196, 9969, 6767, 4708, 5314, 7897, 7998, 8981, 6152, 6152, 8980, 12089, 4058, 5314, 4057, 4057, 6150, 5466, 7897, 10188, 3081, 8980, 4189, 6150, 5309, 12176, 6149, 10738, 4189, 6144, 4712, 6144, 4056, 1778, 4718, 4056, 5309, 3802, 4055, 4617, 4718, 12227, 3323, 12120, 2817, 7263, 4055, 8974, 3157, 7163, 3697, 9072, 8516, 9886, 9073, 9886, 4614, 628, 3698, 11803, 3364, 4614, 4614, 9885, 10742, 3452, 8518, 10744, 8518, 5476, 8013, 12076, 9074, 8972, 4048, 4048, 8972, 9075, 2823, 3160, 8972, 3698, 9884, 6128, 3803, 4047, 7997, 7997, 8381, 12065, 7173, 2828, 610, 8381, 6987, 2828, 4043, 3160, 4042, 8524, 7996, 8525, 9882, 4042, 8525, 9081, 7627, 11806, 768, 11807, 9881, 4039, 8044, 10750, 10398, 1895, 7627, 8367, 2318, 7597, 9089, 8530, 1761, 4607, 825, 4607, 8530, 11815, 11815, 7996, 6989, 11694, 7922, 1170, 10999, 1170, 10942, 10398, 9091, 11816, 1170, 8960, 8531, 7593, 11816, 2850, 1170, 7890, 4026, 8955, 3384, 9092, 8955, 2850, 12157, 8954, 8954, 12243, 4026, 1169, 7922, 11402, 5277, 7995, 11402, 10761, 2422, 3515, 2856, 1164, 8354, 7592, 8536, 11821, 12063, 5274, 10761, 7890, 11407, 5273, 2857, 12063, 9873, 3807, 2426, 2691, 5271, 2858, 4017, 3787, 2691, 4016, 2858, 11687, 2859, 6334, 8943, 9872, 2859, 9872, 3699, 7512, 4596, 1153, 8943, 7363, 1152, 6996, 10768, 6338, 5508, 10768, 5268, 1152, 5266, 11825, 1150, 5513, 3385, 9869, 8351, 5513, 830, 5266, 8942, 10938, 2862, 7180, 2302, 7089, 12182, 9512, 1146, 12078, 8941, 5262, 10769, 4767, 5516, 6826, 11010, 6087, 2680, 11011, 1743, 3786, 8562, 2679, 1742, 10769, 6085, 1145, 10770, 5262, 6084, 6084, 10770, 6826, 12239, 5518, 2864, 7591, 610, 11013, 8566, 10771, 11278, 3996, 5259, 5520, 5521, 11013, 1378, 10389, 8344, 2298, 11278, 8569, 7324, 8570, 10935, 1142, 1142, 10671, 7003, 10935, 1141, 1141, 8574, 10670, 8575, 8930, 10410, 2867, 7768, 8577, 8577, 9992, 10332, 1135, 8335, 5534, 2869, 1135, 2869, 7810, 11019, 8334, 3985, 5535, 2870, 9858, 5535, 8334, 2870, 9993, 11675, 7184, 12102, 4254, 8585, 8333, 7004, 12199, 8585, 5247, 7808, 2872, 398, 11835, 7004, 4259, 12182, 2873, 3048, 3700, 6358, 3377, 8590, 9857, 10665, 5241, 8590, 8593, 11025, 4263, 2669, 8593, 10932, 4263, 2874, 3977, 10781, 8595, 3024, 3977, 7082, 12079, 3976, 4263, 7808, 8596, 9495, 2875, 7883, 9856, 4268, 11025, 2875, 6359, 4268, 9122, 2666, 9123, 9124, 8601, 4269, 7807, 2876, 3969, 4269, 9494, 4270, 7807, 8602, 3701, 1121, 7080, 5225, 4271, 10441, 8605, 3515, 8608, 8608, 8608, 5220, 10787, 2663, 10787, 7585, 4278, 9131, 4278, 10787, 9491, 1113, 11031, 9139, 12184, 8618, 8618, 8321, 10929, 7323, 4279, 8618, 7878, 8619, 8620, 3571, 639, 5208, 3571, 4284, 6388, 2997, 2280, 8621, 10572, 9852, 4289, 8621, 3750, 4290, 2278, 11038, 3702, 7199, 10926, 2278, 8622, 12101, 6405, 6405, 3385, 5204, 4292, 12153, 7637, 10792, 7079, 8623, 5203, 6410, 5202, 1707, 6794, 8625, 3507, 2273, 8625, 5202, 7749, 1705, 5201, 3703, 10651, 12229, 2269, 8626, 3187, 7256, 3752, 1705, 7801, 4810, 1422, 1422, 11862, 2263, 3752, 11864, 8631, 9473, 11438, 3050, 4555, 6020, 1700, 3120, 3503, 10795, 8302, 11864, 6020, 5196, 10796, 9847, 9469, 2258, 10796, 10872, 3781, 12255, 9153, 6019, 2256, 6421, 9648, 9154, 426, 9157, 11870, 9157, 8633, 8634, 11870, 12100, 8634, 3565, 12151, 12055, 2254, 2252, 8291, 2251, 8636, 8287, 6431, 3752, 6009, 2250, 8284, 10333, 3781, 2250, 4304, 2250, 6009, 3565, 6008, 1074, 10801, 8283, 1074, 5172, 12234, 7257, 10327, 3168, 9166, 5171, 3753, 7017, 5997, 5997, 6437, 9167, 9167, 5171, 9168, 3930, 9457, 2248, 1438, 9457, 12189, 7580, 3929, 6439, 3929, 1068, 11879, 3928, 3928, 10804, 1067, 1067, 8276, 1440, 1974, 2248, 10308, 9454, 1974, 7018, 3926, 3926, 9454, 1975, 7018, 10809, 2246, 10327, 10635, 1059, 1059, 7798, 6796, 9838, 7936, 9453, 7279, 3923, 1057, 4836, 1056, 3778, 3923, 9452, 4836, 9188, 6461, 6919, 8266, 9450, 5612, 6918, 5151, 9448, 3171, 11454, 5151, 8039, 9448, 9448, 12128, 10630, 9193, 12097, 905, 10455, 11230, 4850, 7735, 10628, 4324, 11621, 3778, 10817, 3560, 2624, 5619, 11228, 11228, 7768, 3914, 4325, 11615, 3482, 4327, 3754, 7798, 2234, 11060, 11227, 7845, 4331, 2233, 1040, 2621, 12191, 716, 2233, 10622, 10622, 4332, 6474, 4332, 7845, 1034, 1666, 10335, 10526, 10394, 11464, 5133, 1034, 9430, 5132, 5132, 7023, 9430, 9428, 9821, 4865, 11220, 717, 7797, 8247, 11220, 10820, 8021, 6492, 4865, 10389, 9820, 4866, 6496, 10821, 8240, 7, 8239, 3505, 7943, 10526, 4866, 2615, 5634, 10053, 10333, 5634, 1657, 9426, 718, 3754, 8239, 8238, 9213, 3106, 1654, 2491, 11469, 4868, 2491, 1652, 3754, 3755, 3106, 2610, 718, 3461, 10055, 7849, 719, 6909, 5116, 6908, 2222, 12095, 3467, 4351, 10055, 4869, 2493, 1646, 6738, 10254, 2220, 9424, 10055, 4357, 9421, 8228, 722, 11906, 2219, 9417, 4358, 722, 11908, 4873, 9416, 4358, 6902, 4875, 11910, 3106, 4359, 11534, 5109, 3107, 11205, 1640, 11910, 11910, 5108, 12194, 9808, 5108, 5107, 7752, 11474, 4877, 3052, 7774, 3889, 9416, 11203, 11917, 1010, 2215, 1009, 5945, 5106, 11203, 10828, 6524, 7024, 11921, 11921, 2215, 2498, 7574, 9414, 11201, 10333, 2498, 5942, 5103, 6799, 11925, 2213, 6527, 7796, 2590, 9410, 2212, 4885, 6736, 2498, 7339, 2499, 11199, 5095, 8212, 11930, 4373, 11932, 4373, 6900, 12049, 5092, 5090, 5088, 11933, 11590, 11590, 10830, 5087, 10075, 11590, 7385, 5938, 10830, 11193, 5085, 5085, 10830, 4895, 4895, 7026, 8202, 4383, 6547, 7026, 10831, 8201, 5083, 5933, 6734, 8687, 8687, 2990, 4383, 7864, 4385, 5081, 12261, 4385, 10831, 9394, 5078, 9394, 8688, 10078, 4386, 3644, 2990, 12197, 10317, 3758, 9798, 4387, 7730, 3860, 9798, 3860, 8689, 11079, 9798, 9393, 4388, 11079, 4389, 3772, 7228, 5923, 2990, 5923, 4389, 10092, 794, 5921, 7791, 3858, 10092, 3713, 6565, 9261, 5919, 4391, 9261, 5918, 9791, 4902, 9261, 3857, 10834, 5917, 7791, 5917, 5059, 5916, 10834, 8817, 9392, 3856, 3758, 9271, 3855, 5911, 9783, 8034, 12230, 9271, 7655, 9272, 7863, 10099, 3769, 9277, 10835, 11490, 7851, 5048, 11491, 7851, 10836, 9388, 9280, 10100, 2067, 5047, 2068, 3846, 4909, 9281, 9385, 6582, 8177, 5041, 9383, 11493, 6587, 8805, 5040, 8034, 10209, 8026, 7244, 2516, 11087, 10408, 12130, 10589, 9768, 5037, 12233, 5037, 2979, 7779, 7748, 9382, 7656, 5036, 7656, 7033, 10210, 5036, 3386, 10144, 3228, 7852, 7245, 6598, 11088, 2079, 5030, 2079, 11966, 3110, 11088, 10292, 11966, 8167, 6600, 11570, 6601, 8167, 9376, 8028, 9293, 2082, 11967, 11499, 4927, 2086, 11968, 12237, 2188, 5712, 9294, 11500, 10337, 4933, 9756, 2088, 10146, 2094, 611, 4414, 4418, 2098, 4420, 3506, 2098, 4420, 9295, 3769, 10847, 9296, 10847, 4935, 2100, 12043, 11562, 2186, 11970, 8725, 4426, 2105, 12237, 2105, 860, 4426, 11160, 8727, 11562, 2105, 7656, 11504, 7246, 12087, 11562, 10172, 2106, 8150, 12231, 7657, 11159, 3511, 8146, 11158, 7861, 10854, 8732, 9705, 8792, 8792, 11158, 12264, 12040, 12091, 8791, 3531, 9311, 8137, 3373, 11508, 11508, 11509, 8137, 12039, 9311, 7781, 7383, 4944, 9742, 870, 8083, 5740, 5741, 871, 6625, 5743, 12039, 4474, 12038, 9735, 10859, 8083, 11523, 6879, 8745, 9313, 12232, 6714, 10859, 9313, 4946, 11148, 10859, 9317, 1530, 4947, 5754, 7041, 7728, 12232, 2121, 9732, 10567, 8754, 7042, 11147, 8754, 5763, 7968, 2126, 5763, 5801, 6804, 876, 5767, 3226, 2126, 11143, 12224, 9324, 10168, 6636, 10861, 9328, 2135, 2173, 2135, 1538, 882, 8030, 11997, 7858, 7743, 6640, 2136, 11135, 4445, 6643, 6643, 11530, 2140, 11131, 11998, 2144, 11530, 2144, 2170, 11999, 887, 10866, 10384, 12033, 2144, 10866, 2144, 11999, 2144, 3762, 7046, 1542, 2544, 3305, 11532, 7858, 3055, 11114, 2153, 11533, 4461, 3263, 470, 3766, 3525, 895, 8031, 1553, 7042, 4455, 896, 3525, 3529, 896, 6673, 907, 11122, 3187, 904, 3527, 10383, 6684, 11118, 7269, 898, 2162, 906, 3352, 8008, 1252, 7135, 1252, 1706]\n",
    "you\t481:AliceAdventuresinWonderlandbyLewisCarroll.txt\t[2971, 2296, 986, 987, 3606, 2295, 2293, 2293, 2292, 987, 3604, 3604, 2279, 988, 3603, 3278, 122, 2267, 1215, 3601, 989, 1211, 2981, 2669, 3600, 3599, 3599, 370, 2989, 371, 3598, 2242, 3597, 2236, 2235, 2234, 2674, 2231, 3596, 119, 3593, 2216, 391, 2216, 2216, 118, 3592, 3005, 3005, 3590, 2201, 155, 996, 3010, 996, 1344, 2194, 2678, 2189, 117, 2633, 3588, 3588, 406, 3014, 3587, 1001, 409, 409, 2616, 2620, 412, 412, 413, 1001, 420, 1211, 427, 427, 429, 429, 2150, 3023, 431, 3023, 433, 3028, 1179, 2132, 2688, 2124, 440, 2118, 443, 444, 3038, 1325, 3564, 2693, 110, 110, 2620, 3562, 2105, 109, 1210, 3559, 3556, 1024, 465, 108, 1025, 3287, 1025, 470, 470, 3554, 1313, 475, 476, 3549, 1312, 485, 489, 1035, 3547, 495, 2062, 2062, 1039, 3546, 2055, 505, 516, 2033, 3539, 2023, 528, 2620, 529, 3076, 2013, 2012, 1041, 3535, 3533, 1042, 542, 3533, 1986, 2707, 3529, 3527, 557, 559, 1294, 1294, 1294, 1294, 1049, 3519, 581, 581, 582, 1948, 1947, 1945, 589, 1941, 1941, 601, 3515, 1927, 1926, 634, 639, 639, 642, 3513, 651, 653, 654, 95, 1051, 664, 666, 1881, 1878, 1875, 1874, 1874, 675, 2620, 676, 1286, 683, 2620, 1202, 1284, 1851, 688, 1850, 2621, 3122, 1057, 3491, 1831, 1823, 2728, 1823, 3489, 1059, 712, 1807, 1807, 1793, 1780, 1774, 3481, 1061, 1202, 1761, 1757, 3153, 1062, 1200, 3158, 1734, 1732, 1728, 1726, 1721, 1718, 2621, 1716, 1715, 1069, 1713, 2621, 3471, 1706, 3306, 1705, 1704, 1698, 1695, 1692, 1692, 2623, 1689, 769, 1680, 2854, 1672, 3463, 1662, 1071, 3462, 780, 1656, 3461, 780, 781, 3177, 1072, 3307, 1651, 3459, 1645, 1076, 1077, 2753, 3457, 1633, 799, 1629, 1626, 1623, 1621, 1618, 1618, 806, 3453, 1613, 1613, 1613, 1604, 817, 3450, 1595, 1593, 3449, 826, 826, 3196, 2621, 3197, 3197, 842, 1090, 3441, 843, 2850, 2627, 3440, 3205, 1551, 1550, 2621, 1548, 3438, 858, 1093, 3213, 860, 865, 3218, 1100, 1526, 868, 3433, 1520, 1520, 871, 1102, 1514, 3432, 871, 1510, 3431, 1508, 1508, 3430, 1505, 1505, 1503, 2776, 1501, 3226, 2776, 1500, 1496, 3229, 881, 2779, 3428, 1192, 1488, 3427, 1488, 3230, 1484, 1480, 3425, 1477, 3425, 3235, 3238, 3315, 3416, 1158, 2783, 1452, 1112, 1451, 2783, 3411, 3401, 3320, 1119, 3260, 3399, 1421, 1421, 2787, 1119, 3397, 2634, 3397, 2607, 2605, 2605, 2605, 2605, 2605, 161, 2604, 2604, 2604, 2604, 2639, 2604, 2602, 2598, 2591, 2589, 2584, 179, 179, 179, 3396, 181, 3263, 182, 2568, 1224, 2564, 2564, 3263, 2556, 2552, 2548, 2543, 202, 2541, 2540, 1382, 2523, 1222, 2910, 2910, 2506, 218, 2494, 2484, 2481, 2480, 2476, 2461, 2446, 2439, 2435, 260, 3631, 262, 262, 262, 2429, 2427, 2649, 2938, 2424, 1373, 3628, 2416, 965, 285, 2652, 2404, 286, 2652, 287, 2652, 3391, 2395, 2385, 3622, 298, 972, 2951, 2370, 2365, 2362, 2956, 2354, 2958, 2958, 4, 3272, 2331, 2330, 126, 976, 3610, 1362, 3274, 986, 2307, 2299, 2970, 1697]\n",
    "you\t526:DublinersbyJamesJoyce.txt\t[6800, 8035, 8034, 1461, 285, 6120, 6142, 1466, 5428, 4970, 6124, 1472, 307, 308, 6997, 6163, 308, 308, 4273, 4964, 3311, 5579, 6231, 8012, 8074, 4031, 6162, 1428, 1484, 1964, 1964, 8010, 4612, 7523, 4310, 7486, 8007, 8004, 5093, 8002, 7484, 336, 1424, 338, 4956, 6928, 5903, 342, 5903, 7997, 345, 1420, 351, 5441, 5340, 7995, 7995, 4644, 2513, 6262, 7989, 4050, 94, 6916, 6916, 6086, 374, 376, 5372, 1519, 1519, 7984, 7983, 7544, 7263, 7983, 8056, 7263, 7548, 4245, 1413, 7980, 1537, 5304, 7978, 6283, 3106, 6283, 7560, 5604, 1541, 1541, 3097, 6291, 400, 7258, 3096, 1542, 5604, 1408, 3094, 2439, 5420, 3540, 7970, 6296, 7468, 3085, 3085, 5299, 3085, 6890, 5093, 2507, 3079, 3078, 3697, 2507, 7966, 1549, 3071, 7324, 2058, 3065, 7964, 3065, 6885, 4330, 3056, 2067, 6883, 3051, 7744, 7325, 4768, 2505, 3039, 4330, 4332, 5612, 7575, 2081, 7332, 4333, 3004, 4333, 453, 454, 3003, 460, 4333, 4218, 2503, 7943, 464, 2986, 6345, 465, 6346, 466, 7941, 4212, 107, 7590, 3734, 5618, 4208, 3739, 7933, 6002, 6847, 1586, 4335, 3748, 4682, 7725, 1592, 5621, 2501, 1003, 3751, 3751, 1592, 7923, 4019, 5459, 121, 5541, 5460, 4533, 7915, 7605, 7914, 7913, 3762, 3764, 7910, 3766, 5370, 4892, 7224, 7908, 2916, 4691, 2142, 5632, 7904, 5461, 2151, 4695, 4188, 7902, 535, 7900, 4885, 2157, 2896, 2157, 2157, 4883, 2895, 3784, 2495, 807, 1843, 1843, 3791, 4005, 7892, 5643, 3796, 7891, 7624, 6131, 7889, 3806, 6417, 5843, 7884, 7883, 132, 3813, 6430, 7882, 6431, 7881, 6436, 6436, 7879, 3816, 2848, 2847, 7878, 5349, 2847, 2847, 6795, 2488, 2846, 2846, 5509, 7876, 4164, 2846, 6043, 7876, 5535, 2845, 2845, 6437, 5706, 4160, 4158, 2829, 7867, 2829, 937, 2827, 7643, 3829, 2206, 7861, 2206, 4153, 7853, 3836, 2210, 2210, 2211, 7850, 921, 5822, 7849, 3839, 4863, 7849, 7848, 4029, 4147, 2223, 4010, 2226, 6466, 2228, 7654, 4860, 2790, 7843, 6468, 614, 2233, 2487, 2233, 6474, 6474, 6481, 4853, 7660, 7366, 6489, 4136, 6495, 2767, 4846, 5526, 3868, 5353, 4844, 629, 4130, 6498, 2260, 2260, 3872, 2760, 4843, 2759, 2262, 7369, 6505, 7171, 6055, 5667, 2485, 2263, 6506, 5354, 6508, 4723, 5668, 2270, 2272, 4723, 4020, 6749, 6520, 5385, 7373, 4724, 2282, 4724, 6741, 3896, 5116, 3896, 6741, 6741, 3899, 2480, 2291, 6735, 5356, 2717, 6732, 6644, 2712, 2712, 6732, 6729, 4109, 667, 5250, 880, 3910, 2696, 880, 2696, 2304, 2304, 5519, 6723, 2694, 2305, 2694, 4104, 2305, 4013, 2693, 8068, 2688, 3913, 1789, 2687, 1789, 2686, 2681, 6551, 2680, 2680, 7389, 6646, 5779, 2680, 4102, 5017, 3919, 2316, 6559, 5491, 4102, 6561, 2318, 6561, 868, 2318, 5244, 6660, 4100, 2325, 2657, 2325, 3929, 6660, 5681, 5518, 2332, 7695, 6575, 6575, 5715, 6579, 4, 149, 5767, 4016, 2338, 2626, 2343, 5101, 2348, 4085, 3949, 5101, 3950, 4084, 4083, 3952, 3952, 4082, 152, 6697, 2367, 2368, 2371, 2372, 2373, 2468, 4076, 3967, 4072, 2386, 3970, 3971, 2387, 4406, 2387, 2388, 2404, 2409, 2409, 5372, 2410, 3979, 5502, 3984, 3984, 2418, 5212, 821, 819, 5733, 8052, 5503, 8050, 8050, 4996, 8049, 5000, 5333, 6177, 4991, 8077, 8047, 3249, 5556, 3248, 8046, 6183, 8045, 5334, 8045, 4296, 8044, 6189, 6995, 8043, 8042, 2428, 8040, 8038, 6196, 6197, 8037, 4285, 4282, 8035]\n",
    "you\t91:BeowulfbyJLesslieHall.txt\t[6718, 6406, 6899, 6709, 6708, 6706, 6721, 1952, 6693, 6693, 6896, 6396, 6701, 6695, 6759, 1540, 6700, 6781, 6699, 6659, 6698, 6696, 1540, 6783, 6890, 6725, 6679, 1982, 6878, 6787, 6874, 6872, 6727, 6872, 6012, 6871, 6729, 6669, 6730, 6869, 6731, 6868, 6867, 6867, 6866, 6795, 6865, 6667, 6757, 6797, 6864, 1496, 1971, 1971, 6665, 6861, 6739, 6665, 6860, 6822, 1948, 6858, 6817, 3490, 3490, 6856, 6856, 6664, 4, 6855, 6801, 1966, 1942, 1500, 6801, 1689, 2080, 6832, 6749, 2085, 6803, 6814, 2085, 6815, 6830, 6807, 6827, 6824, 6717, 6026, 6684]\n",
    "you_\t1:DublinersbyJamesJoyce.txt\t[780]\n",
    "young\t111:DublinersbyJamesJoyce.txt\t[7645, 135, 4948, 3198, 1280, 939, 4507, 940, 1724, 6253, 2522, 941, 135, 5026, 1823, 1345, 1826, 1641, 4565, 6410, 6248, 6247, 4956, 6405, 2886, 1369, 1620, 6241, 3170, 1158, 3769, 2419, 6235, 2929, 1611, 3213, 4195, 5074, 6841, 1853, 2950, 3205, 2951, 6367, 1854, 2954, 4998, 4202, 1854, 1577, 1855, 5289, 1570, 1856, 1732, 1859, 1031, 4666, 5215, 1155, 1757, 6313, 5296, 4993, 1455, 1867, 422, 1163, 5029, 5022, 3209, 1918, 4937, 6288, 2615, 7703, 4817, 1240, 3684, 6273, 3397, 3196, 6271, 1950, 1265, 1259, 1750, 1693, 7804, 4429, 1768, 6061, 1717, 6267, 1320, 7675, 3198, 4946, 644, 1156, 6049, 1258, 608, 4713, 1159, 915, 4624, 915, 4799, 931, 4652]\n",
    "young\t12:BeowulfbyJLesslieHall.txt\t[966, 3173, 1087, 6004, 4593, 979, 4280, 5669, 5303, 5332, 4427, 3249]\n",
    "young\t57:AdventuresOfHuckleberryFinnByMarkTwain.txt\t[4531, 9470, 6708, 394, 4397, 5557, 4959, 4902, 6059, 4697, 4975, 4307, 6477, 6591, 5273, 11807, 6856, 4497, 4541, 4990, 6596, 2228, 6625, 4519, 7361, 4364, 7758, 4581, 4531, 2225, 5236, 4985, 4534, 6052, 4312, 8353, 10438, 4678, 5071, 6583, 5586, 4938, 4680, 6667, 340, 5531, 5219, 4933, 4398, 5584, 2227, 6578, 5584, 7489, 4492, 4523, 4510]\n",
    "young\t5:AliceAdventuresinWonderlandbyLewisCarroll.txt\t[665, 1039, 1765, 2400, 2371]\"\"\""
   ]
  },
  {
   "cell_type": "code",
   "execution_count": 85,
   "metadata": {
    "collapsed": false
   },
   "outputs": [],
   "source": [
    "#myinput"
   ]
  },
  {
   "cell_type": "code",
   "execution_count": 83,
   "metadata": {
    "collapsed": true
   },
   "outputs": [],
   "source": [
    "lines = myinput.split('\\n')"
   ]
  },
  {
   "cell_type": "code",
   "execution_count": 84,
   "metadata": {
    "collapsed": false
   },
   "outputs": [
    {
     "data": {
      "text/plain": [
       "['\"xxxiii\\t2:BeowulfbyJLesslieHall.txt\\t[5090, 158]',\n",
       " 'xxxiv\\t2:AdventuresOfHuckleberryFinnByMarkTwain.txt\\t[9560, 136]',\n",
       " 'xxxiv\\t2:BeowulfbyJLesslieHall.txt\\t[162, 5215]',\n",
       " 'xxxix\\t2:AdventuresOfHuckleberryFinnByMarkTwain.txt\\t[151, 10896]',\n",
       " 'xxxix\\t2:BeowulfbyJLesslieHall.txt\\t[182, 5943]',\n",
       " 'xxxv\\t2:AdventuresOfHuckleberryFinnByMarkTwain.txt\\t[9832, 139]',\n",
       " 'xxxv\\t2:BeowulfbyJLesslieHall.txt\\t[5341, 166]',\n",
       " 'xxxvi\\t2:AdventuresOfHuckleberryFinnByMarkTwain.txt\\t[142, 10135]',\n",
       " 'xxxvi\\t2:BeowulfbyJLesslieHall.txt\\t[5566, 170]',\n",
       " 'xxxvii\\t2:AdventuresOfHuckleberryFinnByMarkTwain.txt\\t[145, 10344]',\n",
       " 'xxxvii\\t2:BeowulfbyJLesslieHall.txt\\t[174, 5715]',\n",
       " 'xxxviii\\t2:AdventuresOfHuckleberryFinnByMarkTwain.txt\\t[148, 10612]',\n",
       " 'xxxviii\\t2:BeowulfbyJLesslieHall.txt\\t[178, 5829]',\n",
       " 'y\\t11:AdventuresOfHuckleberryFinnByMarkTwain.txt\\t[2105, 4888, 2283, 7655, 2275, 11864, 10312, 3529, 6482, 3985, 8581]',\n",
       " 'y\\t1:BeowulfbyJLesslieHall.txt\\t[6608]',\n",
       " 'y\\t2:DublinersbyJamesJoyce.txt\\t[5036, 5017]',\n",
       " 'ya\\t1:DublinersbyJamesJoyce.txt\\t[433]',\n",
       " 'yacht\\t3:DublinersbyJamesJoyce.txt\\t[1337, 1310, 1315]',\n",
       " 'yachting\\t1:DublinersbyJamesJoyce.txt\\t[1373]',\n",
       " 'yahoos\\t1:DublinersbyJamesJoyce.txt\\t[5348]',\n",
       " 'yaka\\t3:DublinersbyJamesJoyce.txt\\t[433, 433, 433]',\n",
       " 'yaller\\t11:AdventuresOfHuckleberryFinnByMarkTwain.txt\\t[6868, 1289, 10438, 11014, 9552, 6874, 7978, 9361, 6906, 11048, 6910]',\n",
       " 'yard\\t11:AdventuresOfHuckleberryFinnByMarkTwain.txt\\t[10347, 11155, 4064, 6129, 5557, 9367, 2225, 10033, 9016, 9666, 9012]',\n",
       " 'yard\\t1:AliceAdventuresinWonderlandbyLewisCarroll.txt\\t[3357]',\n",
       " 'yards\\t18:AdventuresOfHuckleberryFinnByMarkTwain.txt\\t[8870, 5160, 1667, 3250, 3652, 1776, 3247, 3393, 2878, 3983, 9354, 3453, 3125, 3262, 1805, 792, 3644, 2372]',\n",
       " 'yards\\t1:AliceAdventuresinWonderlandbyLewisCarroll.txt\\t[1469]',\n",
       " 'yards\\t1:BeowulfbyJLesslieHall.txt\\t[5315]',\n",
       " 'yards\\t2:DublinersbyJamesJoyce.txt\\t[4902, 4265]',\n",
       " 'yarlet\\t1:AdventuresOfHuckleberryFinnByMarkTwain.txt\\t[6483]',\n",
       " 'yarn\\t6:AdventuresOfHuckleberryFinnByMarkTwain.txt\\t[8229, 2769, 11737, 5204, 3264, 11725]',\n",
       " 'yarter\\t1:AdventuresOfHuckleberryFinnByMarkTwain.txt\\t[10813]',\n",
       " 'yawl\\t3:AdventuresOfHuckleberryFinnByMarkTwain.txt\\t[6722, 6728, 6732]',\n",
       " 'yawled\\t1:AdventuresOfHuckleberryFinnByMarkTwain.txt\\t[6731]',\n",
       " 'yawn\\t1:AdventuresOfHuckleberryFinnByMarkTwain.txt\\t[5795]',\n",
       " 'yawned\\t2:AliceAdventuresinWonderlandbyLewisCarroll.txt\\t[1117, 2641]',\n",
       " 'yawning\\t1:AdventuresOfHuckleberryFinnByMarkTwain.txt\\t[5894]',\n",
       " 'yawning\\t1:BeowulfbyJLesslieHall.txt\\t[5460]',\n",
       " 'yawning\\t1:DublinersbyJamesJoyce.txt\\t[3621]',\n",
       " 'yawning\\t2:AliceAdventuresinWonderlandbyLewisCarroll.txt\\t[1861, 1764]',\n",
       " 'ye\\t1:AliceAdventuresinWonderlandbyLewisCarroll.txt\\t[864]',\n",
       " 'ye\\t24:BeowulfbyJLesslieHall.txt\\t[5899, 5438, 1691, 1401, 6407, 1404, 1591, 1581, 1401, 1692, 6401, 1423, 1953, 1954, 1380, 1946, 3266, 1499, 1958, 6013, 1403, 1389, 1398, 5894]',\n",
       " 'ye\\t3:DublinersbyJamesJoyce.txt\\t[4311, 5441, 4311]',\n",
       " 'ye\\t8:AdventuresOfHuckleberryFinnByMarkTwain.txt\\t[8512, 8497, 10441, 10464, 11808, 8755, 8975, 11462]',\n",
       " 'year\\t21:DublinersbyJamesJoyce.txt\\t[6046, 6584, 4637, 6481, 7018, 2469, 1955, 7484, 6338, 3830, 2431, 3398, 3293, 6381, 7009, 4437, 4450, 6124, 6537, 2424, 5978]',\n",
       " 'year\\t2:AliceAdventuresinWonderlandbyLewisCarroll.txt\\t[1666, 1663]',\n",
       " 'year\\t39:AdventuresOfHuckleberryFinnByMarkTwain.txt\\t[10149, 2288, 10160, 974, 7207, 4756, 9061, 8745, 2282, 595, 10483, 10416, 4730, 10690, 5980, 2588, 832, 5988, 7739, 6482, 6617, 10280, 9361, 5670, 10160, 4759, 10149, 8509, 10117, 2294, 6234, 7211, 11314, 7398, 11443, 5976, 7212, 2679, 2006]',\n",
       " 'year\\t3:BeowulfbyJLesslieHall.txt\\t[50, 5593, 3096]',\n",
       " 'year_\\t1:AdventuresOfHuckleberryFinnByMarkTwain.txt\\t[10086]',\n",
       " 'yearly\\t1:AdventuresOfHuckleberryFinnByMarkTwain.txt\\t[1140]',\n",
       " 'years\\t14:BeowulfbyJLesslieHall.txt\\t[4280, 1210, 573, 1993, 4743, 4292, 5656, 299, 4904, 6987, 3957, 344, 634, 1278]',\n",
       " 'years\\t22:AdventuresOfHuckleberryFinnByMarkTwain.txt\\t[5340, 5416, 10682, 12346, 5622, 364, 2542, 7092, 10388, 10157, 10683, 10100, 9090, 11871, 9113, 9007, 575, 6542, 4976, 4483, 10112, 10109]',\n",
       " 'years\\t2:AliceAdventuresinWonderlandbyLewisCarroll.txt\\t[3719, 3363]',\n",
       " 'years\\t37:DublinersbyJamesJoyce.txt\\t[181, 6989, 3523, 7188, 7344, 1922, 2066, 2134, 7447, 2374, 7440, 3570, 3367, 1903, 5142, 5969, 2451, 5969, 5975, 3354, 1949, 3172, 5170, 7439, 7798, 1169, 3482, 3638, 981, 3118, 3530, 6449, 3569, 2085, 984, 8163, 6669]',\n",
       " 'yell\\t7:AdventuresOfHuckleberryFinnByMarkTwain.txt\\t[4861, 6508, 4206, 6024, 5027, 6178, 11260]',\n",
       " 'yelled\\t1:AliceAdventuresinWonderlandbyLewisCarroll.txt\\t[2575]',\n",
       " 'yelled\\t4:AdventuresOfHuckleberryFinnByMarkTwain.txt\\t[8092, 2526, 11260, 5989]',\n",
       " 'yelling\\t1:BeowulfbyJLesslieHall.txt\\t[317]',\n",
       " 'yelling\\t2:DublinersbyJamesJoyce.txt\\t[2887, 431]',\n",
       " 'yelling\\t9:AdventuresOfHuckleberryFinnByMarkTwain.txt\\t[6109, 4958, 5982, 2510, 1591, 8080, 9531, 11274, 4965]',\n",
       " 'yellocute\\t1:AdventuresOfHuckleberryFinnByMarkTwain.txt\\t[8665]',\n",
       " 'yellocution\\t1:AdventuresOfHuckleberryFinnByMarkTwain.txt\\t[8665]',\n",
       " 'yellow\\t1:AdventuresOfHuckleberryFinnByMarkTwain.txt\\t[5895]',\n",
       " 'yellow\\t2:BeowulfbyJLesslieHall.txt\\t[5584, 4843]',\n",
       " 'yellow\\t9:DublinersbyJamesJoyce.txt\\t[2956, 6774, 6784, 3999, 1879, 4973, 624, 7401, 738]',\n",
       " 'yellower\\t1:AdventuresOfHuckleberryFinnByMarkTwain.txt\\t[4460]',\n",
       " 'yellowing\\t1:DublinersbyJamesJoyce.txt\\t[985]',\n",
       " 'yells\\t2:AdventuresOfHuckleberryFinnByMarkTwain.txt\\t[6006, 8364]',\n",
       " 'yelp\\t1:AliceAdventuresinWonderlandbyLewisCarroll.txt\\t[919]',\n",
       " 'yer\\t13:AdventuresOfHuckleberryFinnByMarkTwain.txt\\t[6898, 3505, 3857, 3497, 5366, 6900, 7360, 9763, 7370, 6880, 10628, 4851, 6931]',\n",
       " 'yer\\t4:AliceAdventuresinWonderlandbyLewisCarroll.txt\\t[808, 820, 825, 815]',\n",
       " 'yerd\\t1:AdventuresOfHuckleberryFinnByMarkTwain.txt\\t[4890]',\n",
       " 'yerra\\t1:DublinersbyJamesJoyce.txt\\t[4077]',\n",
       " 'yers\\t1:AdventuresOfHuckleberryFinnByMarkTwain.txt\\t[9802]',\n",
       " 'yes\\t13:AliceAdventuresinWonderlandbyLewisCarroll.txt\\t[2779, 1933, 2630, 2478, 1650, 659, 2038, 2435, 99, 2961, 2451, 1754, 1778]',\n",
       " 'yes\\t56:DublinersbyJamesJoyce.txt\\t[7562, 7341, 4565, 3870, 6901, 2441, 2378, 5624, 6901, 3542, 5387, 7237, 841, 5692, 5826, 2056, 804, 5356, 5422, 7815, 7321, 5546, 7265, 3102, 303, 2431, 5486, 5695, 3910, 6943, 376, 7260, 5237, 2698, 7753, 5663, 5546, 6166, 5237, 3049, 2251, 927, 2691, 5480, 6036, 4187, 3766, 5636, 7791, 7791, 5295, 4097, 3725, 4646, 5295, 5512]',\n",
       " 'yes\\t95:AdventuresOfHuckleberryFinnByMarkTwain.txt\\t[5343, 3307, 8313, 10766, 4909, 3618, 8223, 8919, 830, 4758, 7161, 7663, 2430, 10839, 6695, 11864, 7857, 6690, 5279, 9572, 2222, 10826, 2105, 9096, 4751, 8740, 8549, 9606, 5263, 3336, 10067, 2683, 9651, 7902, 9655, 9094, 6623, 5335, 11761, 6325, 2743, 10113, 3501, 1517, 7733, 11133, 6645, 10099, 3472, 8005, 2748, 9735, 6937, 8034, 3998, 1526, 3348, 10212, 6681, 8521, 4416, 2092, 7137, 8047, 6449, 9119, 2716, 8720, 3171, 10042, 5923, 1140, 4501, 6898, 5677, 10999, 7854, 10830, 2722, 10750, 3485, 4746, 11455, 1536, 9382, 2321, 7642, 9117, 9738, 5250, 8039, 7097, 9068, 2280, 6932]',\n",
       " 'yesterday\\t11:AdventuresOfHuckleberryFinnByMarkTwain.txt\\t[11935, 10385, 11619, 6739, 4839, 4365, 8927, 2492, 11345, 5053, 8891]',\n",
       " 'yesterday\\t2:DublinersbyJamesJoyce.txt\\t[4080, 3523]',\n",
       " 'yesterday\\t3:AliceAdventuresinWonderlandbyLewisCarroll.txt\\t[304, 2694, 1927]',\n",
       " 'yet\\t21:DublinersbyJamesJoyce.txt\\t[2874, 1741, 86, 5914, 1703, 7435, 4883, 5992, 1184, 2015, 7165, 5531, 7542, 847, 7047, 1735, 984, 3786, 7156, 3784, 773]',\n",
       " 'yet\\t25:AliceAdventuresinWonderlandbyLewisCarroll.txt\\t[2863, 412, 3167, 2354, 768, 769, 1680, 3173, 1671, 1071, 1041, 3081, 838, 1524, 2308, 3248, 1051, 935, 3260, 986, 2899, 2899, 2093, 1804, 1061]',\n",
       " 'yet\\t30:BeowulfbyJLesslieHall.txt\\t[2068, 3181, 2749, 5632, 6536, 4728, 5656, 4280, 2745, 3150, 6193, 2640, 3738, 3068, 4268, 4093, 6004, 5038, 3096, 1993, 6394, 2787, 4838, 6024, 5181, 5184, 3901, 4305, 6464, 221]',\n",
       " 'yet\\t60:AdventuresOfHuckleberryFinnByMarkTwain.txt\\t[7412, 6949, 3958, 11692, 4795, 10714, 7323, 8872, 3674, 2413, 2689, 7722, 1956, 10232, 1555, 8686, 10889, 9640, 5483, 7835, 9554, 2623, 628, 7681, 6276, 10020, 9834, 4182, 8516, 8402, 11555, 11689, 7735, 3230, 10941, 3010, 11981, 8368, 4986, 7671, 2965, 1679, 10146, 11397, 3259, 3657, 7307, 2751, 9269, 4396, 5956, 11602, 7642, 1559, 11935, 5171, 9341, 2537, 7857, 10359]',\n",
       " 'yield\\t1:AdventuresOfHuckleberryFinnByMarkTwain.txt\\t[5449]',\n",
       " 'yield\\t1:BeowulfbyJLesslieHall.txt\\t[5803]',\n",
       " 'yield\\t1:DublinersbyJamesJoyce.txt\\t[7607]',\n",
       " 'yieldeth\\t1:BeowulfbyJLesslieHall.txt\\t[3525]',\n",
       " 'yielding\\t1:BeowulfbyJLesslieHall.txt\\t[3546]',\n",
       " 'yielding\\t1:DublinersbyJamesJoyce.txt\\t[7598]',\n",
       " 'yirls\\t2:AdventuresOfHuckleberryFinnByMarkTwain.txt\\t[6625, 6632]',\n",
       " 'yisterday\\t1:AdventuresOfHuckleberryFinnByMarkTwain.txt\\t[7585]',\n",
       " 'yistiddy\\t1:AdventuresOfHuckleberryFinnByMarkTwain.txt\\t[10433]',\n",
       " 'yit\\t8:AdventuresOfHuckleberryFinnByMarkTwain.txt\\t[1205, 8211, 4098, 3153, 3107, 1210, 2165, 3487]',\n",
       " 'yldo\\t1:BeowulfbyJLesslieHall.txt\\t[3550]',\n",
       " 'yo\\t16:AdventuresOfHuckleberryFinnByMarkTwain.txt\\t[1205, 3964, 2314, 10327, 1214, 3518, 2069, 2169, 11999, 4154, 2251, 5300, 4154, 1212, 3859, 3120]',\n",
       " 'yonder\\t1:BeowulfbyJLesslieHall.txt\\t[6248]',\n",
       " 'yonder\\t24:AdventuresOfHuckleberryFinnByMarkTwain.txt\\t[9202, 6468, 6835, 6480, 11353, 3992, 5130, 4004, 4063, 11210, 2197, 3384, 6929, 6946, 2371, 3071, 5427, 10124, 5106, 1724, 3183, 2696, 3021, 8169]',\n",
       " 'yore\\t11:BeowulfbyJLesslieHall.txt\\t[4961, 6335, 2184, 6241, 5315, 4316, 4832, 3181, 3504, 2666, 1761]',\n",
       " 'york\\t1:BeowulfbyJLesslieHall.txt\\t[47]',\n",
       " 'you\\t1555:AdventuresOfHuckleberryFinnByMarkTwain.txt\\t[7499, 2370, 1253, 8442, 9930, 1257, 7139, 11759, 3083, 9928, 1831, 1257, 12170, 678, 1258, 9931, 6777, 5383, 9927, 1259, 2372, 12069, 1259, 4662, 678, 7906, 9570, 1260, 1260, 4107, 2373, 2774, 12170, 582, 4106, 3796, 4127, 1260, 4131, 4105, 8010, 679, 12068, 4131, 1261, 1261, 1261, 11331, 10330, 5377, 4132, 3153, 3083, 4132, 1262, 1262, 3043, 3604, 3083, 9574, 3383, 7495, 1236, 3692, 5370, 1271, 7256, 1272, 10386, 680, 9921, 2376, 9921, 3083, 582, 7737, 7128, 1273, 11325, 1274, 1274, 12167, 9918, 1231, 11325, 9938, 6199, 10330, 1276, 5369, 6198, 8425, 3084, 12222, 7904, 8463, 1277, 12225, 11325, 1278, 7257, 2381, 12070, 9007, 11357, 7124, 11778, 10390, 9551, 3334, 4087, 12165, 8421, 2756, 9006, 9006, 2794, 7818, 1284, 7914, 4643, 2381, 2794, 12222, 7823, 1284, 4154, 1285, 1218, 12171, 4154, 3082, 7120, 4085, 1286, 6188, 8419, 2795, 4085, 1217, 1286, 9941, 2795, 2383, 1286, 4084, 1287, 1287, 2795, 1807, 7915, 1216, 7116, 11782, 10452, 5435, 1216, 9944, 5435, 6953, 3150, 2797, 5436, 1214, 5437, 7915, 10129, 2797, 12071, 1298, 3156, 9045, 11367, 1298, 6180, 6971, 2797, 10451, 2797, 11783, 1213, 5440, 12110, 1302, 6178, 2741, 1213, 6177, 9047, 3510, 2741, 6177, 1212, 6176, 3620, 3801, 2799, 7356, 7916, 2799, 6174, 9051, 2799, 6172, 1211, 1211, 1305, 6953, 2800, 6172, 9948, 1305, 7999, 9949, 7899, 4074, 6171, 1306, 7153, 8011, 11312, 4074, 4073, 7112, 5344, 6170, 3801, 4631, 1311, 5343, 6264, 6170, 3623, 7824, 4070, 7899, 7916, 4070, 7771, 6169, 7999, 4070, 9906, 6169, 2731, 4630, 5339, 5339, 3156, 5339, 7772, 4067, 5339, 1313, 4067, 7899, 5456, 10331, 4691, 1314, 4066, 11793, 6271, 8497, 9594, 5333, 8986, 7697, 11794, 5331, 12066, 1319, 6163, 5331, 8985, 3146, 6162, 1321, 2397, 4062, 4061, 7775, 1321, 7898, 6162, 10953, 12221, 6161, 1322, 3081, 8012, 8505, 8507, 3792, 2399, 7159, 7625, 1325, 10399, 5324, 2400, 12236, 3145, 2716, 4059, 8984, 609, 4704, 10578, 5322, 4059, 7779, 10319, 1329, 8984, 1329, 3498, 7626, 6156, 5319, 6156, 6154, 8983, 1196, 9969, 6767, 4708, 5314, 7897, 7998, 8981, 6152, 6152, 8980, 12089, 4058, 5314, 4057, 4057, 6150, 5466, 7897, 10188, 3081, 8980, 4189, 6150, 5309, 12176, 6149, 10738, 4189, 6144, 4712, 6144, 4056, 1778, 4718, 4056, 5309, 3802, 4055, 4617, 4718, 12227, 3323, 12120, 2817, 7263, 4055, 8974, 3157, 7163, 3697, 9072, 8516, 9886, 9073, 9886, 4614, 628, 3698, 11803, 3364, 4614, 4614, 9885, 10742, 3452, 8518, 10744, 8518, 5476, 8013, 12076, 9074, 8972, 4048, 4048, 8972, 9075, 2823, 3160, 8972, 3698, 9884, 6128, 3803, 4047, 7997, 7997, 8381, 12065, 7173, 2828, 610, 8381, 6987, 2828, 4043, 3160, 4042, 8524, 7996, 8525, 9882, 4042, 8525, 9081, 7627, 11806, 768, 11807, 9881, 4039, 8044, 10750, 10398, 1895, 7627, 8367, 2318, 7597, 9089, 8530, 1761, 4607, 825, 4607, 8530, 11815, 11815, 7996, 6989, 11694, 7922, 1170, 10999, 1170, 10942, 10398, 9091, 11816, 1170, 8960, 8531, 7593, 11816, 2850, 1170, 7890, 4026, 8955, 3384, 9092, 8955, 2850, 12157, 8954, 8954, 12243, 4026, 1169, 7922, 11402, 5277, 7995, 11402, 10761, 2422, 3515, 2856, 1164, 8354, 7592, 8536, 11821, 12063, 5274, 10761, 7890, 11407, 5273, 2857, 12063, 9873, 3807, 2426, 2691, 5271, 2858, 4017, 3787, 2691, 4016, 2858, 11687, 2859, 6334, 8943, 9872, 2859, 9872, 3699, 7512, 4596, 1153, 8943, 7363, 1152, 6996, 10768, 6338, 5508, 10768, 5268, 1152, 5266, 11825, 1150, 5513, 3385, 9869, 8351, 5513, 830, 5266, 8942, 10938, 2862, 7180, 2302, 7089, 12182, 9512, 1146, 12078, 8941, 5262, 10769, 4767, 5516, 6826, 11010, 6087, 2680, 11011, 1743, 3786, 8562, 2679, 1742, 10769, 6085, 1145, 10770, 5262, 6084, 6084, 10770, 6826, 12239, 5518, 2864, 7591, 610, 11013, 8566, 10771, 11278, 3996, 5259, 5520, 5521, 11013, 1378, 10389, 8344, 2298, 11278, 8569, 7324, 8570, 10935, 1142, 1142, 10671, 7003, 10935, 1141, 1141, 8574, 10670, 8575, 8930, 10410, 2867, 7768, 8577, 8577, 9992, 10332, 1135, 8335, 5534, 2869, 1135, 2869, 7810, 11019, 8334, 3985, 5535, 2870, 9858, 5535, 8334, 2870, 9993, 11675, 7184, 12102, 4254, 8585, 8333, 7004, 12199, 8585, 5247, 7808, 2872, 398, 11835, 7004, 4259, 12182, 2873, 3048, 3700, 6358, 3377, 8590, 9857, 10665, 5241, 8590, 8593, 11025, 4263, 2669, 8593, 10932, 4263, 2874, 3977, 10781, 8595, 3024, 3977, 7082, 12079, 3976, 4263, 7808, 8596, 9495, 2875, 7883, 9856, 4268, 11025, 2875, 6359, 4268, 9122, 2666, 9123, 9124, 8601, 4269, 7807, 2876, 3969, 4269, 9494, 4270, 7807, 8602, 3701, 1121, 7080, 5225, 4271, 10441, 8605, 3515, 8608, 8608, 8608, 5220, 10787, 2663, 10787, 7585, 4278, 9131, 4278, 10787, 9491, 1113, 11031, 9139, 12184, 8618, 8618, 8321, 10929, 7323, 4279, 8618, 7878, 8619, 8620, 3571, 639, 5208, 3571, 4284, 6388, 2997, 2280, 8621, 10572, 9852, 4289, 8621, 3750, 4290, 2278, 11038, 3702, 7199, 10926, 2278, 8622, 12101, 6405, 6405, 3385, 5204, 4292, 12153, 7637, 10792, 7079, 8623, 5203, 6410, 5202, 1707, 6794, 8625, 3507, 2273, 8625, 5202, 7749, 1705, 5201, 3703, 10651, 12229, 2269, 8626, 3187, 7256, 3752, 1705, 7801, 4810, 1422, 1422, 11862, 2263, 3752, 11864, 8631, 9473, 11438, 3050, 4555, 6020, 1700, 3120, 3503, 10795, 8302, 11864, 6020, 5196, 10796, 9847, 9469, 2258, 10796, 10872, 3781, 12255, 9153, 6019, 2256, 6421, 9648, 9154, 426, 9157, 11870, 9157, 8633, 8634, 11870, 12100, 8634, 3565, 12151, 12055, 2254, 2252, 8291, 2251, 8636, 8287, 6431, 3752, 6009, 2250, 8284, 10333, 3781, 2250, 4304, 2250, 6009, 3565, 6008, 1074, 10801, 8283, 1074, 5172, 12234, 7257, 10327, 3168, 9166, 5171, 3753, 7017, 5997, 5997, 6437, 9167, 9167, 5171, 9168, 3930, 9457, 2248, 1438, 9457, 12189, 7580, 3929, 6439, 3929, 1068, 11879, 3928, 3928, 10804, 1067, 1067, 8276, 1440, 1974, 2248, 10308, 9454, 1974, 7018, 3926, 3926, 9454, 1975, 7018, 10809, 2246, 10327, 10635, 1059, 1059, 7798, 6796, 9838, 7936, 9453, 7279, 3923, 1057, 4836, 1056, 3778, 3923, 9452, 4836, 9188, 6461, 6919, 8266, 9450, 5612, 6918, 5151, 9448, 3171, 11454, 5151, 8039, 9448, 9448, 12128, 10630, 9193, 12097, 905, 10455, 11230, 4850, 7735, 10628, 4324, 11621, 3778, 10817, 3560, 2624, 5619, 11228, 11228, 7768, 3914, 4325, 11615, 3482, 4327, 3754, 7798, 2234, 11060, 11227, 7845, 4331, 2233, 1040, 2621, 12191, 716, 2233, 10622, 10622, 4332, 6474, 4332, 7845, 1034, 1666, 10335, 10526, 10394, 11464, 5133, 1034, 9430, 5132, 5132, 7023, 9430, 9428, 9821, 4865, 11220, 717, 7797, 8247, 11220, 10820, 8021, 6492, 4865, 10389, 9820, 4866, 6496, 10821, 8240, 7, 8239, 3505, 7943, 10526, 4866, 2615, 5634, 10053, 10333, 5634, 1657, 9426, 718, 3754, 8239, 8238, 9213, 3106, 1654, 2491, 11469, 4868, 2491, 1652, 3754, 3755, 3106, 2610, 718, 3461, 10055, 7849, 719, 6909, 5116, 6908, 2222, 12095, 3467, 4351, 10055, 4869, 2493, 1646, 6738, 10254, 2220, 9424, 10055, 4357, 9421, 8228, 722, 11906, 2219, 9417, 4358, 722, 11908, 4873, 9416, 4358, 6902, 4875, 11910, 3106, 4359, 11534, 5109, 3107, 11205, 1640, 11910, 11910, 5108, 12194, 9808, 5108, 5107, 7752, 11474, 4877, 3052, 7774, 3889, 9416, 11203, 11917, 1010, 2215, 1009, 5945, 5106, 11203, 10828, 6524, 7024, 11921, 11921, 2215, 2498, 7574, 9414, 11201, 10333, 2498, 5942, 5103, 6799, 11925, 2213, 6527, 7796, 2590, 9410, 2212, 4885, 6736, 2498, 7339, 2499, 11199, 5095, 8212, 11930, 4373, 11932, 4373, 6900, 12049, 5092, 5090, 5088, 11933, 11590, 11590, 10830, 5087, 10075, 11590, 7385, 5938, 10830, 11193, 5085, 5085, 10830, 4895, 4895, 7026, 8202, 4383, 6547, 7026, 10831, 8201, 5083, 5933, 6734, 8687, 8687, 2990, 4383, 7864, 4385, 5081, 12261, 4385, 10831, 9394, 5078, 9394, 8688, 10078, 4386, 3644, 2990, 12197, 10317, 3758, 9798, 4387, 7730, 3860, 9798, 3860, 8689, 11079, 9798, 9393, 4388, 11079, 4389, 3772, 7228, 5923, 2990, 5923, 4389, 10092, 794, 5921, 7791, 3858, 10092, 3713, 6565, 9261, 5919, 4391, 9261, 5918, 9791, 4902, 9261, 3857, 10834, 5917, 7791, 5917, 5059, 5916, 10834, 8817, 9392, 3856, 3758, 9271, 3855, 5911, 9783, 8034, 12230, 9271, 7655, 9272, 7863, 10099, 3769, 9277, 10835, 11490, 7851, 5048, 11491, 7851, 10836, 9388, 9280, 10100, 2067, 5047, 2068, 3846, 4909, 9281, 9385, 6582, 8177, 5041, 9383, 11493, 6587, 8805, 5040, 8034, 10209, 8026, 7244, 2516, 11087, 10408, 12130, 10589, 9768, 5037, 12233, 5037, 2979, 7779, 7748, 9382, 7656, 5036, 7656, 7033, 10210, 5036, 3386, 10144, 3228, 7852, 7245, 6598, 11088, 2079, 5030, 2079, 11966, 3110, 11088, 10292, 11966, 8167, 6600, 11570, 6601, 8167, 9376, 8028, 9293, 2082, 11967, 11499, 4927, 2086, 11968, 12237, 2188, 5712, 9294, 11500, 10337, 4933, 9756, 2088, 10146, 2094, 611, 4414, 4418, 2098, 4420, 3506, 2098, 4420, 9295, 3769, 10847, 9296, 10847, 4935, 2100, 12043, 11562, 2186, 11970, 8725, 4426, 2105, 12237, 2105, 860, 4426, 11160, 8727, 11562, 2105, 7656, 11504, 7246, 12087, 11562, 10172, 2106, 8150, 12231, 7657, 11159, 3511, 8146, 11158, 7861, 10854, 8732, 9705, 8792, 8792, 11158, 12264, 12040, 12091, 8791, 3531, 9311, 8137, 3373, 11508, 11508, 11509, 8137, 12039, 9311, 7781, 7383, 4944, 9742, 870, 8083, 5740, 5741, 871, 6625, 5743, 12039, 4474, 12038, 9735, 10859, 8083, 11523, 6879, 8745, 9313, 12232, 6714, 10859, 9313, 4946, 11148, 10859, 9317, 1530, 4947, 5754, 7041, 7728, 12232, 2121, 9732, 10567, 8754, 7042, 11147, 8754, 5763, 7968, 2126, 5763, 5801, 6804, 876, 5767, 3226, 2126, 11143, 12224, 9324, 10168, 6636, 10861, 9328, 2135, 2173, 2135, 1538, 882, 8030, 11997, 7858, 7743, 6640, 2136, 11135, 4445, 6643, 6643, 11530, 2140, 11131, 11998, 2144, 11530, 2144, 2170, 11999, 887, 10866, 10384, 12033, 2144, 10866, 2144, 11999, 2144, 3762, 7046, 1542, 2544, 3305, 11532, 7858, 3055, 11114, 2153, 11533, 4461, 3263, 470, 3766, 3525, 895, 8031, 1553, 7042, 4455, 896, 3525, 3529, 896, 6673, 907, 11122, 3187, 904, 3527, 10383, 6684, 11118, 7269, 898, 2162, 906, 3352, 8008, 1252, 7135, 1252, 1706]',\n",
       " 'you\\t481:AliceAdventuresinWonderlandbyLewisCarroll.txt\\t[2971, 2296, 986, 987, 3606, 2295, 2293, 2293, 2292, 987, 3604, 3604, 2279, 988, 3603, 3278, 122, 2267, 1215, 3601, 989, 1211, 2981, 2669, 3600, 3599, 3599, 370, 2989, 371, 3598, 2242, 3597, 2236, 2235, 2234, 2674, 2231, 3596, 119, 3593, 2216, 391, 2216, 2216, 118, 3592, 3005, 3005, 3590, 2201, 155, 996, 3010, 996, 1344, 2194, 2678, 2189, 117, 2633, 3588, 3588, 406, 3014, 3587, 1001, 409, 409, 2616, 2620, 412, 412, 413, 1001, 420, 1211, 427, 427, 429, 429, 2150, 3023, 431, 3023, 433, 3028, 1179, 2132, 2688, 2124, 440, 2118, 443, 444, 3038, 1325, 3564, 2693, 110, 110, 2620, 3562, 2105, 109, 1210, 3559, 3556, 1024, 465, 108, 1025, 3287, 1025, 470, 470, 3554, 1313, 475, 476, 3549, 1312, 485, 489, 1035, 3547, 495, 2062, 2062, 1039, 3546, 2055, 505, 516, 2033, 3539, 2023, 528, 2620, 529, 3076, 2013, 2012, 1041, 3535, 3533, 1042, 542, 3533, 1986, 2707, 3529, 3527, 557, 559, 1294, 1294, 1294, 1294, 1049, 3519, 581, 581, 582, 1948, 1947, 1945, 589, 1941, 1941, 601, 3515, 1927, 1926, 634, 639, 639, 642, 3513, 651, 653, 654, 95, 1051, 664, 666, 1881, 1878, 1875, 1874, 1874, 675, 2620, 676, 1286, 683, 2620, 1202, 1284, 1851, 688, 1850, 2621, 3122, 1057, 3491, 1831, 1823, 2728, 1823, 3489, 1059, 712, 1807, 1807, 1793, 1780, 1774, 3481, 1061, 1202, 1761, 1757, 3153, 1062, 1200, 3158, 1734, 1732, 1728, 1726, 1721, 1718, 2621, 1716, 1715, 1069, 1713, 2621, 3471, 1706, 3306, 1705, 1704, 1698, 1695, 1692, 1692, 2623, 1689, 769, 1680, 2854, 1672, 3463, 1662, 1071, 3462, 780, 1656, 3461, 780, 781, 3177, 1072, 3307, 1651, 3459, 1645, 1076, 1077, 2753, 3457, 1633, 799, 1629, 1626, 1623, 1621, 1618, 1618, 806, 3453, 1613, 1613, 1613, 1604, 817, 3450, 1595, 1593, 3449, 826, 826, 3196, 2621, 3197, 3197, 842, 1090, 3441, 843, 2850, 2627, 3440, 3205, 1551, 1550, 2621, 1548, 3438, 858, 1093, 3213, 860, 865, 3218, 1100, 1526, 868, 3433, 1520, 1520, 871, 1102, 1514, 3432, 871, 1510, 3431, 1508, 1508, 3430, 1505, 1505, 1503, 2776, 1501, 3226, 2776, 1500, 1496, 3229, 881, 2779, 3428, 1192, 1488, 3427, 1488, 3230, 1484, 1480, 3425, 1477, 3425, 3235, 3238, 3315, 3416, 1158, 2783, 1452, 1112, 1451, 2783, 3411, 3401, 3320, 1119, 3260, 3399, 1421, 1421, 2787, 1119, 3397, 2634, 3397, 2607, 2605, 2605, 2605, 2605, 2605, 161, 2604, 2604, 2604, 2604, 2639, 2604, 2602, 2598, 2591, 2589, 2584, 179, 179, 179, 3396, 181, 3263, 182, 2568, 1224, 2564, 2564, 3263, 2556, 2552, 2548, 2543, 202, 2541, 2540, 1382, 2523, 1222, 2910, 2910, 2506, 218, 2494, 2484, 2481, 2480, 2476, 2461, 2446, 2439, 2435, 260, 3631, 262, 262, 262, 2429, 2427, 2649, 2938, 2424, 1373, 3628, 2416, 965, 285, 2652, 2404, 286, 2652, 287, 2652, 3391, 2395, 2385, 3622, 298, 972, 2951, 2370, 2365, 2362, 2956, 2354, 2958, 2958, 4, 3272, 2331, 2330, 126, 976, 3610, 1362, 3274, 986, 2307, 2299, 2970, 1697]',\n",
       " 'you\\t526:DublinersbyJamesJoyce.txt\\t[6800, 8035, 8034, 1461, 285, 6120, 6142, 1466, 5428, 4970, 6124, 1472, 307, 308, 6997, 6163, 308, 308, 4273, 4964, 3311, 5579, 6231, 8012, 8074, 4031, 6162, 1428, 1484, 1964, 1964, 8010, 4612, 7523, 4310, 7486, 8007, 8004, 5093, 8002, 7484, 336, 1424, 338, 4956, 6928, 5903, 342, 5903, 7997, 345, 1420, 351, 5441, 5340, 7995, 7995, 4644, 2513, 6262, 7989, 4050, 94, 6916, 6916, 6086, 374, 376, 5372, 1519, 1519, 7984, 7983, 7544, 7263, 7983, 8056, 7263, 7548, 4245, 1413, 7980, 1537, 5304, 7978, 6283, 3106, 6283, 7560, 5604, 1541, 1541, 3097, 6291, 400, 7258, 3096, 1542, 5604, 1408, 3094, 2439, 5420, 3540, 7970, 6296, 7468, 3085, 3085, 5299, 3085, 6890, 5093, 2507, 3079, 3078, 3697, 2507, 7966, 1549, 3071, 7324, 2058, 3065, 7964, 3065, 6885, 4330, 3056, 2067, 6883, 3051, 7744, 7325, 4768, 2505, 3039, 4330, 4332, 5612, 7575, 2081, 7332, 4333, 3004, 4333, 453, 454, 3003, 460, 4333, 4218, 2503, 7943, 464, 2986, 6345, 465, 6346, 466, 7941, 4212, 107, 7590, 3734, 5618, 4208, 3739, 7933, 6002, 6847, 1586, 4335, 3748, 4682, 7725, 1592, 5621, 2501, 1003, 3751, 3751, 1592, 7923, 4019, 5459, 121, 5541, 5460, 4533, 7915, 7605, 7914, 7913, 3762, 3764, 7910, 3766, 5370, 4892, 7224, 7908, 2916, 4691, 2142, 5632, 7904, 5461, 2151, 4695, 4188, 7902, 535, 7900, 4885, 2157, 2896, 2157, 2157, 4883, 2895, 3784, 2495, 807, 1843, 1843, 3791, 4005, 7892, 5643, 3796, 7891, 7624, 6131, 7889, 3806, 6417, 5843, 7884, 7883, 132, 3813, 6430, 7882, 6431, 7881, 6436, 6436, 7879, 3816, 2848, 2847, 7878, 5349, 2847, 2847, 6795, 2488, 2846, 2846, 5509, 7876, 4164, 2846, 6043, 7876, 5535, 2845, 2845, 6437, 5706, 4160, 4158, 2829, 7867, 2829, 937, 2827, 7643, 3829, 2206, 7861, 2206, 4153, 7853, 3836, 2210, 2210, 2211, 7850, 921, 5822, 7849, 3839, 4863, 7849, 7848, 4029, 4147, 2223, 4010, 2226, 6466, 2228, 7654, 4860, 2790, 7843, 6468, 614, 2233, 2487, 2233, 6474, 6474, 6481, 4853, 7660, 7366, 6489, 4136, 6495, 2767, 4846, 5526, 3868, 5353, 4844, 629, 4130, 6498, 2260, 2260, 3872, 2760, 4843, 2759, 2262, 7369, 6505, 7171, 6055, 5667, 2485, 2263, 6506, 5354, 6508, 4723, 5668, 2270, 2272, 4723, 4020, 6749, 6520, 5385, 7373, 4724, 2282, 4724, 6741, 3896, 5116, 3896, 6741, 6741, 3899, 2480, 2291, 6735, 5356, 2717, 6732, 6644, 2712, 2712, 6732, 6729, 4109, 667, 5250, 880, 3910, 2696, 880, 2696, 2304, 2304, 5519, 6723, 2694, 2305, 2694, 4104, 2305, 4013, 2693, 8068, 2688, 3913, 1789, 2687, 1789, 2686, 2681, 6551, 2680, 2680, 7389, 6646, 5779, 2680, 4102, 5017, 3919, 2316, 6559, 5491, 4102, 6561, 2318, 6561, 868, 2318, 5244, 6660, 4100, 2325, 2657, 2325, 3929, 6660, 5681, 5518, 2332, 7695, 6575, 6575, 5715, 6579, 4, 149, 5767, 4016, 2338, 2626, 2343, 5101, 2348, 4085, 3949, 5101, 3950, 4084, 4083, 3952, 3952, 4082, 152, 6697, 2367, 2368, 2371, 2372, 2373, 2468, 4076, 3967, 4072, 2386, 3970, 3971, 2387, 4406, 2387, 2388, 2404, 2409, 2409, 5372, 2410, 3979, 5502, 3984, 3984, 2418, 5212, 821, 819, 5733, 8052, 5503, 8050, 8050, 4996, 8049, 5000, 5333, 6177, 4991, 8077, 8047, 3249, 5556, 3248, 8046, 6183, 8045, 5334, 8045, 4296, 8044, 6189, 6995, 8043, 8042, 2428, 8040, 8038, 6196, 6197, 8037, 4285, 4282, 8035]',\n",
       " 'you\\t91:BeowulfbyJLesslieHall.txt\\t[6718, 6406, 6899, 6709, 6708, 6706, 6721, 1952, 6693, 6693, 6896, 6396, 6701, 6695, 6759, 1540, 6700, 6781, 6699, 6659, 6698, 6696, 1540, 6783, 6890, 6725, 6679, 1982, 6878, 6787, 6874, 6872, 6727, 6872, 6012, 6871, 6729, 6669, 6730, 6869, 6731, 6868, 6867, 6867, 6866, 6795, 6865, 6667, 6757, 6797, 6864, 1496, 1971, 1971, 6665, 6861, 6739, 6665, 6860, 6822, 1948, 6858, 6817, 3490, 3490, 6856, 6856, 6664, 4, 6855, 6801, 1966, 1942, 1500, 6801, 1689, 2080, 6832, 6749, 2085, 6803, 6814, 2085, 6815, 6830, 6807, 6827, 6824, 6717, 6026, 6684]',\n",
       " 'you_\\t1:DublinersbyJamesJoyce.txt\\t[780]',\n",
       " 'young\\t111:DublinersbyJamesJoyce.txt\\t[7645, 135, 4948, 3198, 1280, 939, 4507, 940, 1724, 6253, 2522, 941, 135, 5026, 1823, 1345, 1826, 1641, 4565, 6410, 6248, 6247, 4956, 6405, 2886, 1369, 1620, 6241, 3170, 1158, 3769, 2419, 6235, 2929, 1611, 3213, 4195, 5074, 6841, 1853, 2950, 3205, 2951, 6367, 1854, 2954, 4998, 4202, 1854, 1577, 1855, 5289, 1570, 1856, 1732, 1859, 1031, 4666, 5215, 1155, 1757, 6313, 5296, 4993, 1455, 1867, 422, 1163, 5029, 5022, 3209, 1918, 4937, 6288, 2615, 7703, 4817, 1240, 3684, 6273, 3397, 3196, 6271, 1950, 1265, 1259, 1750, 1693, 7804, 4429, 1768, 6061, 1717, 6267, 1320, 7675, 3198, 4946, 644, 1156, 6049, 1258, 608, 4713, 1159, 915, 4624, 915, 4799, 931, 4652]',\n",
       " 'young\\t12:BeowulfbyJLesslieHall.txt\\t[966, 3173, 1087, 6004, 4593, 979, 4280, 5669, 5303, 5332, 4427, 3249]',\n",
       " 'young\\t57:AdventuresOfHuckleberryFinnByMarkTwain.txt\\t[4531, 9470, 6708, 394, 4397, 5557, 4959, 4902, 6059, 4697, 4975, 4307, 6477, 6591, 5273, 11807, 6856, 4497, 4541, 4990, 6596, 2228, 6625, 4519, 7361, 4364, 7758, 4581, 4531, 2225, 5236, 4985, 4534, 6052, 4312, 8353, 10438, 4678, 5071, 6583, 5586, 4938, 4680, 6667, 340, 5531, 5219, 4933, 4398, 5584, 2227, 6578, 5584, 7489, 4492, 4523, 4510]',\n",
       " 'young\\t5:AliceAdventuresinWonderlandbyLewisCarroll.txt\\t[665, 1039, 1765, 2400, 2371]']"
      ]
     },
     "execution_count": 84,
     "metadata": {},
     "output_type": "execute_result"
    }
   ],
   "source": [
    "lines"
   ]
  },
  {
   "cell_type": "code",
   "execution_count": 101,
   "metadata": {
    "collapsed": false
   },
   "outputs": [],
   "source": [
    "count_index = {}\n",
    "count_index['a'] = {}"
   ]
  },
  {
   "cell_type": "code",
   "execution_count": 102,
   "metadata": {
    "collapsed": false
   },
   "outputs": [
    {
     "data": {
      "text/plain": [
       "{'a': {}}"
      ]
     },
     "execution_count": 102,
     "metadata": {},
     "output_type": "execute_result"
    }
   ],
   "source": [
    "count_index"
   ]
  },
  {
   "cell_type": "code",
   "execution_count": 113,
   "metadata": {
    "collapsed": false
   },
   "outputs": [
    {
     "data": {
      "text/plain": [
       "0"
      ]
     },
     "execution_count": 113,
     "metadata": {},
     "output_type": "execute_result"
    }
   ],
   "source": [
    "count_index['a'].setdefault('b', 10)"
   ]
  },
  {
   "cell_type": "code",
   "execution_count": 114,
   "metadata": {
    "collapsed": false
   },
   "outputs": [
    {
     "data": {
      "text/plain": [
       "{'a': {'b': 0}}"
      ]
     },
     "execution_count": 114,
     "metadata": {},
     "output_type": "execute_result"
    }
   ],
   "source": [
    "count_index"
   ]
  },
  {
   "cell_type": "code",
   "execution_count": 121,
   "metadata": {
    "collapsed": true
   },
   "outputs": [],
   "source": [
    "x = {}"
   ]
  },
  {
   "cell_type": "code",
   "execution_count": 122,
   "metadata": {
    "collapsed": true
   },
   "outputs": [],
   "source": [
    "x['a'] = {}"
   ]
  },
  {
   "cell_type": "code",
   "execution_count": 123,
   "metadata": {
    "collapsed": false
   },
   "outputs": [
    {
     "data": {
      "text/plain": [
       "{'a': {}}"
      ]
     },
     "execution_count": 123,
     "metadata": {},
     "output_type": "execute_result"
    }
   ],
   "source": [
    "x"
   ]
  },
  {
   "cell_type": "code",
   "execution_count": 124,
   "metadata": {
    "collapsed": false
   },
   "outputs": [
    {
     "data": {
      "text/plain": [
       "[0, None]"
      ]
     },
     "execution_count": 124,
     "metadata": {},
     "output_type": "execute_result"
    }
   ],
   "source": [
    "x['a'].setdefault('b', [0, None])"
   ]
  },
  {
   "cell_type": "code",
   "execution_count": 125,
   "metadata": {
    "collapsed": false
   },
   "outputs": [
    {
     "data": {
      "text/plain": [
       "{'a': {'b': [0, None]}}"
      ]
     },
     "execution_count": 125,
     "metadata": {},
     "output_type": "execute_result"
    }
   ],
   "source": [
    "x"
   ]
  },
  {
   "cell_type": "code",
   "execution_count": 154,
   "metadata": {
    "collapsed": false
   },
   "outputs": [
    {
     "data": {
      "text/plain": [
       "['\"xxxiii\\t2:BeowulfbyJLesslieHall.txt\\t[5090, 158]',\n",
       " 'xxxiv\\t2:AdventuresOfHuckleberryFinnByMarkTwain.txt\\t[9560, 136]',\n",
       " 'xxxiv\\t2:BeowulfbyJLesslieHall.txt\\t[162, 5215]',\n",
       " 'xxxix\\t2:AdventuresOfHuckleberryFinnByMarkTwain.txt\\t[151, 10896]',\n",
       " 'xxxix\\t2:BeowulfbyJLesslieHall.txt\\t[182, 5943]',\n",
       " 'xxxv\\t2:AdventuresOfHuckleberryFinnByMarkTwain.txt\\t[9832, 139]',\n",
       " 'xxxv\\t2:BeowulfbyJLesslieHall.txt\\t[5341, 166]',\n",
       " 'xxxvi\\t2:AdventuresOfHuckleberryFinnByMarkTwain.txt\\t[142, 10135]',\n",
       " 'xxxvi\\t2:BeowulfbyJLesslieHall.txt\\t[5566, 170]',\n",
       " 'xxxvii\\t2:AdventuresOfHuckleberryFinnByMarkTwain.txt\\t[145, 10344]',\n",
       " 'xxxvii\\t2:BeowulfbyJLesslieHall.txt\\t[174, 5715]',\n",
       " 'xxxviii\\t2:AdventuresOfHuckleberryFinnByMarkTwain.txt\\t[148, 10612]',\n",
       " 'xxxviii\\t2:BeowulfbyJLesslieHall.txt\\t[178, 5829]',\n",
       " 'y\\t11:AdventuresOfHuckleberryFinnByMarkTwain.txt\\t[2105, 4888, 2283, 7655, 2275, 11864, 10312, 3529, 6482, 3985, 8581]',\n",
       " 'y\\t1:BeowulfbyJLesslieHall.txt\\t[6608]',\n",
       " 'y\\t2:DublinersbyJamesJoyce.txt\\t[5036, 5017]',\n",
       " 'ya\\t1:DublinersbyJamesJoyce.txt\\t[433]',\n",
       " 'yacht\\t3:DublinersbyJamesJoyce.txt\\t[1337, 1310, 1315]',\n",
       " 'yachting\\t1:DublinersbyJamesJoyce.txt\\t[1373]',\n",
       " 'yahoos\\t1:DublinersbyJamesJoyce.txt\\t[5348]',\n",
       " 'yaka\\t3:DublinersbyJamesJoyce.txt\\t[433, 433, 433]',\n",
       " 'yaller\\t11:AdventuresOfHuckleberryFinnByMarkTwain.txt\\t[6868, 1289, 10438, 11014, 9552, 6874, 7978, 9361, 6906, 11048, 6910]',\n",
       " 'yard\\t11:AdventuresOfHuckleberryFinnByMarkTwain.txt\\t[10347, 11155, 4064, 6129, 5557, 9367, 2225, 10033, 9016, 9666, 9012]',\n",
       " 'yard\\t1:AliceAdventuresinWonderlandbyLewisCarroll.txt\\t[3357]',\n",
       " 'yards\\t18:AdventuresOfHuckleberryFinnByMarkTwain.txt\\t[8870, 5160, 1667, 3250, 3652, 1776, 3247, 3393, 2878, 3983, 9354, 3453, 3125, 3262, 1805, 792, 3644, 2372]',\n",
       " 'yards\\t1:AliceAdventuresinWonderlandbyLewisCarroll.txt\\t[1469]',\n",
       " 'yards\\t1:BeowulfbyJLesslieHall.txt\\t[5315]',\n",
       " 'yards\\t2:DublinersbyJamesJoyce.txt\\t[4902, 4265]',\n",
       " 'yarlet\\t1:AdventuresOfHuckleberryFinnByMarkTwain.txt\\t[6483]',\n",
       " 'yarn\\t6:AdventuresOfHuckleberryFinnByMarkTwain.txt\\t[8229, 2769, 11737, 5204, 3264, 11725]',\n",
       " 'yarter\\t1:AdventuresOfHuckleberryFinnByMarkTwain.txt\\t[10813]',\n",
       " 'yawl\\t3:AdventuresOfHuckleberryFinnByMarkTwain.txt\\t[6722, 6728, 6732]',\n",
       " 'yawled\\t1:AdventuresOfHuckleberryFinnByMarkTwain.txt\\t[6731]',\n",
       " 'yawn\\t1:AdventuresOfHuckleberryFinnByMarkTwain.txt\\t[5795]',\n",
       " 'yawned\\t2:AliceAdventuresinWonderlandbyLewisCarroll.txt\\t[1117, 2641]',\n",
       " 'yawning\\t1:AdventuresOfHuckleberryFinnByMarkTwain.txt\\t[5894]',\n",
       " 'yawning\\t1:BeowulfbyJLesslieHall.txt\\t[5460]',\n",
       " 'yawning\\t1:DublinersbyJamesJoyce.txt\\t[3621]',\n",
       " 'yawning\\t2:AliceAdventuresinWonderlandbyLewisCarroll.txt\\t[1861, 1764]',\n",
       " 'ye\\t1:AliceAdventuresinWonderlandbyLewisCarroll.txt\\t[864]',\n",
       " 'ye\\t24:BeowulfbyJLesslieHall.txt\\t[5899, 5438, 1691, 1401, 6407, 1404, 1591, 1581, 1401, 1692, 6401, 1423, 1953, 1954, 1380, 1946, 3266, 1499, 1958, 6013, 1403, 1389, 1398, 5894]',\n",
       " 'ye\\t3:DublinersbyJamesJoyce.txt\\t[4311, 5441, 4311]',\n",
       " 'ye\\t8:AdventuresOfHuckleberryFinnByMarkTwain.txt\\t[8512, 8497, 10441, 10464, 11808, 8755, 8975, 11462]',\n",
       " 'year\\t21:DublinersbyJamesJoyce.txt\\t[6046, 6584, 4637, 6481, 7018, 2469, 1955, 7484, 6338, 3830, 2431, 3398, 3293, 6381, 7009, 4437, 4450, 6124, 6537, 2424, 5978]',\n",
       " 'year\\t2:AliceAdventuresinWonderlandbyLewisCarroll.txt\\t[1666, 1663]',\n",
       " 'year\\t39:AdventuresOfHuckleberryFinnByMarkTwain.txt\\t[10149, 2288, 10160, 974, 7207, 4756, 9061, 8745, 2282, 595, 10483, 10416, 4730, 10690, 5980, 2588, 832, 5988, 7739, 6482, 6617, 10280, 9361, 5670, 10160, 4759, 10149, 8509, 10117, 2294, 6234, 7211, 11314, 7398, 11443, 5976, 7212, 2679, 2006]',\n",
       " 'year\\t3:BeowulfbyJLesslieHall.txt\\t[50, 5593, 3096]',\n",
       " 'year_\\t1:AdventuresOfHuckleberryFinnByMarkTwain.txt\\t[10086]',\n",
       " 'yearly\\t1:AdventuresOfHuckleberryFinnByMarkTwain.txt\\t[1140]',\n",
       " 'years\\t14:BeowulfbyJLesslieHall.txt\\t[4280, 1210, 573, 1993, 4743, 4292, 5656, 299, 4904, 6987, 3957, 344, 634, 1278]',\n",
       " 'years\\t22:AdventuresOfHuckleberryFinnByMarkTwain.txt\\t[5340, 5416, 10682, 12346, 5622, 364, 2542, 7092, 10388, 10157, 10683, 10100, 9090, 11871, 9113, 9007, 575, 6542, 4976, 4483, 10112, 10109]',\n",
       " 'years\\t2:AliceAdventuresinWonderlandbyLewisCarroll.txt\\t[3719, 3363]',\n",
       " 'years\\t37:DublinersbyJamesJoyce.txt\\t[181, 6989, 3523, 7188, 7344, 1922, 2066, 2134, 7447, 2374, 7440, 3570, 3367, 1903, 5142, 5969, 2451, 5969, 5975, 3354, 1949, 3172, 5170, 7439, 7798, 1169, 3482, 3638, 981, 3118, 3530, 6449, 3569, 2085, 984, 8163, 6669]',\n",
       " 'yell\\t7:AdventuresOfHuckleberryFinnByMarkTwain.txt\\t[4861, 6508, 4206, 6024, 5027, 6178, 11260]',\n",
       " 'yelled\\t1:AliceAdventuresinWonderlandbyLewisCarroll.txt\\t[2575]',\n",
       " 'yelled\\t4:AdventuresOfHuckleberryFinnByMarkTwain.txt\\t[8092, 2526, 11260, 5989]',\n",
       " 'yelling\\t1:BeowulfbyJLesslieHall.txt\\t[317]',\n",
       " 'yelling\\t2:DublinersbyJamesJoyce.txt\\t[2887, 431]',\n",
       " 'yelling\\t9:AdventuresOfHuckleberryFinnByMarkTwain.txt\\t[6109, 4958, 5982, 2510, 1591, 8080, 9531, 11274, 4965]',\n",
       " 'yellocute\\t1:AdventuresOfHuckleberryFinnByMarkTwain.txt\\t[8665]',\n",
       " 'yellocution\\t1:AdventuresOfHuckleberryFinnByMarkTwain.txt\\t[8665]',\n",
       " 'yellow\\t1:AdventuresOfHuckleberryFinnByMarkTwain.txt\\t[5895]',\n",
       " 'yellow\\t2:BeowulfbyJLesslieHall.txt\\t[5584, 4843]',\n",
       " 'yellow\\t9:DublinersbyJamesJoyce.txt\\t[2956, 6774, 6784, 3999, 1879, 4973, 624, 7401, 738]',\n",
       " 'yellower\\t1:AdventuresOfHuckleberryFinnByMarkTwain.txt\\t[4460]',\n",
       " 'yellowing\\t1:DublinersbyJamesJoyce.txt\\t[985]',\n",
       " 'yells\\t2:AdventuresOfHuckleberryFinnByMarkTwain.txt\\t[6006, 8364]',\n",
       " 'yelp\\t1:AliceAdventuresinWonderlandbyLewisCarroll.txt\\t[919]',\n",
       " 'yer\\t13:AdventuresOfHuckleberryFinnByMarkTwain.txt\\t[6898, 3505, 3857, 3497, 5366, 6900, 7360, 9763, 7370, 6880, 10628, 4851, 6931]',\n",
       " 'yer\\t4:AliceAdventuresinWonderlandbyLewisCarroll.txt\\t[808, 820, 825, 815]',\n",
       " 'yerd\\t1:AdventuresOfHuckleberryFinnByMarkTwain.txt\\t[4890]',\n",
       " 'yerra\\t1:DublinersbyJamesJoyce.txt\\t[4077]',\n",
       " 'yers\\t1:AdventuresOfHuckleberryFinnByMarkTwain.txt\\t[9802]',\n",
       " 'yes\\t13:AliceAdventuresinWonderlandbyLewisCarroll.txt\\t[2779, 1933, 2630, 2478, 1650, 659, 2038, 2435, 99, 2961, 2451, 1754, 1778]',\n",
       " 'yes\\t56:DublinersbyJamesJoyce.txt\\t[7562, 7341, 4565, 3870, 6901, 2441, 2378, 5624, 6901, 3542, 5387, 7237, 841, 5692, 5826, 2056, 804, 5356, 5422, 7815, 7321, 5546, 7265, 3102, 303, 2431, 5486, 5695, 3910, 6943, 376, 7260, 5237, 2698, 7753, 5663, 5546, 6166, 5237, 3049, 2251, 927, 2691, 5480, 6036, 4187, 3766, 5636, 7791, 7791, 5295, 4097, 3725, 4646, 5295, 5512]',\n",
       " 'yes\\t95:AdventuresOfHuckleberryFinnByMarkTwain.txt\\t[5343, 3307, 8313, 10766, 4909, 3618, 8223, 8919, 830, 4758, 7161, 7663, 2430, 10839, 6695, 11864, 7857, 6690, 5279, 9572, 2222, 10826, 2105, 9096, 4751, 8740, 8549, 9606, 5263, 3336, 10067, 2683, 9651, 7902, 9655, 9094, 6623, 5335, 11761, 6325, 2743, 10113, 3501, 1517, 7733, 11133, 6645, 10099, 3472, 8005, 2748, 9735, 6937, 8034, 3998, 1526, 3348, 10212, 6681, 8521, 4416, 2092, 7137, 8047, 6449, 9119, 2716, 8720, 3171, 10042, 5923, 1140, 4501, 6898, 5677, 10999, 7854, 10830, 2722, 10750, 3485, 4746, 11455, 1536, 9382, 2321, 7642, 9117, 9738, 5250, 8039, 7097, 9068, 2280, 6932]',\n",
       " 'yesterday\\t11:AdventuresOfHuckleberryFinnByMarkTwain.txt\\t[11935, 10385, 11619, 6739, 4839, 4365, 8927, 2492, 11345, 5053, 8891]',\n",
       " 'yesterday\\t2:DublinersbyJamesJoyce.txt\\t[4080, 3523]',\n",
       " 'yesterday\\t3:AliceAdventuresinWonderlandbyLewisCarroll.txt\\t[304, 2694, 1927]',\n",
       " 'yet\\t21:DublinersbyJamesJoyce.txt\\t[2874, 1741, 86, 5914, 1703, 7435, 4883, 5992, 1184, 2015, 7165, 5531, 7542, 847, 7047, 1735, 984, 3786, 7156, 3784, 773]',\n",
       " 'yet\\t25:AliceAdventuresinWonderlandbyLewisCarroll.txt\\t[2863, 412, 3167, 2354, 768, 769, 1680, 3173, 1671, 1071, 1041, 3081, 838, 1524, 2308, 3248, 1051, 935, 3260, 986, 2899, 2899, 2093, 1804, 1061]',\n",
       " 'yet\\t30:BeowulfbyJLesslieHall.txt\\t[2068, 3181, 2749, 5632, 6536, 4728, 5656, 4280, 2745, 3150, 6193, 2640, 3738, 3068, 4268, 4093, 6004, 5038, 3096, 1993, 6394, 2787, 4838, 6024, 5181, 5184, 3901, 4305, 6464, 221]',\n",
       " 'yet\\t60:AdventuresOfHuckleberryFinnByMarkTwain.txt\\t[7412, 6949, 3958, 11692, 4795, 10714, 7323, 8872, 3674, 2413, 2689, 7722, 1956, 10232, 1555, 8686, 10889, 9640, 5483, 7835, 9554, 2623, 628, 7681, 6276, 10020, 9834, 4182, 8516, 8402, 11555, 11689, 7735, 3230, 10941, 3010, 11981, 8368, 4986, 7671, 2965, 1679, 10146, 11397, 3259, 3657, 7307, 2751, 9269, 4396, 5956, 11602, 7642, 1559, 11935, 5171, 9341, 2537, 7857, 10359]',\n",
       " 'yield\\t1:AdventuresOfHuckleberryFinnByMarkTwain.txt\\t[5449]',\n",
       " 'yield\\t1:BeowulfbyJLesslieHall.txt\\t[5803]',\n",
       " 'yield\\t1:DublinersbyJamesJoyce.txt\\t[7607]',\n",
       " 'yieldeth\\t1:BeowulfbyJLesslieHall.txt\\t[3525]',\n",
       " 'yielding\\t1:BeowulfbyJLesslieHall.txt\\t[3546]',\n",
       " 'yielding\\t1:DublinersbyJamesJoyce.txt\\t[7598]',\n",
       " 'yirls\\t2:AdventuresOfHuckleberryFinnByMarkTwain.txt\\t[6625, 6632]',\n",
       " 'yisterday\\t1:AdventuresOfHuckleberryFinnByMarkTwain.txt\\t[7585]',\n",
       " 'yistiddy\\t1:AdventuresOfHuckleberryFinnByMarkTwain.txt\\t[10433]',\n",
       " 'yit\\t8:AdventuresOfHuckleberryFinnByMarkTwain.txt\\t[1205, 8211, 4098, 3153, 3107, 1210, 2165, 3487]',\n",
       " 'yldo\\t1:BeowulfbyJLesslieHall.txt\\t[3550]',\n",
       " 'yo\\t16:AdventuresOfHuckleberryFinnByMarkTwain.txt\\t[1205, 3964, 2314, 10327, 1214, 3518, 2069, 2169, 11999, 4154, 2251, 5300, 4154, 1212, 3859, 3120]',\n",
       " 'yonder\\t1:BeowulfbyJLesslieHall.txt\\t[6248]',\n",
       " 'yonder\\t24:AdventuresOfHuckleberryFinnByMarkTwain.txt\\t[9202, 6468, 6835, 6480, 11353, 3992, 5130, 4004, 4063, 11210, 2197, 3384, 6929, 6946, 2371, 3071, 5427, 10124, 5106, 1724, 3183, 2696, 3021, 8169]',\n",
       " 'yore\\t11:BeowulfbyJLesslieHall.txt\\t[4961, 6335, 2184, 6241, 5315, 4316, 4832, 3181, 3504, 2666, 1761]',\n",
       " 'york\\t1:BeowulfbyJLesslieHall.txt\\t[47]',\n",
       " 'you\\t1555:AdventuresOfHuckleberryFinnByMarkTwain.txt\\t[7499, 2370, 1253, 8442, 9930, 1257, 7139, 11759, 3083, 9928, 1831, 1257, 12170, 678, 1258, 9931, 6777, 5383, 9927, 1259, 2372, 12069, 1259, 4662, 678, 7906, 9570, 1260, 1260, 4107, 2373, 2774, 12170, 582, 4106, 3796, 4127, 1260, 4131, 4105, 8010, 679, 12068, 4131, 1261, 1261, 1261, 11331, 10330, 5377, 4132, 3153, 3083, 4132, 1262, 1262, 3043, 3604, 3083, 9574, 3383, 7495, 1236, 3692, 5370, 1271, 7256, 1272, 10386, 680, 9921, 2376, 9921, 3083, 582, 7737, 7128, 1273, 11325, 1274, 1274, 12167, 9918, 1231, 11325, 9938, 6199, 10330, 1276, 5369, 6198, 8425, 3084, 12222, 7904, 8463, 1277, 12225, 11325, 1278, 7257, 2381, 12070, 9007, 11357, 7124, 11778, 10390, 9551, 3334, 4087, 12165, 8421, 2756, 9006, 9006, 2794, 7818, 1284, 7914, 4643, 2381, 2794, 12222, 7823, 1284, 4154, 1285, 1218, 12171, 4154, 3082, 7120, 4085, 1286, 6188, 8419, 2795, 4085, 1217, 1286, 9941, 2795, 2383, 1286, 4084, 1287, 1287, 2795, 1807, 7915, 1216, 7116, 11782, 10452, 5435, 1216, 9944, 5435, 6953, 3150, 2797, 5436, 1214, 5437, 7915, 10129, 2797, 12071, 1298, 3156, 9045, 11367, 1298, 6180, 6971, 2797, 10451, 2797, 11783, 1213, 5440, 12110, 1302, 6178, 2741, 1213, 6177, 9047, 3510, 2741, 6177, 1212, 6176, 3620, 3801, 2799, 7356, 7916, 2799, 6174, 9051, 2799, 6172, 1211, 1211, 1305, 6953, 2800, 6172, 9948, 1305, 7999, 9949, 7899, 4074, 6171, 1306, 7153, 8011, 11312, 4074, 4073, 7112, 5344, 6170, 3801, 4631, 1311, 5343, 6264, 6170, 3623, 7824, 4070, 7899, 7916, 4070, 7771, 6169, 7999, 4070, 9906, 6169, 2731, 4630, 5339, 5339, 3156, 5339, 7772, 4067, 5339, 1313, 4067, 7899, 5456, 10331, 4691, 1314, 4066, 11793, 6271, 8497, 9594, 5333, 8986, 7697, 11794, 5331, 12066, 1319, 6163, 5331, 8985, 3146, 6162, 1321, 2397, 4062, 4061, 7775, 1321, 7898, 6162, 10953, 12221, 6161, 1322, 3081, 8012, 8505, 8507, 3792, 2399, 7159, 7625, 1325, 10399, 5324, 2400, 12236, 3145, 2716, 4059, 8984, 609, 4704, 10578, 5322, 4059, 7779, 10319, 1329, 8984, 1329, 3498, 7626, 6156, 5319, 6156, 6154, 8983, 1196, 9969, 6767, 4708, 5314, 7897, 7998, 8981, 6152, 6152, 8980, 12089, 4058, 5314, 4057, 4057, 6150, 5466, 7897, 10188, 3081, 8980, 4189, 6150, 5309, 12176, 6149, 10738, 4189, 6144, 4712, 6144, 4056, 1778, 4718, 4056, 5309, 3802, 4055, 4617, 4718, 12227, 3323, 12120, 2817, 7263, 4055, 8974, 3157, 7163, 3697, 9072, 8516, 9886, 9073, 9886, 4614, 628, 3698, 11803, 3364, 4614, 4614, 9885, 10742, 3452, 8518, 10744, 8518, 5476, 8013, 12076, 9074, 8972, 4048, 4048, 8972, 9075, 2823, 3160, 8972, 3698, 9884, 6128, 3803, 4047, 7997, 7997, 8381, 12065, 7173, 2828, 610, 8381, 6987, 2828, 4043, 3160, 4042, 8524, 7996, 8525, 9882, 4042, 8525, 9081, 7627, 11806, 768, 11807, 9881, 4039, 8044, 10750, 10398, 1895, 7627, 8367, 2318, 7597, 9089, 8530, 1761, 4607, 825, 4607, 8530, 11815, 11815, 7996, 6989, 11694, 7922, 1170, 10999, 1170, 10942, 10398, 9091, 11816, 1170, 8960, 8531, 7593, 11816, 2850, 1170, 7890, 4026, 8955, 3384, 9092, 8955, 2850, 12157, 8954, 8954, 12243, 4026, 1169, 7922, 11402, 5277, 7995, 11402, 10761, 2422, 3515, 2856, 1164, 8354, 7592, 8536, 11821, 12063, 5274, 10761, 7890, 11407, 5273, 2857, 12063, 9873, 3807, 2426, 2691, 5271, 2858, 4017, 3787, 2691, 4016, 2858, 11687, 2859, 6334, 8943, 9872, 2859, 9872, 3699, 7512, 4596, 1153, 8943, 7363, 1152, 6996, 10768, 6338, 5508, 10768, 5268, 1152, 5266, 11825, 1150, 5513, 3385, 9869, 8351, 5513, 830, 5266, 8942, 10938, 2862, 7180, 2302, 7089, 12182, 9512, 1146, 12078, 8941, 5262, 10769, 4767, 5516, 6826, 11010, 6087, 2680, 11011, 1743, 3786, 8562, 2679, 1742, 10769, 6085, 1145, 10770, 5262, 6084, 6084, 10770, 6826, 12239, 5518, 2864, 7591, 610, 11013, 8566, 10771, 11278, 3996, 5259, 5520, 5521, 11013, 1378, 10389, 8344, 2298, 11278, 8569, 7324, 8570, 10935, 1142, 1142, 10671, 7003, 10935, 1141, 1141, 8574, 10670, 8575, 8930, 10410, 2867, 7768, 8577, 8577, 9992, 10332, 1135, 8335, 5534, 2869, 1135, 2869, 7810, 11019, 8334, 3985, 5535, 2870, 9858, 5535, 8334, 2870, 9993, 11675, 7184, 12102, 4254, 8585, 8333, 7004, 12199, 8585, 5247, 7808, 2872, 398, 11835, 7004, 4259, 12182, 2873, 3048, 3700, 6358, 3377, 8590, 9857, 10665, 5241, 8590, 8593, 11025, 4263, 2669, 8593, 10932, 4263, 2874, 3977, 10781, 8595, 3024, 3977, 7082, 12079, 3976, 4263, 7808, 8596, 9495, 2875, 7883, 9856, 4268, 11025, 2875, 6359, 4268, 9122, 2666, 9123, 9124, 8601, 4269, 7807, 2876, 3969, 4269, 9494, 4270, 7807, 8602, 3701, 1121, 7080, 5225, 4271, 10441, 8605, 3515, 8608, 8608, 8608, 5220, 10787, 2663, 10787, 7585, 4278, 9131, 4278, 10787, 9491, 1113, 11031, 9139, 12184, 8618, 8618, 8321, 10929, 7323, 4279, 8618, 7878, 8619, 8620, 3571, 639, 5208, 3571, 4284, 6388, 2997, 2280, 8621, 10572, 9852, 4289, 8621, 3750, 4290, 2278, 11038, 3702, 7199, 10926, 2278, 8622, 12101, 6405, 6405, 3385, 5204, 4292, 12153, 7637, 10792, 7079, 8623, 5203, 6410, 5202, 1707, 6794, 8625, 3507, 2273, 8625, 5202, 7749, 1705, 5201, 3703, 10651, 12229, 2269, 8626, 3187, 7256, 3752, 1705, 7801, 4810, 1422, 1422, 11862, 2263, 3752, 11864, 8631, 9473, 11438, 3050, 4555, 6020, 1700, 3120, 3503, 10795, 8302, 11864, 6020, 5196, 10796, 9847, 9469, 2258, 10796, 10872, 3781, 12255, 9153, 6019, 2256, 6421, 9648, 9154, 426, 9157, 11870, 9157, 8633, 8634, 11870, 12100, 8634, 3565, 12151, 12055, 2254, 2252, 8291, 2251, 8636, 8287, 6431, 3752, 6009, 2250, 8284, 10333, 3781, 2250, 4304, 2250, 6009, 3565, 6008, 1074, 10801, 8283, 1074, 5172, 12234, 7257, 10327, 3168, 9166, 5171, 3753, 7017, 5997, 5997, 6437, 9167, 9167, 5171, 9168, 3930, 9457, 2248, 1438, 9457, 12189, 7580, 3929, 6439, 3929, 1068, 11879, 3928, 3928, 10804, 1067, 1067, 8276, 1440, 1974, 2248, 10308, 9454, 1974, 7018, 3926, 3926, 9454, 1975, 7018, 10809, 2246, 10327, 10635, 1059, 1059, 7798, 6796, 9838, 7936, 9453, 7279, 3923, 1057, 4836, 1056, 3778, 3923, 9452, 4836, 9188, 6461, 6919, 8266, 9450, 5612, 6918, 5151, 9448, 3171, 11454, 5151, 8039, 9448, 9448, 12128, 10630, 9193, 12097, 905, 10455, 11230, 4850, 7735, 10628, 4324, 11621, 3778, 10817, 3560, 2624, 5619, 11228, 11228, 7768, 3914, 4325, 11615, 3482, 4327, 3754, 7798, 2234, 11060, 11227, 7845, 4331, 2233, 1040, 2621, 12191, 716, 2233, 10622, 10622, 4332, 6474, 4332, 7845, 1034, 1666, 10335, 10526, 10394, 11464, 5133, 1034, 9430, 5132, 5132, 7023, 9430, 9428, 9821, 4865, 11220, 717, 7797, 8247, 11220, 10820, 8021, 6492, 4865, 10389, 9820, 4866, 6496, 10821, 8240, 7, 8239, 3505, 7943, 10526, 4866, 2615, 5634, 10053, 10333, 5634, 1657, 9426, 718, 3754, 8239, 8238, 9213, 3106, 1654, 2491, 11469, 4868, 2491, 1652, 3754, 3755, 3106, 2610, 718, 3461, 10055, 7849, 719, 6909, 5116, 6908, 2222, 12095, 3467, 4351, 10055, 4869, 2493, 1646, 6738, 10254, 2220, 9424, 10055, 4357, 9421, 8228, 722, 11906, 2219, 9417, 4358, 722, 11908, 4873, 9416, 4358, 6902, 4875, 11910, 3106, 4359, 11534, 5109, 3107, 11205, 1640, 11910, 11910, 5108, 12194, 9808, 5108, 5107, 7752, 11474, 4877, 3052, 7774, 3889, 9416, 11203, 11917, 1010, 2215, 1009, 5945, 5106, 11203, 10828, 6524, 7024, 11921, 11921, 2215, 2498, 7574, 9414, 11201, 10333, 2498, 5942, 5103, 6799, 11925, 2213, 6527, 7796, 2590, 9410, 2212, 4885, 6736, 2498, 7339, 2499, 11199, 5095, 8212, 11930, 4373, 11932, 4373, 6900, 12049, 5092, 5090, 5088, 11933, 11590, 11590, 10830, 5087, 10075, 11590, 7385, 5938, 10830, 11193, 5085, 5085, 10830, 4895, 4895, 7026, 8202, 4383, 6547, 7026, 10831, 8201, 5083, 5933, 6734, 8687, 8687, 2990, 4383, 7864, 4385, 5081, 12261, 4385, 10831, 9394, 5078, 9394, 8688, 10078, 4386, 3644, 2990, 12197, 10317, 3758, 9798, 4387, 7730, 3860, 9798, 3860, 8689, 11079, 9798, 9393, 4388, 11079, 4389, 3772, 7228, 5923, 2990, 5923, 4389, 10092, 794, 5921, 7791, 3858, 10092, 3713, 6565, 9261, 5919, 4391, 9261, 5918, 9791, 4902, 9261, 3857, 10834, 5917, 7791, 5917, 5059, 5916, 10834, 8817, 9392, 3856, 3758, 9271, 3855, 5911, 9783, 8034, 12230, 9271, 7655, 9272, 7863, 10099, 3769, 9277, 10835, 11490, 7851, 5048, 11491, 7851, 10836, 9388, 9280, 10100, 2067, 5047, 2068, 3846, 4909, 9281, 9385, 6582, 8177, 5041, 9383, 11493, 6587, 8805, 5040, 8034, 10209, 8026, 7244, 2516, 11087, 10408, 12130, 10589, 9768, 5037, 12233, 5037, 2979, 7779, 7748, 9382, 7656, 5036, 7656, 7033, 10210, 5036, 3386, 10144, 3228, 7852, 7245, 6598, 11088, 2079, 5030, 2079, 11966, 3110, 11088, 10292, 11966, 8167, 6600, 11570, 6601, 8167, 9376, 8028, 9293, 2082, 11967, 11499, 4927, 2086, 11968, 12237, 2188, 5712, 9294, 11500, 10337, 4933, 9756, 2088, 10146, 2094, 611, 4414, 4418, 2098, 4420, 3506, 2098, 4420, 9295, 3769, 10847, 9296, 10847, 4935, 2100, 12043, 11562, 2186, 11970, 8725, 4426, 2105, 12237, 2105, 860, 4426, 11160, 8727, 11562, 2105, 7656, 11504, 7246, 12087, 11562, 10172, 2106, 8150, 12231, 7657, 11159, 3511, 8146, 11158, 7861, 10854, 8732, 9705, 8792, 8792, 11158, 12264, 12040, 12091, 8791, 3531, 9311, 8137, 3373, 11508, 11508, 11509, 8137, 12039, 9311, 7781, 7383, 4944, 9742, 870, 8083, 5740, 5741, 871, 6625, 5743, 12039, 4474, 12038, 9735, 10859, 8083, 11523, 6879, 8745, 9313, 12232, 6714, 10859, 9313, 4946, 11148, 10859, 9317, 1530, 4947, 5754, 7041, 7728, 12232, 2121, 9732, 10567, 8754, 7042, 11147, 8754, 5763, 7968, 2126, 5763, 5801, 6804, 876, 5767, 3226, 2126, 11143, 12224, 9324, 10168, 6636, 10861, 9328, 2135, 2173, 2135, 1538, 882, 8030, 11997, 7858, 7743, 6640, 2136, 11135, 4445, 6643, 6643, 11530, 2140, 11131, 11998, 2144, 11530, 2144, 2170, 11999, 887, 10866, 10384, 12033, 2144, 10866, 2144, 11999, 2144, 3762, 7046, 1542, 2544, 3305, 11532, 7858, 3055, 11114, 2153, 11533, 4461, 3263, 470, 3766, 3525, 895, 8031, 1553, 7042, 4455, 896, 3525, 3529, 896, 6673, 907, 11122, 3187, 904, 3527, 10383, 6684, 11118, 7269, 898, 2162, 906, 3352, 8008, 1252, 7135, 1252, 1706]',\n",
       " 'you\\t481:AliceAdventuresinWonderlandbyLewisCarroll.txt\\t[2971, 2296, 986, 987, 3606, 2295, 2293, 2293, 2292, 987, 3604, 3604, 2279, 988, 3603, 3278, 122, 2267, 1215, 3601, 989, 1211, 2981, 2669, 3600, 3599, 3599, 370, 2989, 371, 3598, 2242, 3597, 2236, 2235, 2234, 2674, 2231, 3596, 119, 3593, 2216, 391, 2216, 2216, 118, 3592, 3005, 3005, 3590, 2201, 155, 996, 3010, 996, 1344, 2194, 2678, 2189, 117, 2633, 3588, 3588, 406, 3014, 3587, 1001, 409, 409, 2616, 2620, 412, 412, 413, 1001, 420, 1211, 427, 427, 429, 429, 2150, 3023, 431, 3023, 433, 3028, 1179, 2132, 2688, 2124, 440, 2118, 443, 444, 3038, 1325, 3564, 2693, 110, 110, 2620, 3562, 2105, 109, 1210, 3559, 3556, 1024, 465, 108, 1025, 3287, 1025, 470, 470, 3554, 1313, 475, 476, 3549, 1312, 485, 489, 1035, 3547, 495, 2062, 2062, 1039, 3546, 2055, 505, 516, 2033, 3539, 2023, 528, 2620, 529, 3076, 2013, 2012, 1041, 3535, 3533, 1042, 542, 3533, 1986, 2707, 3529, 3527, 557, 559, 1294, 1294, 1294, 1294, 1049, 3519, 581, 581, 582, 1948, 1947, 1945, 589, 1941, 1941, 601, 3515, 1927, 1926, 634, 639, 639, 642, 3513, 651, 653, 654, 95, 1051, 664, 666, 1881, 1878, 1875, 1874, 1874, 675, 2620, 676, 1286, 683, 2620, 1202, 1284, 1851, 688, 1850, 2621, 3122, 1057, 3491, 1831, 1823, 2728, 1823, 3489, 1059, 712, 1807, 1807, 1793, 1780, 1774, 3481, 1061, 1202, 1761, 1757, 3153, 1062, 1200, 3158, 1734, 1732, 1728, 1726, 1721, 1718, 2621, 1716, 1715, 1069, 1713, 2621, 3471, 1706, 3306, 1705, 1704, 1698, 1695, 1692, 1692, 2623, 1689, 769, 1680, 2854, 1672, 3463, 1662, 1071, 3462, 780, 1656, 3461, 780, 781, 3177, 1072, 3307, 1651, 3459, 1645, 1076, 1077, 2753, 3457, 1633, 799, 1629, 1626, 1623, 1621, 1618, 1618, 806, 3453, 1613, 1613, 1613, 1604, 817, 3450, 1595, 1593, 3449, 826, 826, 3196, 2621, 3197, 3197, 842, 1090, 3441, 843, 2850, 2627, 3440, 3205, 1551, 1550, 2621, 1548, 3438, 858, 1093, 3213, 860, 865, 3218, 1100, 1526, 868, 3433, 1520, 1520, 871, 1102, 1514, 3432, 871, 1510, 3431, 1508, 1508, 3430, 1505, 1505, 1503, 2776, 1501, 3226, 2776, 1500, 1496, 3229, 881, 2779, 3428, 1192, 1488, 3427, 1488, 3230, 1484, 1480, 3425, 1477, 3425, 3235, 3238, 3315, 3416, 1158, 2783, 1452, 1112, 1451, 2783, 3411, 3401, 3320, 1119, 3260, 3399, 1421, 1421, 2787, 1119, 3397, 2634, 3397, 2607, 2605, 2605, 2605, 2605, 2605, 161, 2604, 2604, 2604, 2604, 2639, 2604, 2602, 2598, 2591, 2589, 2584, 179, 179, 179, 3396, 181, 3263, 182, 2568, 1224, 2564, 2564, 3263, 2556, 2552, 2548, 2543, 202, 2541, 2540, 1382, 2523, 1222, 2910, 2910, 2506, 218, 2494, 2484, 2481, 2480, 2476, 2461, 2446, 2439, 2435, 260, 3631, 262, 262, 262, 2429, 2427, 2649, 2938, 2424, 1373, 3628, 2416, 965, 285, 2652, 2404, 286, 2652, 287, 2652, 3391, 2395, 2385, 3622, 298, 972, 2951, 2370, 2365, 2362, 2956, 2354, 2958, 2958, 4, 3272, 2331, 2330, 126, 976, 3610, 1362, 3274, 986, 2307, 2299, 2970, 1697]',\n",
       " 'you\\t526:DublinersbyJamesJoyce.txt\\t[6800, 8035, 8034, 1461, 285, 6120, 6142, 1466, 5428, 4970, 6124, 1472, 307, 308, 6997, 6163, 308, 308, 4273, 4964, 3311, 5579, 6231, 8012, 8074, 4031, 6162, 1428, 1484, 1964, 1964, 8010, 4612, 7523, 4310, 7486, 8007, 8004, 5093, 8002, 7484, 336, 1424, 338, 4956, 6928, 5903, 342, 5903, 7997, 345, 1420, 351, 5441, 5340, 7995, 7995, 4644, 2513, 6262, 7989, 4050, 94, 6916, 6916, 6086, 374, 376, 5372, 1519, 1519, 7984, 7983, 7544, 7263, 7983, 8056, 7263, 7548, 4245, 1413, 7980, 1537, 5304, 7978, 6283, 3106, 6283, 7560, 5604, 1541, 1541, 3097, 6291, 400, 7258, 3096, 1542, 5604, 1408, 3094, 2439, 5420, 3540, 7970, 6296, 7468, 3085, 3085, 5299, 3085, 6890, 5093, 2507, 3079, 3078, 3697, 2507, 7966, 1549, 3071, 7324, 2058, 3065, 7964, 3065, 6885, 4330, 3056, 2067, 6883, 3051, 7744, 7325, 4768, 2505, 3039, 4330, 4332, 5612, 7575, 2081, 7332, 4333, 3004, 4333, 453, 454, 3003, 460, 4333, 4218, 2503, 7943, 464, 2986, 6345, 465, 6346, 466, 7941, 4212, 107, 7590, 3734, 5618, 4208, 3739, 7933, 6002, 6847, 1586, 4335, 3748, 4682, 7725, 1592, 5621, 2501, 1003, 3751, 3751, 1592, 7923, 4019, 5459, 121, 5541, 5460, 4533, 7915, 7605, 7914, 7913, 3762, 3764, 7910, 3766, 5370, 4892, 7224, 7908, 2916, 4691, 2142, 5632, 7904, 5461, 2151, 4695, 4188, 7902, 535, 7900, 4885, 2157, 2896, 2157, 2157, 4883, 2895, 3784, 2495, 807, 1843, 1843, 3791, 4005, 7892, 5643, 3796, 7891, 7624, 6131, 7889, 3806, 6417, 5843, 7884, 7883, 132, 3813, 6430, 7882, 6431, 7881, 6436, 6436, 7879, 3816, 2848, 2847, 7878, 5349, 2847, 2847, 6795, 2488, 2846, 2846, 5509, 7876, 4164, 2846, 6043, 7876, 5535, 2845, 2845, 6437, 5706, 4160, 4158, 2829, 7867, 2829, 937, 2827, 7643, 3829, 2206, 7861, 2206, 4153, 7853, 3836, 2210, 2210, 2211, 7850, 921, 5822, 7849, 3839, 4863, 7849, 7848, 4029, 4147, 2223, 4010, 2226, 6466, 2228, 7654, 4860, 2790, 7843, 6468, 614, 2233, 2487, 2233, 6474, 6474, 6481, 4853, 7660, 7366, 6489, 4136, 6495, 2767, 4846, 5526, 3868, 5353, 4844, 629, 4130, 6498, 2260, 2260, 3872, 2760, 4843, 2759, 2262, 7369, 6505, 7171, 6055, 5667, 2485, 2263, 6506, 5354, 6508, 4723, 5668, 2270, 2272, 4723, 4020, 6749, 6520, 5385, 7373, 4724, 2282, 4724, 6741, 3896, 5116, 3896, 6741, 6741, 3899, 2480, 2291, 6735, 5356, 2717, 6732, 6644, 2712, 2712, 6732, 6729, 4109, 667, 5250, 880, 3910, 2696, 880, 2696, 2304, 2304, 5519, 6723, 2694, 2305, 2694, 4104, 2305, 4013, 2693, 8068, 2688, 3913, 1789, 2687, 1789, 2686, 2681, 6551, 2680, 2680, 7389, 6646, 5779, 2680, 4102, 5017, 3919, 2316, 6559, 5491, 4102, 6561, 2318, 6561, 868, 2318, 5244, 6660, 4100, 2325, 2657, 2325, 3929, 6660, 5681, 5518, 2332, 7695, 6575, 6575, 5715, 6579, 4, 149, 5767, 4016, 2338, 2626, 2343, 5101, 2348, 4085, 3949, 5101, 3950, 4084, 4083, 3952, 3952, 4082, 152, 6697, 2367, 2368, 2371, 2372, 2373, 2468, 4076, 3967, 4072, 2386, 3970, 3971, 2387, 4406, 2387, 2388, 2404, 2409, 2409, 5372, 2410, 3979, 5502, 3984, 3984, 2418, 5212, 821, 819, 5733, 8052, 5503, 8050, 8050, 4996, 8049, 5000, 5333, 6177, 4991, 8077, 8047, 3249, 5556, 3248, 8046, 6183, 8045, 5334, 8045, 4296, 8044, 6189, 6995, 8043, 8042, 2428, 8040, 8038, 6196, 6197, 8037, 4285, 4282, 8035]',\n",
       " 'you\\t91:BeowulfbyJLesslieHall.txt\\t[6718, 6406, 6899, 6709, 6708, 6706, 6721, 1952, 6693, 6693, 6896, 6396, 6701, 6695, 6759, 1540, 6700, 6781, 6699, 6659, 6698, 6696, 1540, 6783, 6890, 6725, 6679, 1982, 6878, 6787, 6874, 6872, 6727, 6872, 6012, 6871, 6729, 6669, 6730, 6869, 6731, 6868, 6867, 6867, 6866, 6795, 6865, 6667, 6757, 6797, 6864, 1496, 1971, 1971, 6665, 6861, 6739, 6665, 6860, 6822, 1948, 6858, 6817, 3490, 3490, 6856, 6856, 6664, 4, 6855, 6801, 1966, 1942, 1500, 6801, 1689, 2080, 6832, 6749, 2085, 6803, 6814, 2085, 6815, 6830, 6807, 6827, 6824, 6717, 6026, 6684]',\n",
       " 'you_\\t1:DublinersbyJamesJoyce.txt\\t[780]',\n",
       " 'young\\t111:DublinersbyJamesJoyce.txt\\t[7645, 135, 4948, 3198, 1280, 939, 4507, 940, 1724, 6253, 2522, 941, 135, 5026, 1823, 1345, 1826, 1641, 4565, 6410, 6248, 6247, 4956, 6405, 2886, 1369, 1620, 6241, 3170, 1158, 3769, 2419, 6235, 2929, 1611, 3213, 4195, 5074, 6841, 1853, 2950, 3205, 2951, 6367, 1854, 2954, 4998, 4202, 1854, 1577, 1855, 5289, 1570, 1856, 1732, 1859, 1031, 4666, 5215, 1155, 1757, 6313, 5296, 4993, 1455, 1867, 422, 1163, 5029, 5022, 3209, 1918, 4937, 6288, 2615, 7703, 4817, 1240, 3684, 6273, 3397, 3196, 6271, 1950, 1265, 1259, 1750, 1693, 7804, 4429, 1768, 6061, 1717, 6267, 1320, 7675, 3198, 4946, 644, 1156, 6049, 1258, 608, 4713, 1159, 915, 4624, 915, 4799, 931, 4652]',\n",
       " 'young\\t12:BeowulfbyJLesslieHall.txt\\t[966, 3173, 1087, 6004, 4593, 979, 4280, 5669, 5303, 5332, 4427, 3249]',\n",
       " 'young\\t57:AdventuresOfHuckleberryFinnByMarkTwain.txt\\t[4531, 9470, 6708, 394, 4397, 5557, 4959, 4902, 6059, 4697, 4975, 4307, 6477, 6591, 5273, 11807, 6856, 4497, 4541, 4990, 6596, 2228, 6625, 4519, 7361, 4364, 7758, 4581, 4531, 2225, 5236, 4985, 4534, 6052, 4312, 8353, 10438, 4678, 5071, 6583, 5586, 4938, 4680, 6667, 340, 5531, 5219, 4933, 4398, 5584, 2227, 6578, 5584, 7489, 4492, 4523, 4510]',\n",
       " 'young\\t5:AliceAdventuresinWonderlandbyLewisCarroll.txt\\t[665, 1039, 1765, 2400, 2371]']"
      ]
     },
     "execution_count": 154,
     "metadata": {},
     "output_type": "execute_result"
    }
   ],
   "source": [
    "lines"
   ]
  },
  {
   "cell_type": "code",
   "execution_count": 152,
   "metadata": {
    "collapsed": false
   },
   "outputs": [],
   "source": [
    "# reducer\n",
    "count_index = {}\n",
    "for line in lines:\n",
    "    word, count_and_book, listing = line.split('\\t')\n",
    "    count, book = count_and_book.split(':')\n",
    "    \n",
    "    count_index[word] = []\n",
    "    #count_index[word].setdefault(book, [0, None]) # need to set a default to avoid index error\n",
    "    #count_index[word][book] = [int(count), listing]\n",
    "    count_index[word].append([int(count), book, listing])\n",
    "    #print('%s\\t%s\\t%s' % (word, book, str(count_index[word][book])))\n",
    "    "
   ]
  },
  {
   "cell_type": "code",
   "execution_count": 155,
   "metadata": {
    "collapsed": false
   },
   "outputs": [
    {
     "data": {
      "text/plain": [
       "[[24,\n",
       "  'AdventuresOfHuckleberryFinnByMarkTwain.txt',\n",
       "  '[9202, 6468, 6835, 6480, 11353, 3992, 5130, 4004, 4063, 11210, 2197, 3384, 6929, 6946, 2371, 3071, 5427, 10124, 5106, 1724, 3183, 2696, 3021, 8169]']]"
      ]
     },
     "execution_count": 155,
     "metadata": {},
     "output_type": "execute_result"
    }
   ],
   "source": [
    "count_index['yonder']"
   ]
  },
  {
   "cell_type": "code",
   "execution_count": 146,
   "metadata": {
    "collapsed": false
   },
   "outputs": [
    {
     "data": {
      "text/plain": [
       "{'\"xxxiii': [['2', 'BeowulfbyJLesslieHall.txt', '[5090, 158]']],\n",
       " 'xxxiv': [['2', 'BeowulfbyJLesslieHall.txt', '[162, 5215]']],\n",
       " 'xxxix': [['2', 'BeowulfbyJLesslieHall.txt', '[182, 5943]']],\n",
       " 'xxxv': [['2', 'BeowulfbyJLesslieHall.txt', '[5341, 166]']],\n",
       " 'xxxvi': [['2', 'BeowulfbyJLesslieHall.txt', '[5566, 170]']],\n",
       " 'xxxvii': [['2', 'BeowulfbyJLesslieHall.txt', '[174, 5715]']],\n",
       " 'xxxviii': [['2', 'BeowulfbyJLesslieHall.txt', '[178, 5829]']],\n",
       " 'y': [['2', 'DublinersbyJamesJoyce.txt', '[5036, 5017]']],\n",
       " 'ya': [['1', 'DublinersbyJamesJoyce.txt', '[433]']],\n",
       " 'yacht': [['3', 'DublinersbyJamesJoyce.txt', '[1337, 1310, 1315]']],\n",
       " 'yachting': [['1', 'DublinersbyJamesJoyce.txt', '[1373]']],\n",
       " 'yahoos': [['1', 'DublinersbyJamesJoyce.txt', '[5348]']],\n",
       " 'yaka': [['3', 'DublinersbyJamesJoyce.txt', '[433, 433, 433]']],\n",
       " 'yaller': [['11',\n",
       "   'AdventuresOfHuckleberryFinnByMarkTwain.txt',\n",
       "   '[6868, 1289, 10438, 11014, 9552, 6874, 7978, 9361, 6906, 11048, 6910]']],\n",
       " 'yard': [['1', 'AliceAdventuresinWonderlandbyLewisCarroll.txt', '[3357]']],\n",
       " 'yards': [['2', 'DublinersbyJamesJoyce.txt', '[4902, 4265]']],\n",
       " 'yarlet': [['1', 'AdventuresOfHuckleberryFinnByMarkTwain.txt', '[6483]']],\n",
       " 'yarn': [['6',\n",
       "   'AdventuresOfHuckleberryFinnByMarkTwain.txt',\n",
       "   '[8229, 2769, 11737, 5204, 3264, 11725]']],\n",
       " 'yarter': [['1', 'AdventuresOfHuckleberryFinnByMarkTwain.txt', '[10813]']],\n",
       " 'yawl': [['3',\n",
       "   'AdventuresOfHuckleberryFinnByMarkTwain.txt',\n",
       "   '[6722, 6728, 6732]']],\n",
       " 'yawled': [['1', 'AdventuresOfHuckleberryFinnByMarkTwain.txt', '[6731]']],\n",
       " 'yawn': [['1', 'AdventuresOfHuckleberryFinnByMarkTwain.txt', '[5795]']],\n",
       " 'yawned': [['2',\n",
       "   'AliceAdventuresinWonderlandbyLewisCarroll.txt',\n",
       "   '[1117, 2641]']],\n",
       " 'yawning': [['2',\n",
       "   'AliceAdventuresinWonderlandbyLewisCarroll.txt',\n",
       "   '[1861, 1764]']],\n",
       " 'ye': [['8',\n",
       "   'AdventuresOfHuckleberryFinnByMarkTwain.txt',\n",
       "   '[8512, 8497, 10441, 10464, 11808, 8755, 8975, 11462]']],\n",
       " 'year': [['3', 'BeowulfbyJLesslieHall.txt', '[50, 5593, 3096]']],\n",
       " 'year_': [['1', 'AdventuresOfHuckleberryFinnByMarkTwain.txt', '[10086]']],\n",
       " 'yearly': [['1', 'AdventuresOfHuckleberryFinnByMarkTwain.txt', '[1140]']],\n",
       " 'years': [['37',\n",
       "   'DublinersbyJamesJoyce.txt',\n",
       "   '[181, 6989, 3523, 7188, 7344, 1922, 2066, 2134, 7447, 2374, 7440, 3570, 3367, 1903, 5142, 5969, 2451, 5969, 5975, 3354, 1949, 3172, 5170, 7439, 7798, 1169, 3482, 3638, 981, 3118, 3530, 6449, 3569, 2085, 984, 8163, 6669]']],\n",
       " 'yell': [['7',\n",
       "   'AdventuresOfHuckleberryFinnByMarkTwain.txt',\n",
       "   '[4861, 6508, 4206, 6024, 5027, 6178, 11260]']],\n",
       " 'yelled': [['4',\n",
       "   'AdventuresOfHuckleberryFinnByMarkTwain.txt',\n",
       "   '[8092, 2526, 11260, 5989]']],\n",
       " 'yelling': [['9',\n",
       "   'AdventuresOfHuckleberryFinnByMarkTwain.txt',\n",
       "   '[6109, 4958, 5982, 2510, 1591, 8080, 9531, 11274, 4965]']],\n",
       " 'yellocute': [['1', 'AdventuresOfHuckleberryFinnByMarkTwain.txt', '[8665]']],\n",
       " 'yellocution': [['1',\n",
       "   'AdventuresOfHuckleberryFinnByMarkTwain.txt',\n",
       "   '[8665]']],\n",
       " 'yellow': [['9',\n",
       "   'DublinersbyJamesJoyce.txt',\n",
       "   '[2956, 6774, 6784, 3999, 1879, 4973, 624, 7401, 738]']],\n",
       " 'yellower': [['1', 'AdventuresOfHuckleberryFinnByMarkTwain.txt', '[4460]']],\n",
       " 'yellowing': [['1', 'DublinersbyJamesJoyce.txt', '[985]']],\n",
       " 'yells': [['2',\n",
       "   'AdventuresOfHuckleberryFinnByMarkTwain.txt',\n",
       "   '[6006, 8364]']],\n",
       " 'yelp': [['1', 'AliceAdventuresinWonderlandbyLewisCarroll.txt', '[919]']],\n",
       " 'yer': [['4',\n",
       "   'AliceAdventuresinWonderlandbyLewisCarroll.txt',\n",
       "   '[808, 820, 825, 815]']],\n",
       " 'yerd': [['1', 'AdventuresOfHuckleberryFinnByMarkTwain.txt', '[4890]']],\n",
       " 'yerra': [['1', 'DublinersbyJamesJoyce.txt', '[4077]']],\n",
       " 'yers': [['1', 'AdventuresOfHuckleberryFinnByMarkTwain.txt', '[9802]']],\n",
       " 'yes': [['95',\n",
       "   'AdventuresOfHuckleberryFinnByMarkTwain.txt',\n",
       "   '[5343, 3307, 8313, 10766, 4909, 3618, 8223, 8919, 830, 4758, 7161, 7663, 2430, 10839, 6695, 11864, 7857, 6690, 5279, 9572, 2222, 10826, 2105, 9096, 4751, 8740, 8549, 9606, 5263, 3336, 10067, 2683, 9651, 7902, 9655, 9094, 6623, 5335, 11761, 6325, 2743, 10113, 3501, 1517, 7733, 11133, 6645, 10099, 3472, 8005, 2748, 9735, 6937, 8034, 3998, 1526, 3348, 10212, 6681, 8521, 4416, 2092, 7137, 8047, 6449, 9119, 2716, 8720, 3171, 10042, 5923, 1140, 4501, 6898, 5677, 10999, 7854, 10830, 2722, 10750, 3485, 4746, 11455, 1536, 9382, 2321, 7642, 9117, 9738, 5250, 8039, 7097, 9068, 2280, 6932]']],\n",
       " 'yesterday': [['3',\n",
       "   'AliceAdventuresinWonderlandbyLewisCarroll.txt',\n",
       "   '[304, 2694, 1927]']],\n",
       " 'yet': [['60',\n",
       "   'AdventuresOfHuckleberryFinnByMarkTwain.txt',\n",
       "   '[7412, 6949, 3958, 11692, 4795, 10714, 7323, 8872, 3674, 2413, 2689, 7722, 1956, 10232, 1555, 8686, 10889, 9640, 5483, 7835, 9554, 2623, 628, 7681, 6276, 10020, 9834, 4182, 8516, 8402, 11555, 11689, 7735, 3230, 10941, 3010, 11981, 8368, 4986, 7671, 2965, 1679, 10146, 11397, 3259, 3657, 7307, 2751, 9269, 4396, 5956, 11602, 7642, 1559, 11935, 5171, 9341, 2537, 7857, 10359]']],\n",
       " 'yield': [['1', 'DublinersbyJamesJoyce.txt', '[7607]']],\n",
       " 'yieldeth': [['1', 'BeowulfbyJLesslieHall.txt', '[3525]']],\n",
       " 'yielding': [['1', 'DublinersbyJamesJoyce.txt', '[7598]']],\n",
       " 'yirls': [['2',\n",
       "   'AdventuresOfHuckleberryFinnByMarkTwain.txt',\n",
       "   '[6625, 6632]']],\n",
       " 'yisterday': [['1', 'AdventuresOfHuckleberryFinnByMarkTwain.txt', '[7585]']],\n",
       " 'yistiddy': [['1', 'AdventuresOfHuckleberryFinnByMarkTwain.txt', '[10433]']],\n",
       " 'yit': [['8',\n",
       "   'AdventuresOfHuckleberryFinnByMarkTwain.txt',\n",
       "   '[1205, 8211, 4098, 3153, 3107, 1210, 2165, 3487]']],\n",
       " 'yldo': [['1', 'BeowulfbyJLesslieHall.txt', '[3550]']],\n",
       " 'yo': [['16',\n",
       "   'AdventuresOfHuckleberryFinnByMarkTwain.txt',\n",
       "   '[1205, 3964, 2314, 10327, 1214, 3518, 2069, 2169, 11999, 4154, 2251, 5300, 4154, 1212, 3859, 3120]']],\n",
       " 'yonder': [['24',\n",
       "   'AdventuresOfHuckleberryFinnByMarkTwain.txt',\n",
       "   '[9202, 6468, 6835, 6480, 11353, 3992, 5130, 4004, 4063, 11210, 2197, 3384, 6929, 6946, 2371, 3071, 5427, 10124, 5106, 1724, 3183, 2696, 3021, 8169]']],\n",
       " 'yore': [['11',\n",
       "   'BeowulfbyJLesslieHall.txt',\n",
       "   '[4961, 6335, 2184, 6241, 5315, 4316, 4832, 3181, 3504, 2666, 1761]']],\n",
       " 'york': [['1', 'BeowulfbyJLesslieHall.txt', '[47]']],\n",
       " 'you': [['91',\n",
       "   'BeowulfbyJLesslieHall.txt',\n",
       "   '[6718, 6406, 6899, 6709, 6708, 6706, 6721, 1952, 6693, 6693, 6896, 6396, 6701, 6695, 6759, 1540, 6700, 6781, 6699, 6659, 6698, 6696, 1540, 6783, 6890, 6725, 6679, 1982, 6878, 6787, 6874, 6872, 6727, 6872, 6012, 6871, 6729, 6669, 6730, 6869, 6731, 6868, 6867, 6867, 6866, 6795, 6865, 6667, 6757, 6797, 6864, 1496, 1971, 1971, 6665, 6861, 6739, 6665, 6860, 6822, 1948, 6858, 6817, 3490, 3490, 6856, 6856, 6664, 4, 6855, 6801, 1966, 1942, 1500, 6801, 1689, 2080, 6832, 6749, 2085, 6803, 6814, 2085, 6815, 6830, 6807, 6827, 6824, 6717, 6026, 6684]']],\n",
       " 'you_': [['1', 'DublinersbyJamesJoyce.txt', '[780]']],\n",
       " 'young': [['5',\n",
       "   'AliceAdventuresinWonderlandbyLewisCarroll.txt',\n",
       "   '[665, 1039, 1765, 2400, 2371]']]}"
      ]
     },
     "execution_count": 146,
     "metadata": {},
     "output_type": "execute_result"
    }
   ],
   "source": [
    "count_index"
   ]
  },
  {
   "cell_type": "code",
   "execution_count": 174,
   "metadata": {
    "collapsed": false
   },
   "outputs": [
    {
     "data": {
      "text/plain": [
       "[1]"
      ]
     },
     "execution_count": 174,
     "metadata": {},
     "output_type": "execute_result"
    }
   ],
   "source": [
    "reducer_index['yield']"
   ]
  },
  {
   "cell_type": "code",
   "execution_count": 175,
   "metadata": {
    "collapsed": false
   },
   "outputs": [
    {
     "data": {
      "text/plain": [
       "1"
      ]
     },
     "execution_count": 175,
     "metadata": {},
     "output_type": "execute_result"
    }
   ],
   "source": [
    "len(reducer_index['yield'])"
   ]
  },
  {
   "cell_type": "code",
   "execution_count": 179,
   "metadata": {
    "collapsed": false
   },
   "outputs": [
    {
     "data": {
      "text/plain": [
       "False"
      ]
     },
     "execution_count": 179,
     "metadata": {},
     "output_type": "execute_result"
    }
   ],
   "source": [
    "'x' in reducer_index"
   ]
  },
  {
   "cell_type": "code",
   "execution_count": 180,
   "metadata": {
    "collapsed": false
   },
   "outputs": [
    {
     "data": {
      "text/plain": [
       "True"
      ]
     },
     "execution_count": 180,
     "metadata": {},
     "output_type": "execute_result"
    }
   ],
   "source": [
    "'yield' in reducer_index"
   ]
  },
  {
   "cell_type": "code",
   "execution_count": 202,
   "metadata": {
    "collapsed": true
   },
   "outputs": [],
   "source": [
    "# reducer\n",
    "reducer_index = {}\n",
    "for line in lines:\n",
    "    word, count_and_book, listing = line.split('\\t')\n",
    "    count, book = count_and_book.split(':')\n",
    "    \n",
    "    if not word in reducer_index:\n",
    "        reducer_index[word] = []\n",
    "        \n",
    "    #count_index[word].setdefault(book, [0, None]) # need to set a default to avoid index error\n",
    "    #count_index[word][book] = [int(count), listing]\n",
    "    reducer_index[word].append([int(count), book, listing])\n",
    "\n",
    "# sort when we're done, DESC --> so highest frequency is first\n",
    "for word in reducer_index:\n",
    "    reducer_index[word].sort(reverse=True)\n",
    "    \n",
    "\n",
    "    #print('%s\\t%s\\t%s' % (word, book, str(count_index[word][book])))\n",
    "    #data = reducer_index[word]\n",
    "    #data.append(1)"
   ]
  },
  {
   "cell_type": "code",
   "execution_count": 203,
   "metadata": {
    "collapsed": false
   },
   "outputs": [
    {
     "data": {
      "text/plain": [
       "{'\"xxxiii': [[2, 'BeowulfbyJLesslieHall.txt', '[5090, 158]']],\n",
       " 'xxxiv': [[2, 'BeowulfbyJLesslieHall.txt', '[162, 5215]'],\n",
       "  [2, 'AdventuresOfHuckleberryFinnByMarkTwain.txt', '[9560, 136]']],\n",
       " 'xxxix': [[2, 'BeowulfbyJLesslieHall.txt', '[182, 5943]'],\n",
       "  [2, 'AdventuresOfHuckleberryFinnByMarkTwain.txt', '[151, 10896]']],\n",
       " 'xxxv': [[2, 'BeowulfbyJLesslieHall.txt', '[5341, 166]'],\n",
       "  [2, 'AdventuresOfHuckleberryFinnByMarkTwain.txt', '[9832, 139]']],\n",
       " 'xxxvi': [[2, 'BeowulfbyJLesslieHall.txt', '[5566, 170]'],\n",
       "  [2, 'AdventuresOfHuckleberryFinnByMarkTwain.txt', '[142, 10135]']],\n",
       " 'xxxvii': [[2, 'BeowulfbyJLesslieHall.txt', '[174, 5715]'],\n",
       "  [2, 'AdventuresOfHuckleberryFinnByMarkTwain.txt', '[145, 10344]']],\n",
       " 'xxxviii': [[2, 'BeowulfbyJLesslieHall.txt', '[178, 5829]'],\n",
       "  [2, 'AdventuresOfHuckleberryFinnByMarkTwain.txt', '[148, 10612]']],\n",
       " 'y': [[11,\n",
       "   'AdventuresOfHuckleberryFinnByMarkTwain.txt',\n",
       "   '[2105, 4888, 2283, 7655, 2275, 11864, 10312, 3529, 6482, 3985, 8581]'],\n",
       "  [2, 'DublinersbyJamesJoyce.txt', '[5036, 5017]'],\n",
       "  [1, 'BeowulfbyJLesslieHall.txt', '[6608]']],\n",
       " 'ya': [[1, 'DublinersbyJamesJoyce.txt', '[433]']],\n",
       " 'yacht': [[3, 'DublinersbyJamesJoyce.txt', '[1337, 1310, 1315]']],\n",
       " 'yachting': [[1, 'DublinersbyJamesJoyce.txt', '[1373]']],\n",
       " 'yahoos': [[1, 'DublinersbyJamesJoyce.txt', '[5348]']],\n",
       " 'yaka': [[3, 'DublinersbyJamesJoyce.txt', '[433, 433, 433]']],\n",
       " 'yaller': [[11,\n",
       "   'AdventuresOfHuckleberryFinnByMarkTwain.txt',\n",
       "   '[6868, 1289, 10438, 11014, 9552, 6874, 7978, 9361, 6906, 11048, 6910]']],\n",
       " 'yard': [[11,\n",
       "   'AdventuresOfHuckleberryFinnByMarkTwain.txt',\n",
       "   '[10347, 11155, 4064, 6129, 5557, 9367, 2225, 10033, 9016, 9666, 9012]'],\n",
       "  [1, 'AliceAdventuresinWonderlandbyLewisCarroll.txt', '[3357]']],\n",
       " 'yards': [[18,\n",
       "   'AdventuresOfHuckleberryFinnByMarkTwain.txt',\n",
       "   '[8870, 5160, 1667, 3250, 3652, 1776, 3247, 3393, 2878, 3983, 9354, 3453, 3125, 3262, 1805, 792, 3644, 2372]'],\n",
       "  [2, 'DublinersbyJamesJoyce.txt', '[4902, 4265]'],\n",
       "  [1, 'BeowulfbyJLesslieHall.txt', '[5315]'],\n",
       "  [1, 'AliceAdventuresinWonderlandbyLewisCarroll.txt', '[1469]']],\n",
       " 'yarlet': [[1, 'AdventuresOfHuckleberryFinnByMarkTwain.txt', '[6483]']],\n",
       " 'yarn': [[6,\n",
       "   'AdventuresOfHuckleberryFinnByMarkTwain.txt',\n",
       "   '[8229, 2769, 11737, 5204, 3264, 11725]']],\n",
       " 'yarter': [[1, 'AdventuresOfHuckleberryFinnByMarkTwain.txt', '[10813]']],\n",
       " 'yawl': [[3,\n",
       "   'AdventuresOfHuckleberryFinnByMarkTwain.txt',\n",
       "   '[6722, 6728, 6732]']],\n",
       " 'yawled': [[1, 'AdventuresOfHuckleberryFinnByMarkTwain.txt', '[6731]']],\n",
       " 'yawn': [[1, 'AdventuresOfHuckleberryFinnByMarkTwain.txt', '[5795]']],\n",
       " 'yawned': [[2,\n",
       "   'AliceAdventuresinWonderlandbyLewisCarroll.txt',\n",
       "   '[1117, 2641]']],\n",
       " 'yawning': [[2,\n",
       "   'AliceAdventuresinWonderlandbyLewisCarroll.txt',\n",
       "   '[1861, 1764]'],\n",
       "  [1, 'DublinersbyJamesJoyce.txt', '[3621]'],\n",
       "  [1, 'BeowulfbyJLesslieHall.txt', '[5460]'],\n",
       "  [1, 'AdventuresOfHuckleberryFinnByMarkTwain.txt', '[5894]']],\n",
       " 'ye': [[24,\n",
       "   'BeowulfbyJLesslieHall.txt',\n",
       "   '[5899, 5438, 1691, 1401, 6407, 1404, 1591, 1581, 1401, 1692, 6401, 1423, 1953, 1954, 1380, 1946, 3266, 1499, 1958, 6013, 1403, 1389, 1398, 5894]'],\n",
       "  [8,\n",
       "   'AdventuresOfHuckleberryFinnByMarkTwain.txt',\n",
       "   '[8512, 8497, 10441, 10464, 11808, 8755, 8975, 11462]'],\n",
       "  [3, 'DublinersbyJamesJoyce.txt', '[4311, 5441, 4311]'],\n",
       "  [1, 'AliceAdventuresinWonderlandbyLewisCarroll.txt', '[864]']],\n",
       " 'year': [[39,\n",
       "   'AdventuresOfHuckleberryFinnByMarkTwain.txt',\n",
       "   '[10149, 2288, 10160, 974, 7207, 4756, 9061, 8745, 2282, 595, 10483, 10416, 4730, 10690, 5980, 2588, 832, 5988, 7739, 6482, 6617, 10280, 9361, 5670, 10160, 4759, 10149, 8509, 10117, 2294, 6234, 7211, 11314, 7398, 11443, 5976, 7212, 2679, 2006]'],\n",
       "  [21,\n",
       "   'DublinersbyJamesJoyce.txt',\n",
       "   '[6046, 6584, 4637, 6481, 7018, 2469, 1955, 7484, 6338, 3830, 2431, 3398, 3293, 6381, 7009, 4437, 4450, 6124, 6537, 2424, 5978]'],\n",
       "  [3, 'BeowulfbyJLesslieHall.txt', '[50, 5593, 3096]'],\n",
       "  [2, 'AliceAdventuresinWonderlandbyLewisCarroll.txt', '[1666, 1663]']],\n",
       " 'year_': [[1, 'AdventuresOfHuckleberryFinnByMarkTwain.txt', '[10086]']],\n",
       " 'yearly': [[1, 'AdventuresOfHuckleberryFinnByMarkTwain.txt', '[1140]']],\n",
       " 'years': [[37,\n",
       "   'DublinersbyJamesJoyce.txt',\n",
       "   '[181, 6989, 3523, 7188, 7344, 1922, 2066, 2134, 7447, 2374, 7440, 3570, 3367, 1903, 5142, 5969, 2451, 5969, 5975, 3354, 1949, 3172, 5170, 7439, 7798, 1169, 3482, 3638, 981, 3118, 3530, 6449, 3569, 2085, 984, 8163, 6669]'],\n",
       "  [22,\n",
       "   'AdventuresOfHuckleberryFinnByMarkTwain.txt',\n",
       "   '[5340, 5416, 10682, 12346, 5622, 364, 2542, 7092, 10388, 10157, 10683, 10100, 9090, 11871, 9113, 9007, 575, 6542, 4976, 4483, 10112, 10109]'],\n",
       "  [14,\n",
       "   'BeowulfbyJLesslieHall.txt',\n",
       "   '[4280, 1210, 573, 1993, 4743, 4292, 5656, 299, 4904, 6987, 3957, 344, 634, 1278]'],\n",
       "  [2, 'AliceAdventuresinWonderlandbyLewisCarroll.txt', '[3719, 3363]']],\n",
       " 'yell': [[7,\n",
       "   'AdventuresOfHuckleberryFinnByMarkTwain.txt',\n",
       "   '[4861, 6508, 4206, 6024, 5027, 6178, 11260]']],\n",
       " 'yelled': [[4,\n",
       "   'AdventuresOfHuckleberryFinnByMarkTwain.txt',\n",
       "   '[8092, 2526, 11260, 5989]'],\n",
       "  [1, 'AliceAdventuresinWonderlandbyLewisCarroll.txt', '[2575]']],\n",
       " 'yelling': [[9,\n",
       "   'AdventuresOfHuckleberryFinnByMarkTwain.txt',\n",
       "   '[6109, 4958, 5982, 2510, 1591, 8080, 9531, 11274, 4965]'],\n",
       "  [2, 'DublinersbyJamesJoyce.txt', '[2887, 431]'],\n",
       "  [1, 'BeowulfbyJLesslieHall.txt', '[317]']],\n",
       " 'yellocute': [[1, 'AdventuresOfHuckleberryFinnByMarkTwain.txt', '[8665]']],\n",
       " 'yellocution': [[1, 'AdventuresOfHuckleberryFinnByMarkTwain.txt', '[8665]']],\n",
       " 'yellow': [[9,\n",
       "   'DublinersbyJamesJoyce.txt',\n",
       "   '[2956, 6774, 6784, 3999, 1879, 4973, 624, 7401, 738]'],\n",
       "  [2, 'BeowulfbyJLesslieHall.txt', '[5584, 4843]'],\n",
       "  [1, 'AdventuresOfHuckleberryFinnByMarkTwain.txt', '[5895]']],\n",
       " 'yellower': [[1, 'AdventuresOfHuckleberryFinnByMarkTwain.txt', '[4460]']],\n",
       " 'yellowing': [[1, 'DublinersbyJamesJoyce.txt', '[985]']],\n",
       " 'yells': [[2, 'AdventuresOfHuckleberryFinnByMarkTwain.txt', '[6006, 8364]']],\n",
       " 'yelp': [[1, 'AliceAdventuresinWonderlandbyLewisCarroll.txt', '[919]']],\n",
       " 'yer': [[13,\n",
       "   'AdventuresOfHuckleberryFinnByMarkTwain.txt',\n",
       "   '[6898, 3505, 3857, 3497, 5366, 6900, 7360, 9763, 7370, 6880, 10628, 4851, 6931]'],\n",
       "  [4,\n",
       "   'AliceAdventuresinWonderlandbyLewisCarroll.txt',\n",
       "   '[808, 820, 825, 815]']],\n",
       " 'yerd': [[1, 'AdventuresOfHuckleberryFinnByMarkTwain.txt', '[4890]']],\n",
       " 'yerra': [[1, 'DublinersbyJamesJoyce.txt', '[4077]']],\n",
       " 'yers': [[1, 'AdventuresOfHuckleberryFinnByMarkTwain.txt', '[9802]']],\n",
       " 'yes': [[95,\n",
       "   'AdventuresOfHuckleberryFinnByMarkTwain.txt',\n",
       "   '[5343, 3307, 8313, 10766, 4909, 3618, 8223, 8919, 830, 4758, 7161, 7663, 2430, 10839, 6695, 11864, 7857, 6690, 5279, 9572, 2222, 10826, 2105, 9096, 4751, 8740, 8549, 9606, 5263, 3336, 10067, 2683, 9651, 7902, 9655, 9094, 6623, 5335, 11761, 6325, 2743, 10113, 3501, 1517, 7733, 11133, 6645, 10099, 3472, 8005, 2748, 9735, 6937, 8034, 3998, 1526, 3348, 10212, 6681, 8521, 4416, 2092, 7137, 8047, 6449, 9119, 2716, 8720, 3171, 10042, 5923, 1140, 4501, 6898, 5677, 10999, 7854, 10830, 2722, 10750, 3485, 4746, 11455, 1536, 9382, 2321, 7642, 9117, 9738, 5250, 8039, 7097, 9068, 2280, 6932]'],\n",
       "  [56,\n",
       "   'DublinersbyJamesJoyce.txt',\n",
       "   '[7562, 7341, 4565, 3870, 6901, 2441, 2378, 5624, 6901, 3542, 5387, 7237, 841, 5692, 5826, 2056, 804, 5356, 5422, 7815, 7321, 5546, 7265, 3102, 303, 2431, 5486, 5695, 3910, 6943, 376, 7260, 5237, 2698, 7753, 5663, 5546, 6166, 5237, 3049, 2251, 927, 2691, 5480, 6036, 4187, 3766, 5636, 7791, 7791, 5295, 4097, 3725, 4646, 5295, 5512]'],\n",
       "  [13,\n",
       "   'AliceAdventuresinWonderlandbyLewisCarroll.txt',\n",
       "   '[2779, 1933, 2630, 2478, 1650, 659, 2038, 2435, 99, 2961, 2451, 1754, 1778]']],\n",
       " 'yesterday': [[11,\n",
       "   'AdventuresOfHuckleberryFinnByMarkTwain.txt',\n",
       "   '[11935, 10385, 11619, 6739, 4839, 4365, 8927, 2492, 11345, 5053, 8891]'],\n",
       "  [3, 'AliceAdventuresinWonderlandbyLewisCarroll.txt', '[304, 2694, 1927]'],\n",
       "  [2, 'DublinersbyJamesJoyce.txt', '[4080, 3523]']],\n",
       " 'yet': [[60,\n",
       "   'AdventuresOfHuckleberryFinnByMarkTwain.txt',\n",
       "   '[7412, 6949, 3958, 11692, 4795, 10714, 7323, 8872, 3674, 2413, 2689, 7722, 1956, 10232, 1555, 8686, 10889, 9640, 5483, 7835, 9554, 2623, 628, 7681, 6276, 10020, 9834, 4182, 8516, 8402, 11555, 11689, 7735, 3230, 10941, 3010, 11981, 8368, 4986, 7671, 2965, 1679, 10146, 11397, 3259, 3657, 7307, 2751, 9269, 4396, 5956, 11602, 7642, 1559, 11935, 5171, 9341, 2537, 7857, 10359]'],\n",
       "  [30,\n",
       "   'BeowulfbyJLesslieHall.txt',\n",
       "   '[2068, 3181, 2749, 5632, 6536, 4728, 5656, 4280, 2745, 3150, 6193, 2640, 3738, 3068, 4268, 4093, 6004, 5038, 3096, 1993, 6394, 2787, 4838, 6024, 5181, 5184, 3901, 4305, 6464, 221]'],\n",
       "  [25,\n",
       "   'AliceAdventuresinWonderlandbyLewisCarroll.txt',\n",
       "   '[2863, 412, 3167, 2354, 768, 769, 1680, 3173, 1671, 1071, 1041, 3081, 838, 1524, 2308, 3248, 1051, 935, 3260, 986, 2899, 2899, 2093, 1804, 1061]'],\n",
       "  [21,\n",
       "   'DublinersbyJamesJoyce.txt',\n",
       "   '[2874, 1741, 86, 5914, 1703, 7435, 4883, 5992, 1184, 2015, 7165, 5531, 7542, 847, 7047, 1735, 984, 3786, 7156, 3784, 773]']],\n",
       " 'yield': [[1, 'DublinersbyJamesJoyce.txt', '[7607]'],\n",
       "  [1, 'BeowulfbyJLesslieHall.txt', '[5803]'],\n",
       "  [1, 'AdventuresOfHuckleberryFinnByMarkTwain.txt', '[5449]']],\n",
       " 'yieldeth': [[1, 'BeowulfbyJLesslieHall.txt', '[3525]']],\n",
       " 'yielding': [[1, 'DublinersbyJamesJoyce.txt', '[7598]'],\n",
       "  [1, 'BeowulfbyJLesslieHall.txt', '[3546]']],\n",
       " 'yirls': [[2, 'AdventuresOfHuckleberryFinnByMarkTwain.txt', '[6625, 6632]']],\n",
       " 'yisterday': [[1, 'AdventuresOfHuckleberryFinnByMarkTwain.txt', '[7585]']],\n",
       " 'yistiddy': [[1, 'AdventuresOfHuckleberryFinnByMarkTwain.txt', '[10433]']],\n",
       " 'yit': [[8,\n",
       "   'AdventuresOfHuckleberryFinnByMarkTwain.txt',\n",
       "   '[1205, 8211, 4098, 3153, 3107, 1210, 2165, 3487]']],\n",
       " 'yldo': [[1, 'BeowulfbyJLesslieHall.txt', '[3550]']],\n",
       " 'yo': [[16,\n",
       "   'AdventuresOfHuckleberryFinnByMarkTwain.txt',\n",
       "   '[1205, 3964, 2314, 10327, 1214, 3518, 2069, 2169, 11999, 4154, 2251, 5300, 4154, 1212, 3859, 3120]']],\n",
       " 'yonder': [[24,\n",
       "   'AdventuresOfHuckleberryFinnByMarkTwain.txt',\n",
       "   '[9202, 6468, 6835, 6480, 11353, 3992, 5130, 4004, 4063, 11210, 2197, 3384, 6929, 6946, 2371, 3071, 5427, 10124, 5106, 1724, 3183, 2696, 3021, 8169]'],\n",
       "  [1, 'BeowulfbyJLesslieHall.txt', '[6248]']],\n",
       " 'yore': [[11,\n",
       "   'BeowulfbyJLesslieHall.txt',\n",
       "   '[4961, 6335, 2184, 6241, 5315, 4316, 4832, 3181, 3504, 2666, 1761]']],\n",
       " 'york': [[1, 'BeowulfbyJLesslieHall.txt', '[47]']],\n",
       " 'you': [[1555,\n",
       "   'AdventuresOfHuckleberryFinnByMarkTwain.txt',\n",
       "   '[7499, 2370, 1253, 8442, 9930, 1257, 7139, 11759, 3083, 9928, 1831, 1257, 12170, 678, 1258, 9931, 6777, 5383, 9927, 1259, 2372, 12069, 1259, 4662, 678, 7906, 9570, 1260, 1260, 4107, 2373, 2774, 12170, 582, 4106, 3796, 4127, 1260, 4131, 4105, 8010, 679, 12068, 4131, 1261, 1261, 1261, 11331, 10330, 5377, 4132, 3153, 3083, 4132, 1262, 1262, 3043, 3604, 3083, 9574, 3383, 7495, 1236, 3692, 5370, 1271, 7256, 1272, 10386, 680, 9921, 2376, 9921, 3083, 582, 7737, 7128, 1273, 11325, 1274, 1274, 12167, 9918, 1231, 11325, 9938, 6199, 10330, 1276, 5369, 6198, 8425, 3084, 12222, 7904, 8463, 1277, 12225, 11325, 1278, 7257, 2381, 12070, 9007, 11357, 7124, 11778, 10390, 9551, 3334, 4087, 12165, 8421, 2756, 9006, 9006, 2794, 7818, 1284, 7914, 4643, 2381, 2794, 12222, 7823, 1284, 4154, 1285, 1218, 12171, 4154, 3082, 7120, 4085, 1286, 6188, 8419, 2795, 4085, 1217, 1286, 9941, 2795, 2383, 1286, 4084, 1287, 1287, 2795, 1807, 7915, 1216, 7116, 11782, 10452, 5435, 1216, 9944, 5435, 6953, 3150, 2797, 5436, 1214, 5437, 7915, 10129, 2797, 12071, 1298, 3156, 9045, 11367, 1298, 6180, 6971, 2797, 10451, 2797, 11783, 1213, 5440, 12110, 1302, 6178, 2741, 1213, 6177, 9047, 3510, 2741, 6177, 1212, 6176, 3620, 3801, 2799, 7356, 7916, 2799, 6174, 9051, 2799, 6172, 1211, 1211, 1305, 6953, 2800, 6172, 9948, 1305, 7999, 9949, 7899, 4074, 6171, 1306, 7153, 8011, 11312, 4074, 4073, 7112, 5344, 6170, 3801, 4631, 1311, 5343, 6264, 6170, 3623, 7824, 4070, 7899, 7916, 4070, 7771, 6169, 7999, 4070, 9906, 6169, 2731, 4630, 5339, 5339, 3156, 5339, 7772, 4067, 5339, 1313, 4067, 7899, 5456, 10331, 4691, 1314, 4066, 11793, 6271, 8497, 9594, 5333, 8986, 7697, 11794, 5331, 12066, 1319, 6163, 5331, 8985, 3146, 6162, 1321, 2397, 4062, 4061, 7775, 1321, 7898, 6162, 10953, 12221, 6161, 1322, 3081, 8012, 8505, 8507, 3792, 2399, 7159, 7625, 1325, 10399, 5324, 2400, 12236, 3145, 2716, 4059, 8984, 609, 4704, 10578, 5322, 4059, 7779, 10319, 1329, 8984, 1329, 3498, 7626, 6156, 5319, 6156, 6154, 8983, 1196, 9969, 6767, 4708, 5314, 7897, 7998, 8981, 6152, 6152, 8980, 12089, 4058, 5314, 4057, 4057, 6150, 5466, 7897, 10188, 3081, 8980, 4189, 6150, 5309, 12176, 6149, 10738, 4189, 6144, 4712, 6144, 4056, 1778, 4718, 4056, 5309, 3802, 4055, 4617, 4718, 12227, 3323, 12120, 2817, 7263, 4055, 8974, 3157, 7163, 3697, 9072, 8516, 9886, 9073, 9886, 4614, 628, 3698, 11803, 3364, 4614, 4614, 9885, 10742, 3452, 8518, 10744, 8518, 5476, 8013, 12076, 9074, 8972, 4048, 4048, 8972, 9075, 2823, 3160, 8972, 3698, 9884, 6128, 3803, 4047, 7997, 7997, 8381, 12065, 7173, 2828, 610, 8381, 6987, 2828, 4043, 3160, 4042, 8524, 7996, 8525, 9882, 4042, 8525, 9081, 7627, 11806, 768, 11807, 9881, 4039, 8044, 10750, 10398, 1895, 7627, 8367, 2318, 7597, 9089, 8530, 1761, 4607, 825, 4607, 8530, 11815, 11815, 7996, 6989, 11694, 7922, 1170, 10999, 1170, 10942, 10398, 9091, 11816, 1170, 8960, 8531, 7593, 11816, 2850, 1170, 7890, 4026, 8955, 3384, 9092, 8955, 2850, 12157, 8954, 8954, 12243, 4026, 1169, 7922, 11402, 5277, 7995, 11402, 10761, 2422, 3515, 2856, 1164, 8354, 7592, 8536, 11821, 12063, 5274, 10761, 7890, 11407, 5273, 2857, 12063, 9873, 3807, 2426, 2691, 5271, 2858, 4017, 3787, 2691, 4016, 2858, 11687, 2859, 6334, 8943, 9872, 2859, 9872, 3699, 7512, 4596, 1153, 8943, 7363, 1152, 6996, 10768, 6338, 5508, 10768, 5268, 1152, 5266, 11825, 1150, 5513, 3385, 9869, 8351, 5513, 830, 5266, 8942, 10938, 2862, 7180, 2302, 7089, 12182, 9512, 1146, 12078, 8941, 5262, 10769, 4767, 5516, 6826, 11010, 6087, 2680, 11011, 1743, 3786, 8562, 2679, 1742, 10769, 6085, 1145, 10770, 5262, 6084, 6084, 10770, 6826, 12239, 5518, 2864, 7591, 610, 11013, 8566, 10771, 11278, 3996, 5259, 5520, 5521, 11013, 1378, 10389, 8344, 2298, 11278, 8569, 7324, 8570, 10935, 1142, 1142, 10671, 7003, 10935, 1141, 1141, 8574, 10670, 8575, 8930, 10410, 2867, 7768, 8577, 8577, 9992, 10332, 1135, 8335, 5534, 2869, 1135, 2869, 7810, 11019, 8334, 3985, 5535, 2870, 9858, 5535, 8334, 2870, 9993, 11675, 7184, 12102, 4254, 8585, 8333, 7004, 12199, 8585, 5247, 7808, 2872, 398, 11835, 7004, 4259, 12182, 2873, 3048, 3700, 6358, 3377, 8590, 9857, 10665, 5241, 8590, 8593, 11025, 4263, 2669, 8593, 10932, 4263, 2874, 3977, 10781, 8595, 3024, 3977, 7082, 12079, 3976, 4263, 7808, 8596, 9495, 2875, 7883, 9856, 4268, 11025, 2875, 6359, 4268, 9122, 2666, 9123, 9124, 8601, 4269, 7807, 2876, 3969, 4269, 9494, 4270, 7807, 8602, 3701, 1121, 7080, 5225, 4271, 10441, 8605, 3515, 8608, 8608, 8608, 5220, 10787, 2663, 10787, 7585, 4278, 9131, 4278, 10787, 9491, 1113, 11031, 9139, 12184, 8618, 8618, 8321, 10929, 7323, 4279, 8618, 7878, 8619, 8620, 3571, 639, 5208, 3571, 4284, 6388, 2997, 2280, 8621, 10572, 9852, 4289, 8621, 3750, 4290, 2278, 11038, 3702, 7199, 10926, 2278, 8622, 12101, 6405, 6405, 3385, 5204, 4292, 12153, 7637, 10792, 7079, 8623, 5203, 6410, 5202, 1707, 6794, 8625, 3507, 2273, 8625, 5202, 7749, 1705, 5201, 3703, 10651, 12229, 2269, 8626, 3187, 7256, 3752, 1705, 7801, 4810, 1422, 1422, 11862, 2263, 3752, 11864, 8631, 9473, 11438, 3050, 4555, 6020, 1700, 3120, 3503, 10795, 8302, 11864, 6020, 5196, 10796, 9847, 9469, 2258, 10796, 10872, 3781, 12255, 9153, 6019, 2256, 6421, 9648, 9154, 426, 9157, 11870, 9157, 8633, 8634, 11870, 12100, 8634, 3565, 12151, 12055, 2254, 2252, 8291, 2251, 8636, 8287, 6431, 3752, 6009, 2250, 8284, 10333, 3781, 2250, 4304, 2250, 6009, 3565, 6008, 1074, 10801, 8283, 1074, 5172, 12234, 7257, 10327, 3168, 9166, 5171, 3753, 7017, 5997, 5997, 6437, 9167, 9167, 5171, 9168, 3930, 9457, 2248, 1438, 9457, 12189, 7580, 3929, 6439, 3929, 1068, 11879, 3928, 3928, 10804, 1067, 1067, 8276, 1440, 1974, 2248, 10308, 9454, 1974, 7018, 3926, 3926, 9454, 1975, 7018, 10809, 2246, 10327, 10635, 1059, 1059, 7798, 6796, 9838, 7936, 9453, 7279, 3923, 1057, 4836, 1056, 3778, 3923, 9452, 4836, 9188, 6461, 6919, 8266, 9450, 5612, 6918, 5151, 9448, 3171, 11454, 5151, 8039, 9448, 9448, 12128, 10630, 9193, 12097, 905, 10455, 11230, 4850, 7735, 10628, 4324, 11621, 3778, 10817, 3560, 2624, 5619, 11228, 11228, 7768, 3914, 4325, 11615, 3482, 4327, 3754, 7798, 2234, 11060, 11227, 7845, 4331, 2233, 1040, 2621, 12191, 716, 2233, 10622, 10622, 4332, 6474, 4332, 7845, 1034, 1666, 10335, 10526, 10394, 11464, 5133, 1034, 9430, 5132, 5132, 7023, 9430, 9428, 9821, 4865, 11220, 717, 7797, 8247, 11220, 10820, 8021, 6492, 4865, 10389, 9820, 4866, 6496, 10821, 8240, 7, 8239, 3505, 7943, 10526, 4866, 2615, 5634, 10053, 10333, 5634, 1657, 9426, 718, 3754, 8239, 8238, 9213, 3106, 1654, 2491, 11469, 4868, 2491, 1652, 3754, 3755, 3106, 2610, 718, 3461, 10055, 7849, 719, 6909, 5116, 6908, 2222, 12095, 3467, 4351, 10055, 4869, 2493, 1646, 6738, 10254, 2220, 9424, 10055, 4357, 9421, 8228, 722, 11906, 2219, 9417, 4358, 722, 11908, 4873, 9416, 4358, 6902, 4875, 11910, 3106, 4359, 11534, 5109, 3107, 11205, 1640, 11910, 11910, 5108, 12194, 9808, 5108, 5107, 7752, 11474, 4877, 3052, 7774, 3889, 9416, 11203, 11917, 1010, 2215, 1009, 5945, 5106, 11203, 10828, 6524, 7024, 11921, 11921, 2215, 2498, 7574, 9414, 11201, 10333, 2498, 5942, 5103, 6799, 11925, 2213, 6527, 7796, 2590, 9410, 2212, 4885, 6736, 2498, 7339, 2499, 11199, 5095, 8212, 11930, 4373, 11932, 4373, 6900, 12049, 5092, 5090, 5088, 11933, 11590, 11590, 10830, 5087, 10075, 11590, 7385, 5938, 10830, 11193, 5085, 5085, 10830, 4895, 4895, 7026, 8202, 4383, 6547, 7026, 10831, 8201, 5083, 5933, 6734, 8687, 8687, 2990, 4383, 7864, 4385, 5081, 12261, 4385, 10831, 9394, 5078, 9394, 8688, 10078, 4386, 3644, 2990, 12197, 10317, 3758, 9798, 4387, 7730, 3860, 9798, 3860, 8689, 11079, 9798, 9393, 4388, 11079, 4389, 3772, 7228, 5923, 2990, 5923, 4389, 10092, 794, 5921, 7791, 3858, 10092, 3713, 6565, 9261, 5919, 4391, 9261, 5918, 9791, 4902, 9261, 3857, 10834, 5917, 7791, 5917, 5059, 5916, 10834, 8817, 9392, 3856, 3758, 9271, 3855, 5911, 9783, 8034, 12230, 9271, 7655, 9272, 7863, 10099, 3769, 9277, 10835, 11490, 7851, 5048, 11491, 7851, 10836, 9388, 9280, 10100, 2067, 5047, 2068, 3846, 4909, 9281, 9385, 6582, 8177, 5041, 9383, 11493, 6587, 8805, 5040, 8034, 10209, 8026, 7244, 2516, 11087, 10408, 12130, 10589, 9768, 5037, 12233, 5037, 2979, 7779, 7748, 9382, 7656, 5036, 7656, 7033, 10210, 5036, 3386, 10144, 3228, 7852, 7245, 6598, 11088, 2079, 5030, 2079, 11966, 3110, 11088, 10292, 11966, 8167, 6600, 11570, 6601, 8167, 9376, 8028, 9293, 2082, 11967, 11499, 4927, 2086, 11968, 12237, 2188, 5712, 9294, 11500, 10337, 4933, 9756, 2088, 10146, 2094, 611, 4414, 4418, 2098, 4420, 3506, 2098, 4420, 9295, 3769, 10847, 9296, 10847, 4935, 2100, 12043, 11562, 2186, 11970, 8725, 4426, 2105, 12237, 2105, 860, 4426, 11160, 8727, 11562, 2105, 7656, 11504, 7246, 12087, 11562, 10172, 2106, 8150, 12231, 7657, 11159, 3511, 8146, 11158, 7861, 10854, 8732, 9705, 8792, 8792, 11158, 12264, 12040, 12091, 8791, 3531, 9311, 8137, 3373, 11508, 11508, 11509, 8137, 12039, 9311, 7781, 7383, 4944, 9742, 870, 8083, 5740, 5741, 871, 6625, 5743, 12039, 4474, 12038, 9735, 10859, 8083, 11523, 6879, 8745, 9313, 12232, 6714, 10859, 9313, 4946, 11148, 10859, 9317, 1530, 4947, 5754, 7041, 7728, 12232, 2121, 9732, 10567, 8754, 7042, 11147, 8754, 5763, 7968, 2126, 5763, 5801, 6804, 876, 5767, 3226, 2126, 11143, 12224, 9324, 10168, 6636, 10861, 9328, 2135, 2173, 2135, 1538, 882, 8030, 11997, 7858, 7743, 6640, 2136, 11135, 4445, 6643, 6643, 11530, 2140, 11131, 11998, 2144, 11530, 2144, 2170, 11999, 887, 10866, 10384, 12033, 2144, 10866, 2144, 11999, 2144, 3762, 7046, 1542, 2544, 3305, 11532, 7858, 3055, 11114, 2153, 11533, 4461, 3263, 470, 3766, 3525, 895, 8031, 1553, 7042, 4455, 896, 3525, 3529, 896, 6673, 907, 11122, 3187, 904, 3527, 10383, 6684, 11118, 7269, 898, 2162, 906, 3352, 8008, 1252, 7135, 1252, 1706]'],\n",
       "  [526,\n",
       "   'DublinersbyJamesJoyce.txt',\n",
       "   '[6800, 8035, 8034, 1461, 285, 6120, 6142, 1466, 5428, 4970, 6124, 1472, 307, 308, 6997, 6163, 308, 308, 4273, 4964, 3311, 5579, 6231, 8012, 8074, 4031, 6162, 1428, 1484, 1964, 1964, 8010, 4612, 7523, 4310, 7486, 8007, 8004, 5093, 8002, 7484, 336, 1424, 338, 4956, 6928, 5903, 342, 5903, 7997, 345, 1420, 351, 5441, 5340, 7995, 7995, 4644, 2513, 6262, 7989, 4050, 94, 6916, 6916, 6086, 374, 376, 5372, 1519, 1519, 7984, 7983, 7544, 7263, 7983, 8056, 7263, 7548, 4245, 1413, 7980, 1537, 5304, 7978, 6283, 3106, 6283, 7560, 5604, 1541, 1541, 3097, 6291, 400, 7258, 3096, 1542, 5604, 1408, 3094, 2439, 5420, 3540, 7970, 6296, 7468, 3085, 3085, 5299, 3085, 6890, 5093, 2507, 3079, 3078, 3697, 2507, 7966, 1549, 3071, 7324, 2058, 3065, 7964, 3065, 6885, 4330, 3056, 2067, 6883, 3051, 7744, 7325, 4768, 2505, 3039, 4330, 4332, 5612, 7575, 2081, 7332, 4333, 3004, 4333, 453, 454, 3003, 460, 4333, 4218, 2503, 7943, 464, 2986, 6345, 465, 6346, 466, 7941, 4212, 107, 7590, 3734, 5618, 4208, 3739, 7933, 6002, 6847, 1586, 4335, 3748, 4682, 7725, 1592, 5621, 2501, 1003, 3751, 3751, 1592, 7923, 4019, 5459, 121, 5541, 5460, 4533, 7915, 7605, 7914, 7913, 3762, 3764, 7910, 3766, 5370, 4892, 7224, 7908, 2916, 4691, 2142, 5632, 7904, 5461, 2151, 4695, 4188, 7902, 535, 7900, 4885, 2157, 2896, 2157, 2157, 4883, 2895, 3784, 2495, 807, 1843, 1843, 3791, 4005, 7892, 5643, 3796, 7891, 7624, 6131, 7889, 3806, 6417, 5843, 7884, 7883, 132, 3813, 6430, 7882, 6431, 7881, 6436, 6436, 7879, 3816, 2848, 2847, 7878, 5349, 2847, 2847, 6795, 2488, 2846, 2846, 5509, 7876, 4164, 2846, 6043, 7876, 5535, 2845, 2845, 6437, 5706, 4160, 4158, 2829, 7867, 2829, 937, 2827, 7643, 3829, 2206, 7861, 2206, 4153, 7853, 3836, 2210, 2210, 2211, 7850, 921, 5822, 7849, 3839, 4863, 7849, 7848, 4029, 4147, 2223, 4010, 2226, 6466, 2228, 7654, 4860, 2790, 7843, 6468, 614, 2233, 2487, 2233, 6474, 6474, 6481, 4853, 7660, 7366, 6489, 4136, 6495, 2767, 4846, 5526, 3868, 5353, 4844, 629, 4130, 6498, 2260, 2260, 3872, 2760, 4843, 2759, 2262, 7369, 6505, 7171, 6055, 5667, 2485, 2263, 6506, 5354, 6508, 4723, 5668, 2270, 2272, 4723, 4020, 6749, 6520, 5385, 7373, 4724, 2282, 4724, 6741, 3896, 5116, 3896, 6741, 6741, 3899, 2480, 2291, 6735, 5356, 2717, 6732, 6644, 2712, 2712, 6732, 6729, 4109, 667, 5250, 880, 3910, 2696, 880, 2696, 2304, 2304, 5519, 6723, 2694, 2305, 2694, 4104, 2305, 4013, 2693, 8068, 2688, 3913, 1789, 2687, 1789, 2686, 2681, 6551, 2680, 2680, 7389, 6646, 5779, 2680, 4102, 5017, 3919, 2316, 6559, 5491, 4102, 6561, 2318, 6561, 868, 2318, 5244, 6660, 4100, 2325, 2657, 2325, 3929, 6660, 5681, 5518, 2332, 7695, 6575, 6575, 5715, 6579, 4, 149, 5767, 4016, 2338, 2626, 2343, 5101, 2348, 4085, 3949, 5101, 3950, 4084, 4083, 3952, 3952, 4082, 152, 6697, 2367, 2368, 2371, 2372, 2373, 2468, 4076, 3967, 4072, 2386, 3970, 3971, 2387, 4406, 2387, 2388, 2404, 2409, 2409, 5372, 2410, 3979, 5502, 3984, 3984, 2418, 5212, 821, 819, 5733, 8052, 5503, 8050, 8050, 4996, 8049, 5000, 5333, 6177, 4991, 8077, 8047, 3249, 5556, 3248, 8046, 6183, 8045, 5334, 8045, 4296, 8044, 6189, 6995, 8043, 8042, 2428, 8040, 8038, 6196, 6197, 8037, 4285, 4282, 8035]'],\n",
       "  [481,\n",
       "   'AliceAdventuresinWonderlandbyLewisCarroll.txt',\n",
       "   '[2971, 2296, 986, 987, 3606, 2295, 2293, 2293, 2292, 987, 3604, 3604, 2279, 988, 3603, 3278, 122, 2267, 1215, 3601, 989, 1211, 2981, 2669, 3600, 3599, 3599, 370, 2989, 371, 3598, 2242, 3597, 2236, 2235, 2234, 2674, 2231, 3596, 119, 3593, 2216, 391, 2216, 2216, 118, 3592, 3005, 3005, 3590, 2201, 155, 996, 3010, 996, 1344, 2194, 2678, 2189, 117, 2633, 3588, 3588, 406, 3014, 3587, 1001, 409, 409, 2616, 2620, 412, 412, 413, 1001, 420, 1211, 427, 427, 429, 429, 2150, 3023, 431, 3023, 433, 3028, 1179, 2132, 2688, 2124, 440, 2118, 443, 444, 3038, 1325, 3564, 2693, 110, 110, 2620, 3562, 2105, 109, 1210, 3559, 3556, 1024, 465, 108, 1025, 3287, 1025, 470, 470, 3554, 1313, 475, 476, 3549, 1312, 485, 489, 1035, 3547, 495, 2062, 2062, 1039, 3546, 2055, 505, 516, 2033, 3539, 2023, 528, 2620, 529, 3076, 2013, 2012, 1041, 3535, 3533, 1042, 542, 3533, 1986, 2707, 3529, 3527, 557, 559, 1294, 1294, 1294, 1294, 1049, 3519, 581, 581, 582, 1948, 1947, 1945, 589, 1941, 1941, 601, 3515, 1927, 1926, 634, 639, 639, 642, 3513, 651, 653, 654, 95, 1051, 664, 666, 1881, 1878, 1875, 1874, 1874, 675, 2620, 676, 1286, 683, 2620, 1202, 1284, 1851, 688, 1850, 2621, 3122, 1057, 3491, 1831, 1823, 2728, 1823, 3489, 1059, 712, 1807, 1807, 1793, 1780, 1774, 3481, 1061, 1202, 1761, 1757, 3153, 1062, 1200, 3158, 1734, 1732, 1728, 1726, 1721, 1718, 2621, 1716, 1715, 1069, 1713, 2621, 3471, 1706, 3306, 1705, 1704, 1698, 1695, 1692, 1692, 2623, 1689, 769, 1680, 2854, 1672, 3463, 1662, 1071, 3462, 780, 1656, 3461, 780, 781, 3177, 1072, 3307, 1651, 3459, 1645, 1076, 1077, 2753, 3457, 1633, 799, 1629, 1626, 1623, 1621, 1618, 1618, 806, 3453, 1613, 1613, 1613, 1604, 817, 3450, 1595, 1593, 3449, 826, 826, 3196, 2621, 3197, 3197, 842, 1090, 3441, 843, 2850, 2627, 3440, 3205, 1551, 1550, 2621, 1548, 3438, 858, 1093, 3213, 860, 865, 3218, 1100, 1526, 868, 3433, 1520, 1520, 871, 1102, 1514, 3432, 871, 1510, 3431, 1508, 1508, 3430, 1505, 1505, 1503, 2776, 1501, 3226, 2776, 1500, 1496, 3229, 881, 2779, 3428, 1192, 1488, 3427, 1488, 3230, 1484, 1480, 3425, 1477, 3425, 3235, 3238, 3315, 3416, 1158, 2783, 1452, 1112, 1451, 2783, 3411, 3401, 3320, 1119, 3260, 3399, 1421, 1421, 2787, 1119, 3397, 2634, 3397, 2607, 2605, 2605, 2605, 2605, 2605, 161, 2604, 2604, 2604, 2604, 2639, 2604, 2602, 2598, 2591, 2589, 2584, 179, 179, 179, 3396, 181, 3263, 182, 2568, 1224, 2564, 2564, 3263, 2556, 2552, 2548, 2543, 202, 2541, 2540, 1382, 2523, 1222, 2910, 2910, 2506, 218, 2494, 2484, 2481, 2480, 2476, 2461, 2446, 2439, 2435, 260, 3631, 262, 262, 262, 2429, 2427, 2649, 2938, 2424, 1373, 3628, 2416, 965, 285, 2652, 2404, 286, 2652, 287, 2652, 3391, 2395, 2385, 3622, 298, 972, 2951, 2370, 2365, 2362, 2956, 2354, 2958, 2958, 4, 3272, 2331, 2330, 126, 976, 3610, 1362, 3274, 986, 2307, 2299, 2970, 1697]'],\n",
       "  [91,\n",
       "   'BeowulfbyJLesslieHall.txt',\n",
       "   '[6718, 6406, 6899, 6709, 6708, 6706, 6721, 1952, 6693, 6693, 6896, 6396, 6701, 6695, 6759, 1540, 6700, 6781, 6699, 6659, 6698, 6696, 1540, 6783, 6890, 6725, 6679, 1982, 6878, 6787, 6874, 6872, 6727, 6872, 6012, 6871, 6729, 6669, 6730, 6869, 6731, 6868, 6867, 6867, 6866, 6795, 6865, 6667, 6757, 6797, 6864, 1496, 1971, 1971, 6665, 6861, 6739, 6665, 6860, 6822, 1948, 6858, 6817, 3490, 3490, 6856, 6856, 6664, 4, 6855, 6801, 1966, 1942, 1500, 6801, 1689, 2080, 6832, 6749, 2085, 6803, 6814, 2085, 6815, 6830, 6807, 6827, 6824, 6717, 6026, 6684]']],\n",
       " 'you_': [[1, 'DublinersbyJamesJoyce.txt', '[780]']],\n",
       " 'young': [[111,\n",
       "   'DublinersbyJamesJoyce.txt',\n",
       "   '[7645, 135, 4948, 3198, 1280, 939, 4507, 940, 1724, 6253, 2522, 941, 135, 5026, 1823, 1345, 1826, 1641, 4565, 6410, 6248, 6247, 4956, 6405, 2886, 1369, 1620, 6241, 3170, 1158, 3769, 2419, 6235, 2929, 1611, 3213, 4195, 5074, 6841, 1853, 2950, 3205, 2951, 6367, 1854, 2954, 4998, 4202, 1854, 1577, 1855, 5289, 1570, 1856, 1732, 1859, 1031, 4666, 5215, 1155, 1757, 6313, 5296, 4993, 1455, 1867, 422, 1163, 5029, 5022, 3209, 1918, 4937, 6288, 2615, 7703, 4817, 1240, 3684, 6273, 3397, 3196, 6271, 1950, 1265, 1259, 1750, 1693, 7804, 4429, 1768, 6061, 1717, 6267, 1320, 7675, 3198, 4946, 644, 1156, 6049, 1258, 608, 4713, 1159, 915, 4624, 915, 4799, 931, 4652]'],\n",
       "  [57,\n",
       "   'AdventuresOfHuckleberryFinnByMarkTwain.txt',\n",
       "   '[4531, 9470, 6708, 394, 4397, 5557, 4959, 4902, 6059, 4697, 4975, 4307, 6477, 6591, 5273, 11807, 6856, 4497, 4541, 4990, 6596, 2228, 6625, 4519, 7361, 4364, 7758, 4581, 4531, 2225, 5236, 4985, 4534, 6052, 4312, 8353, 10438, 4678, 5071, 6583, 5586, 4938, 4680, 6667, 340, 5531, 5219, 4933, 4398, 5584, 2227, 6578, 5584, 7489, 4492, 4523, 4510]'],\n",
       "  [12,\n",
       "   'BeowulfbyJLesslieHall.txt',\n",
       "   '[966, 3173, 1087, 6004, 4593, 979, 4280, 5669, 5303, 5332, 4427, 3249]'],\n",
       "  [5,\n",
       "   'AliceAdventuresinWonderlandbyLewisCarroll.txt',\n",
       "   '[665, 1039, 1765, 2400, 2371]']]}"
      ]
     },
     "execution_count": 203,
     "metadata": {},
     "output_type": "execute_result"
    }
   ],
   "source": [
    "reducer_index"
   ]
  },
  {
   "cell_type": "code",
   "execution_count": 204,
   "metadata": {
    "collapsed": false
   },
   "outputs": [
    {
     "data": {
      "text/plain": [
       "[[1555,\n",
       "  'AdventuresOfHuckleberryFinnByMarkTwain.txt',\n",
       "  '[7499, 2370, 1253, 8442, 9930, 1257, 7139, 11759, 3083, 9928, 1831, 1257, 12170, 678, 1258, 9931, 6777, 5383, 9927, 1259, 2372, 12069, 1259, 4662, 678, 7906, 9570, 1260, 1260, 4107, 2373, 2774, 12170, 582, 4106, 3796, 4127, 1260, 4131, 4105, 8010, 679, 12068, 4131, 1261, 1261, 1261, 11331, 10330, 5377, 4132, 3153, 3083, 4132, 1262, 1262, 3043, 3604, 3083, 9574, 3383, 7495, 1236, 3692, 5370, 1271, 7256, 1272, 10386, 680, 9921, 2376, 9921, 3083, 582, 7737, 7128, 1273, 11325, 1274, 1274, 12167, 9918, 1231, 11325, 9938, 6199, 10330, 1276, 5369, 6198, 8425, 3084, 12222, 7904, 8463, 1277, 12225, 11325, 1278, 7257, 2381, 12070, 9007, 11357, 7124, 11778, 10390, 9551, 3334, 4087, 12165, 8421, 2756, 9006, 9006, 2794, 7818, 1284, 7914, 4643, 2381, 2794, 12222, 7823, 1284, 4154, 1285, 1218, 12171, 4154, 3082, 7120, 4085, 1286, 6188, 8419, 2795, 4085, 1217, 1286, 9941, 2795, 2383, 1286, 4084, 1287, 1287, 2795, 1807, 7915, 1216, 7116, 11782, 10452, 5435, 1216, 9944, 5435, 6953, 3150, 2797, 5436, 1214, 5437, 7915, 10129, 2797, 12071, 1298, 3156, 9045, 11367, 1298, 6180, 6971, 2797, 10451, 2797, 11783, 1213, 5440, 12110, 1302, 6178, 2741, 1213, 6177, 9047, 3510, 2741, 6177, 1212, 6176, 3620, 3801, 2799, 7356, 7916, 2799, 6174, 9051, 2799, 6172, 1211, 1211, 1305, 6953, 2800, 6172, 9948, 1305, 7999, 9949, 7899, 4074, 6171, 1306, 7153, 8011, 11312, 4074, 4073, 7112, 5344, 6170, 3801, 4631, 1311, 5343, 6264, 6170, 3623, 7824, 4070, 7899, 7916, 4070, 7771, 6169, 7999, 4070, 9906, 6169, 2731, 4630, 5339, 5339, 3156, 5339, 7772, 4067, 5339, 1313, 4067, 7899, 5456, 10331, 4691, 1314, 4066, 11793, 6271, 8497, 9594, 5333, 8986, 7697, 11794, 5331, 12066, 1319, 6163, 5331, 8985, 3146, 6162, 1321, 2397, 4062, 4061, 7775, 1321, 7898, 6162, 10953, 12221, 6161, 1322, 3081, 8012, 8505, 8507, 3792, 2399, 7159, 7625, 1325, 10399, 5324, 2400, 12236, 3145, 2716, 4059, 8984, 609, 4704, 10578, 5322, 4059, 7779, 10319, 1329, 8984, 1329, 3498, 7626, 6156, 5319, 6156, 6154, 8983, 1196, 9969, 6767, 4708, 5314, 7897, 7998, 8981, 6152, 6152, 8980, 12089, 4058, 5314, 4057, 4057, 6150, 5466, 7897, 10188, 3081, 8980, 4189, 6150, 5309, 12176, 6149, 10738, 4189, 6144, 4712, 6144, 4056, 1778, 4718, 4056, 5309, 3802, 4055, 4617, 4718, 12227, 3323, 12120, 2817, 7263, 4055, 8974, 3157, 7163, 3697, 9072, 8516, 9886, 9073, 9886, 4614, 628, 3698, 11803, 3364, 4614, 4614, 9885, 10742, 3452, 8518, 10744, 8518, 5476, 8013, 12076, 9074, 8972, 4048, 4048, 8972, 9075, 2823, 3160, 8972, 3698, 9884, 6128, 3803, 4047, 7997, 7997, 8381, 12065, 7173, 2828, 610, 8381, 6987, 2828, 4043, 3160, 4042, 8524, 7996, 8525, 9882, 4042, 8525, 9081, 7627, 11806, 768, 11807, 9881, 4039, 8044, 10750, 10398, 1895, 7627, 8367, 2318, 7597, 9089, 8530, 1761, 4607, 825, 4607, 8530, 11815, 11815, 7996, 6989, 11694, 7922, 1170, 10999, 1170, 10942, 10398, 9091, 11816, 1170, 8960, 8531, 7593, 11816, 2850, 1170, 7890, 4026, 8955, 3384, 9092, 8955, 2850, 12157, 8954, 8954, 12243, 4026, 1169, 7922, 11402, 5277, 7995, 11402, 10761, 2422, 3515, 2856, 1164, 8354, 7592, 8536, 11821, 12063, 5274, 10761, 7890, 11407, 5273, 2857, 12063, 9873, 3807, 2426, 2691, 5271, 2858, 4017, 3787, 2691, 4016, 2858, 11687, 2859, 6334, 8943, 9872, 2859, 9872, 3699, 7512, 4596, 1153, 8943, 7363, 1152, 6996, 10768, 6338, 5508, 10768, 5268, 1152, 5266, 11825, 1150, 5513, 3385, 9869, 8351, 5513, 830, 5266, 8942, 10938, 2862, 7180, 2302, 7089, 12182, 9512, 1146, 12078, 8941, 5262, 10769, 4767, 5516, 6826, 11010, 6087, 2680, 11011, 1743, 3786, 8562, 2679, 1742, 10769, 6085, 1145, 10770, 5262, 6084, 6084, 10770, 6826, 12239, 5518, 2864, 7591, 610, 11013, 8566, 10771, 11278, 3996, 5259, 5520, 5521, 11013, 1378, 10389, 8344, 2298, 11278, 8569, 7324, 8570, 10935, 1142, 1142, 10671, 7003, 10935, 1141, 1141, 8574, 10670, 8575, 8930, 10410, 2867, 7768, 8577, 8577, 9992, 10332, 1135, 8335, 5534, 2869, 1135, 2869, 7810, 11019, 8334, 3985, 5535, 2870, 9858, 5535, 8334, 2870, 9993, 11675, 7184, 12102, 4254, 8585, 8333, 7004, 12199, 8585, 5247, 7808, 2872, 398, 11835, 7004, 4259, 12182, 2873, 3048, 3700, 6358, 3377, 8590, 9857, 10665, 5241, 8590, 8593, 11025, 4263, 2669, 8593, 10932, 4263, 2874, 3977, 10781, 8595, 3024, 3977, 7082, 12079, 3976, 4263, 7808, 8596, 9495, 2875, 7883, 9856, 4268, 11025, 2875, 6359, 4268, 9122, 2666, 9123, 9124, 8601, 4269, 7807, 2876, 3969, 4269, 9494, 4270, 7807, 8602, 3701, 1121, 7080, 5225, 4271, 10441, 8605, 3515, 8608, 8608, 8608, 5220, 10787, 2663, 10787, 7585, 4278, 9131, 4278, 10787, 9491, 1113, 11031, 9139, 12184, 8618, 8618, 8321, 10929, 7323, 4279, 8618, 7878, 8619, 8620, 3571, 639, 5208, 3571, 4284, 6388, 2997, 2280, 8621, 10572, 9852, 4289, 8621, 3750, 4290, 2278, 11038, 3702, 7199, 10926, 2278, 8622, 12101, 6405, 6405, 3385, 5204, 4292, 12153, 7637, 10792, 7079, 8623, 5203, 6410, 5202, 1707, 6794, 8625, 3507, 2273, 8625, 5202, 7749, 1705, 5201, 3703, 10651, 12229, 2269, 8626, 3187, 7256, 3752, 1705, 7801, 4810, 1422, 1422, 11862, 2263, 3752, 11864, 8631, 9473, 11438, 3050, 4555, 6020, 1700, 3120, 3503, 10795, 8302, 11864, 6020, 5196, 10796, 9847, 9469, 2258, 10796, 10872, 3781, 12255, 9153, 6019, 2256, 6421, 9648, 9154, 426, 9157, 11870, 9157, 8633, 8634, 11870, 12100, 8634, 3565, 12151, 12055, 2254, 2252, 8291, 2251, 8636, 8287, 6431, 3752, 6009, 2250, 8284, 10333, 3781, 2250, 4304, 2250, 6009, 3565, 6008, 1074, 10801, 8283, 1074, 5172, 12234, 7257, 10327, 3168, 9166, 5171, 3753, 7017, 5997, 5997, 6437, 9167, 9167, 5171, 9168, 3930, 9457, 2248, 1438, 9457, 12189, 7580, 3929, 6439, 3929, 1068, 11879, 3928, 3928, 10804, 1067, 1067, 8276, 1440, 1974, 2248, 10308, 9454, 1974, 7018, 3926, 3926, 9454, 1975, 7018, 10809, 2246, 10327, 10635, 1059, 1059, 7798, 6796, 9838, 7936, 9453, 7279, 3923, 1057, 4836, 1056, 3778, 3923, 9452, 4836, 9188, 6461, 6919, 8266, 9450, 5612, 6918, 5151, 9448, 3171, 11454, 5151, 8039, 9448, 9448, 12128, 10630, 9193, 12097, 905, 10455, 11230, 4850, 7735, 10628, 4324, 11621, 3778, 10817, 3560, 2624, 5619, 11228, 11228, 7768, 3914, 4325, 11615, 3482, 4327, 3754, 7798, 2234, 11060, 11227, 7845, 4331, 2233, 1040, 2621, 12191, 716, 2233, 10622, 10622, 4332, 6474, 4332, 7845, 1034, 1666, 10335, 10526, 10394, 11464, 5133, 1034, 9430, 5132, 5132, 7023, 9430, 9428, 9821, 4865, 11220, 717, 7797, 8247, 11220, 10820, 8021, 6492, 4865, 10389, 9820, 4866, 6496, 10821, 8240, 7, 8239, 3505, 7943, 10526, 4866, 2615, 5634, 10053, 10333, 5634, 1657, 9426, 718, 3754, 8239, 8238, 9213, 3106, 1654, 2491, 11469, 4868, 2491, 1652, 3754, 3755, 3106, 2610, 718, 3461, 10055, 7849, 719, 6909, 5116, 6908, 2222, 12095, 3467, 4351, 10055, 4869, 2493, 1646, 6738, 10254, 2220, 9424, 10055, 4357, 9421, 8228, 722, 11906, 2219, 9417, 4358, 722, 11908, 4873, 9416, 4358, 6902, 4875, 11910, 3106, 4359, 11534, 5109, 3107, 11205, 1640, 11910, 11910, 5108, 12194, 9808, 5108, 5107, 7752, 11474, 4877, 3052, 7774, 3889, 9416, 11203, 11917, 1010, 2215, 1009, 5945, 5106, 11203, 10828, 6524, 7024, 11921, 11921, 2215, 2498, 7574, 9414, 11201, 10333, 2498, 5942, 5103, 6799, 11925, 2213, 6527, 7796, 2590, 9410, 2212, 4885, 6736, 2498, 7339, 2499, 11199, 5095, 8212, 11930, 4373, 11932, 4373, 6900, 12049, 5092, 5090, 5088, 11933, 11590, 11590, 10830, 5087, 10075, 11590, 7385, 5938, 10830, 11193, 5085, 5085, 10830, 4895, 4895, 7026, 8202, 4383, 6547, 7026, 10831, 8201, 5083, 5933, 6734, 8687, 8687, 2990, 4383, 7864, 4385, 5081, 12261, 4385, 10831, 9394, 5078, 9394, 8688, 10078, 4386, 3644, 2990, 12197, 10317, 3758, 9798, 4387, 7730, 3860, 9798, 3860, 8689, 11079, 9798, 9393, 4388, 11079, 4389, 3772, 7228, 5923, 2990, 5923, 4389, 10092, 794, 5921, 7791, 3858, 10092, 3713, 6565, 9261, 5919, 4391, 9261, 5918, 9791, 4902, 9261, 3857, 10834, 5917, 7791, 5917, 5059, 5916, 10834, 8817, 9392, 3856, 3758, 9271, 3855, 5911, 9783, 8034, 12230, 9271, 7655, 9272, 7863, 10099, 3769, 9277, 10835, 11490, 7851, 5048, 11491, 7851, 10836, 9388, 9280, 10100, 2067, 5047, 2068, 3846, 4909, 9281, 9385, 6582, 8177, 5041, 9383, 11493, 6587, 8805, 5040, 8034, 10209, 8026, 7244, 2516, 11087, 10408, 12130, 10589, 9768, 5037, 12233, 5037, 2979, 7779, 7748, 9382, 7656, 5036, 7656, 7033, 10210, 5036, 3386, 10144, 3228, 7852, 7245, 6598, 11088, 2079, 5030, 2079, 11966, 3110, 11088, 10292, 11966, 8167, 6600, 11570, 6601, 8167, 9376, 8028, 9293, 2082, 11967, 11499, 4927, 2086, 11968, 12237, 2188, 5712, 9294, 11500, 10337, 4933, 9756, 2088, 10146, 2094, 611, 4414, 4418, 2098, 4420, 3506, 2098, 4420, 9295, 3769, 10847, 9296, 10847, 4935, 2100, 12043, 11562, 2186, 11970, 8725, 4426, 2105, 12237, 2105, 860, 4426, 11160, 8727, 11562, 2105, 7656, 11504, 7246, 12087, 11562, 10172, 2106, 8150, 12231, 7657, 11159, 3511, 8146, 11158, 7861, 10854, 8732, 9705, 8792, 8792, 11158, 12264, 12040, 12091, 8791, 3531, 9311, 8137, 3373, 11508, 11508, 11509, 8137, 12039, 9311, 7781, 7383, 4944, 9742, 870, 8083, 5740, 5741, 871, 6625, 5743, 12039, 4474, 12038, 9735, 10859, 8083, 11523, 6879, 8745, 9313, 12232, 6714, 10859, 9313, 4946, 11148, 10859, 9317, 1530, 4947, 5754, 7041, 7728, 12232, 2121, 9732, 10567, 8754, 7042, 11147, 8754, 5763, 7968, 2126, 5763, 5801, 6804, 876, 5767, 3226, 2126, 11143, 12224, 9324, 10168, 6636, 10861, 9328, 2135, 2173, 2135, 1538, 882, 8030, 11997, 7858, 7743, 6640, 2136, 11135, 4445, 6643, 6643, 11530, 2140, 11131, 11998, 2144, 11530, 2144, 2170, 11999, 887, 10866, 10384, 12033, 2144, 10866, 2144, 11999, 2144, 3762, 7046, 1542, 2544, 3305, 11532, 7858, 3055, 11114, 2153, 11533, 4461, 3263, 470, 3766, 3525, 895, 8031, 1553, 7042, 4455, 896, 3525, 3529, 896, 6673, 907, 11122, 3187, 904, 3527, 10383, 6684, 11118, 7269, 898, 2162, 906, 3352, 8008, 1252, 7135, 1252, 1706]'],\n",
       " [526,\n",
       "  'DublinersbyJamesJoyce.txt',\n",
       "  '[6800, 8035, 8034, 1461, 285, 6120, 6142, 1466, 5428, 4970, 6124, 1472, 307, 308, 6997, 6163, 308, 308, 4273, 4964, 3311, 5579, 6231, 8012, 8074, 4031, 6162, 1428, 1484, 1964, 1964, 8010, 4612, 7523, 4310, 7486, 8007, 8004, 5093, 8002, 7484, 336, 1424, 338, 4956, 6928, 5903, 342, 5903, 7997, 345, 1420, 351, 5441, 5340, 7995, 7995, 4644, 2513, 6262, 7989, 4050, 94, 6916, 6916, 6086, 374, 376, 5372, 1519, 1519, 7984, 7983, 7544, 7263, 7983, 8056, 7263, 7548, 4245, 1413, 7980, 1537, 5304, 7978, 6283, 3106, 6283, 7560, 5604, 1541, 1541, 3097, 6291, 400, 7258, 3096, 1542, 5604, 1408, 3094, 2439, 5420, 3540, 7970, 6296, 7468, 3085, 3085, 5299, 3085, 6890, 5093, 2507, 3079, 3078, 3697, 2507, 7966, 1549, 3071, 7324, 2058, 3065, 7964, 3065, 6885, 4330, 3056, 2067, 6883, 3051, 7744, 7325, 4768, 2505, 3039, 4330, 4332, 5612, 7575, 2081, 7332, 4333, 3004, 4333, 453, 454, 3003, 460, 4333, 4218, 2503, 7943, 464, 2986, 6345, 465, 6346, 466, 7941, 4212, 107, 7590, 3734, 5618, 4208, 3739, 7933, 6002, 6847, 1586, 4335, 3748, 4682, 7725, 1592, 5621, 2501, 1003, 3751, 3751, 1592, 7923, 4019, 5459, 121, 5541, 5460, 4533, 7915, 7605, 7914, 7913, 3762, 3764, 7910, 3766, 5370, 4892, 7224, 7908, 2916, 4691, 2142, 5632, 7904, 5461, 2151, 4695, 4188, 7902, 535, 7900, 4885, 2157, 2896, 2157, 2157, 4883, 2895, 3784, 2495, 807, 1843, 1843, 3791, 4005, 7892, 5643, 3796, 7891, 7624, 6131, 7889, 3806, 6417, 5843, 7884, 7883, 132, 3813, 6430, 7882, 6431, 7881, 6436, 6436, 7879, 3816, 2848, 2847, 7878, 5349, 2847, 2847, 6795, 2488, 2846, 2846, 5509, 7876, 4164, 2846, 6043, 7876, 5535, 2845, 2845, 6437, 5706, 4160, 4158, 2829, 7867, 2829, 937, 2827, 7643, 3829, 2206, 7861, 2206, 4153, 7853, 3836, 2210, 2210, 2211, 7850, 921, 5822, 7849, 3839, 4863, 7849, 7848, 4029, 4147, 2223, 4010, 2226, 6466, 2228, 7654, 4860, 2790, 7843, 6468, 614, 2233, 2487, 2233, 6474, 6474, 6481, 4853, 7660, 7366, 6489, 4136, 6495, 2767, 4846, 5526, 3868, 5353, 4844, 629, 4130, 6498, 2260, 2260, 3872, 2760, 4843, 2759, 2262, 7369, 6505, 7171, 6055, 5667, 2485, 2263, 6506, 5354, 6508, 4723, 5668, 2270, 2272, 4723, 4020, 6749, 6520, 5385, 7373, 4724, 2282, 4724, 6741, 3896, 5116, 3896, 6741, 6741, 3899, 2480, 2291, 6735, 5356, 2717, 6732, 6644, 2712, 2712, 6732, 6729, 4109, 667, 5250, 880, 3910, 2696, 880, 2696, 2304, 2304, 5519, 6723, 2694, 2305, 2694, 4104, 2305, 4013, 2693, 8068, 2688, 3913, 1789, 2687, 1789, 2686, 2681, 6551, 2680, 2680, 7389, 6646, 5779, 2680, 4102, 5017, 3919, 2316, 6559, 5491, 4102, 6561, 2318, 6561, 868, 2318, 5244, 6660, 4100, 2325, 2657, 2325, 3929, 6660, 5681, 5518, 2332, 7695, 6575, 6575, 5715, 6579, 4, 149, 5767, 4016, 2338, 2626, 2343, 5101, 2348, 4085, 3949, 5101, 3950, 4084, 4083, 3952, 3952, 4082, 152, 6697, 2367, 2368, 2371, 2372, 2373, 2468, 4076, 3967, 4072, 2386, 3970, 3971, 2387, 4406, 2387, 2388, 2404, 2409, 2409, 5372, 2410, 3979, 5502, 3984, 3984, 2418, 5212, 821, 819, 5733, 8052, 5503, 8050, 8050, 4996, 8049, 5000, 5333, 6177, 4991, 8077, 8047, 3249, 5556, 3248, 8046, 6183, 8045, 5334, 8045, 4296, 8044, 6189, 6995, 8043, 8042, 2428, 8040, 8038, 6196, 6197, 8037, 4285, 4282, 8035]'],\n",
       " [481,\n",
       "  'AliceAdventuresinWonderlandbyLewisCarroll.txt',\n",
       "  '[2971, 2296, 986, 987, 3606, 2295, 2293, 2293, 2292, 987, 3604, 3604, 2279, 988, 3603, 3278, 122, 2267, 1215, 3601, 989, 1211, 2981, 2669, 3600, 3599, 3599, 370, 2989, 371, 3598, 2242, 3597, 2236, 2235, 2234, 2674, 2231, 3596, 119, 3593, 2216, 391, 2216, 2216, 118, 3592, 3005, 3005, 3590, 2201, 155, 996, 3010, 996, 1344, 2194, 2678, 2189, 117, 2633, 3588, 3588, 406, 3014, 3587, 1001, 409, 409, 2616, 2620, 412, 412, 413, 1001, 420, 1211, 427, 427, 429, 429, 2150, 3023, 431, 3023, 433, 3028, 1179, 2132, 2688, 2124, 440, 2118, 443, 444, 3038, 1325, 3564, 2693, 110, 110, 2620, 3562, 2105, 109, 1210, 3559, 3556, 1024, 465, 108, 1025, 3287, 1025, 470, 470, 3554, 1313, 475, 476, 3549, 1312, 485, 489, 1035, 3547, 495, 2062, 2062, 1039, 3546, 2055, 505, 516, 2033, 3539, 2023, 528, 2620, 529, 3076, 2013, 2012, 1041, 3535, 3533, 1042, 542, 3533, 1986, 2707, 3529, 3527, 557, 559, 1294, 1294, 1294, 1294, 1049, 3519, 581, 581, 582, 1948, 1947, 1945, 589, 1941, 1941, 601, 3515, 1927, 1926, 634, 639, 639, 642, 3513, 651, 653, 654, 95, 1051, 664, 666, 1881, 1878, 1875, 1874, 1874, 675, 2620, 676, 1286, 683, 2620, 1202, 1284, 1851, 688, 1850, 2621, 3122, 1057, 3491, 1831, 1823, 2728, 1823, 3489, 1059, 712, 1807, 1807, 1793, 1780, 1774, 3481, 1061, 1202, 1761, 1757, 3153, 1062, 1200, 3158, 1734, 1732, 1728, 1726, 1721, 1718, 2621, 1716, 1715, 1069, 1713, 2621, 3471, 1706, 3306, 1705, 1704, 1698, 1695, 1692, 1692, 2623, 1689, 769, 1680, 2854, 1672, 3463, 1662, 1071, 3462, 780, 1656, 3461, 780, 781, 3177, 1072, 3307, 1651, 3459, 1645, 1076, 1077, 2753, 3457, 1633, 799, 1629, 1626, 1623, 1621, 1618, 1618, 806, 3453, 1613, 1613, 1613, 1604, 817, 3450, 1595, 1593, 3449, 826, 826, 3196, 2621, 3197, 3197, 842, 1090, 3441, 843, 2850, 2627, 3440, 3205, 1551, 1550, 2621, 1548, 3438, 858, 1093, 3213, 860, 865, 3218, 1100, 1526, 868, 3433, 1520, 1520, 871, 1102, 1514, 3432, 871, 1510, 3431, 1508, 1508, 3430, 1505, 1505, 1503, 2776, 1501, 3226, 2776, 1500, 1496, 3229, 881, 2779, 3428, 1192, 1488, 3427, 1488, 3230, 1484, 1480, 3425, 1477, 3425, 3235, 3238, 3315, 3416, 1158, 2783, 1452, 1112, 1451, 2783, 3411, 3401, 3320, 1119, 3260, 3399, 1421, 1421, 2787, 1119, 3397, 2634, 3397, 2607, 2605, 2605, 2605, 2605, 2605, 161, 2604, 2604, 2604, 2604, 2639, 2604, 2602, 2598, 2591, 2589, 2584, 179, 179, 179, 3396, 181, 3263, 182, 2568, 1224, 2564, 2564, 3263, 2556, 2552, 2548, 2543, 202, 2541, 2540, 1382, 2523, 1222, 2910, 2910, 2506, 218, 2494, 2484, 2481, 2480, 2476, 2461, 2446, 2439, 2435, 260, 3631, 262, 262, 262, 2429, 2427, 2649, 2938, 2424, 1373, 3628, 2416, 965, 285, 2652, 2404, 286, 2652, 287, 2652, 3391, 2395, 2385, 3622, 298, 972, 2951, 2370, 2365, 2362, 2956, 2354, 2958, 2958, 4, 3272, 2331, 2330, 126, 976, 3610, 1362, 3274, 986, 2307, 2299, 2970, 1697]'],\n",
       " [91,\n",
       "  'BeowulfbyJLesslieHall.txt',\n",
       "  '[6718, 6406, 6899, 6709, 6708, 6706, 6721, 1952, 6693, 6693, 6896, 6396, 6701, 6695, 6759, 1540, 6700, 6781, 6699, 6659, 6698, 6696, 1540, 6783, 6890, 6725, 6679, 1982, 6878, 6787, 6874, 6872, 6727, 6872, 6012, 6871, 6729, 6669, 6730, 6869, 6731, 6868, 6867, 6867, 6866, 6795, 6865, 6667, 6757, 6797, 6864, 1496, 1971, 1971, 6665, 6861, 6739, 6665, 6860, 6822, 1948, 6858, 6817, 3490, 3490, 6856, 6856, 6664, 4, 6855, 6801, 1966, 1942, 1500, 6801, 1689, 2080, 6832, 6749, 2085, 6803, 6814, 2085, 6815, 6830, 6807, 6827, 6824, 6717, 6026, 6684]']]"
      ]
     },
     "execution_count": 204,
     "metadata": {},
     "output_type": "execute_result"
    }
   ],
   "source": [
    "reducer_index['you']"
   ]
  },
  {
   "cell_type": "code",
   "execution_count": 190,
   "metadata": {
    "collapsed": false
   },
   "outputs": [
    {
     "data": {
      "text/plain": [
       "4"
      ]
     },
     "execution_count": 190,
     "metadata": {},
     "output_type": "execute_result"
    }
   ],
   "source": [
    "len(reducer_index['you'])"
   ]
  },
  {
   "cell_type": "code",
   "execution_count": 200,
   "metadata": {
    "collapsed": false
   },
   "outputs": [],
   "source": [
    "reducer_index['you'].sort(reverse=True)"
   ]
  },
  {
   "cell_type": "code",
   "execution_count": 201,
   "metadata": {
    "collapsed": false
   },
   "outputs": [
    {
     "data": {
      "text/plain": [
       "[[1555,\n",
       "  'AdventuresOfHuckleberryFinnByMarkTwain.txt',\n",
       "  '[7499, 2370, 1253, 8442, 9930, 1257, 7139, 11759, 3083, 9928, 1831, 1257, 12170, 678, 1258, 9931, 6777, 5383, 9927, 1259, 2372, 12069, 1259, 4662, 678, 7906, 9570, 1260, 1260, 4107, 2373, 2774, 12170, 582, 4106, 3796, 4127, 1260, 4131, 4105, 8010, 679, 12068, 4131, 1261, 1261, 1261, 11331, 10330, 5377, 4132, 3153, 3083, 4132, 1262, 1262, 3043, 3604, 3083, 9574, 3383, 7495, 1236, 3692, 5370, 1271, 7256, 1272, 10386, 680, 9921, 2376, 9921, 3083, 582, 7737, 7128, 1273, 11325, 1274, 1274, 12167, 9918, 1231, 11325, 9938, 6199, 10330, 1276, 5369, 6198, 8425, 3084, 12222, 7904, 8463, 1277, 12225, 11325, 1278, 7257, 2381, 12070, 9007, 11357, 7124, 11778, 10390, 9551, 3334, 4087, 12165, 8421, 2756, 9006, 9006, 2794, 7818, 1284, 7914, 4643, 2381, 2794, 12222, 7823, 1284, 4154, 1285, 1218, 12171, 4154, 3082, 7120, 4085, 1286, 6188, 8419, 2795, 4085, 1217, 1286, 9941, 2795, 2383, 1286, 4084, 1287, 1287, 2795, 1807, 7915, 1216, 7116, 11782, 10452, 5435, 1216, 9944, 5435, 6953, 3150, 2797, 5436, 1214, 5437, 7915, 10129, 2797, 12071, 1298, 3156, 9045, 11367, 1298, 6180, 6971, 2797, 10451, 2797, 11783, 1213, 5440, 12110, 1302, 6178, 2741, 1213, 6177, 9047, 3510, 2741, 6177, 1212, 6176, 3620, 3801, 2799, 7356, 7916, 2799, 6174, 9051, 2799, 6172, 1211, 1211, 1305, 6953, 2800, 6172, 9948, 1305, 7999, 9949, 7899, 4074, 6171, 1306, 7153, 8011, 11312, 4074, 4073, 7112, 5344, 6170, 3801, 4631, 1311, 5343, 6264, 6170, 3623, 7824, 4070, 7899, 7916, 4070, 7771, 6169, 7999, 4070, 9906, 6169, 2731, 4630, 5339, 5339, 3156, 5339, 7772, 4067, 5339, 1313, 4067, 7899, 5456, 10331, 4691, 1314, 4066, 11793, 6271, 8497, 9594, 5333, 8986, 7697, 11794, 5331, 12066, 1319, 6163, 5331, 8985, 3146, 6162, 1321, 2397, 4062, 4061, 7775, 1321, 7898, 6162, 10953, 12221, 6161, 1322, 3081, 8012, 8505, 8507, 3792, 2399, 7159, 7625, 1325, 10399, 5324, 2400, 12236, 3145, 2716, 4059, 8984, 609, 4704, 10578, 5322, 4059, 7779, 10319, 1329, 8984, 1329, 3498, 7626, 6156, 5319, 6156, 6154, 8983, 1196, 9969, 6767, 4708, 5314, 7897, 7998, 8981, 6152, 6152, 8980, 12089, 4058, 5314, 4057, 4057, 6150, 5466, 7897, 10188, 3081, 8980, 4189, 6150, 5309, 12176, 6149, 10738, 4189, 6144, 4712, 6144, 4056, 1778, 4718, 4056, 5309, 3802, 4055, 4617, 4718, 12227, 3323, 12120, 2817, 7263, 4055, 8974, 3157, 7163, 3697, 9072, 8516, 9886, 9073, 9886, 4614, 628, 3698, 11803, 3364, 4614, 4614, 9885, 10742, 3452, 8518, 10744, 8518, 5476, 8013, 12076, 9074, 8972, 4048, 4048, 8972, 9075, 2823, 3160, 8972, 3698, 9884, 6128, 3803, 4047, 7997, 7997, 8381, 12065, 7173, 2828, 610, 8381, 6987, 2828, 4043, 3160, 4042, 8524, 7996, 8525, 9882, 4042, 8525, 9081, 7627, 11806, 768, 11807, 9881, 4039, 8044, 10750, 10398, 1895, 7627, 8367, 2318, 7597, 9089, 8530, 1761, 4607, 825, 4607, 8530, 11815, 11815, 7996, 6989, 11694, 7922, 1170, 10999, 1170, 10942, 10398, 9091, 11816, 1170, 8960, 8531, 7593, 11816, 2850, 1170, 7890, 4026, 8955, 3384, 9092, 8955, 2850, 12157, 8954, 8954, 12243, 4026, 1169, 7922, 11402, 5277, 7995, 11402, 10761, 2422, 3515, 2856, 1164, 8354, 7592, 8536, 11821, 12063, 5274, 10761, 7890, 11407, 5273, 2857, 12063, 9873, 3807, 2426, 2691, 5271, 2858, 4017, 3787, 2691, 4016, 2858, 11687, 2859, 6334, 8943, 9872, 2859, 9872, 3699, 7512, 4596, 1153, 8943, 7363, 1152, 6996, 10768, 6338, 5508, 10768, 5268, 1152, 5266, 11825, 1150, 5513, 3385, 9869, 8351, 5513, 830, 5266, 8942, 10938, 2862, 7180, 2302, 7089, 12182, 9512, 1146, 12078, 8941, 5262, 10769, 4767, 5516, 6826, 11010, 6087, 2680, 11011, 1743, 3786, 8562, 2679, 1742, 10769, 6085, 1145, 10770, 5262, 6084, 6084, 10770, 6826, 12239, 5518, 2864, 7591, 610, 11013, 8566, 10771, 11278, 3996, 5259, 5520, 5521, 11013, 1378, 10389, 8344, 2298, 11278, 8569, 7324, 8570, 10935, 1142, 1142, 10671, 7003, 10935, 1141, 1141, 8574, 10670, 8575, 8930, 10410, 2867, 7768, 8577, 8577, 9992, 10332, 1135, 8335, 5534, 2869, 1135, 2869, 7810, 11019, 8334, 3985, 5535, 2870, 9858, 5535, 8334, 2870, 9993, 11675, 7184, 12102, 4254, 8585, 8333, 7004, 12199, 8585, 5247, 7808, 2872, 398, 11835, 7004, 4259, 12182, 2873, 3048, 3700, 6358, 3377, 8590, 9857, 10665, 5241, 8590, 8593, 11025, 4263, 2669, 8593, 10932, 4263, 2874, 3977, 10781, 8595, 3024, 3977, 7082, 12079, 3976, 4263, 7808, 8596, 9495, 2875, 7883, 9856, 4268, 11025, 2875, 6359, 4268, 9122, 2666, 9123, 9124, 8601, 4269, 7807, 2876, 3969, 4269, 9494, 4270, 7807, 8602, 3701, 1121, 7080, 5225, 4271, 10441, 8605, 3515, 8608, 8608, 8608, 5220, 10787, 2663, 10787, 7585, 4278, 9131, 4278, 10787, 9491, 1113, 11031, 9139, 12184, 8618, 8618, 8321, 10929, 7323, 4279, 8618, 7878, 8619, 8620, 3571, 639, 5208, 3571, 4284, 6388, 2997, 2280, 8621, 10572, 9852, 4289, 8621, 3750, 4290, 2278, 11038, 3702, 7199, 10926, 2278, 8622, 12101, 6405, 6405, 3385, 5204, 4292, 12153, 7637, 10792, 7079, 8623, 5203, 6410, 5202, 1707, 6794, 8625, 3507, 2273, 8625, 5202, 7749, 1705, 5201, 3703, 10651, 12229, 2269, 8626, 3187, 7256, 3752, 1705, 7801, 4810, 1422, 1422, 11862, 2263, 3752, 11864, 8631, 9473, 11438, 3050, 4555, 6020, 1700, 3120, 3503, 10795, 8302, 11864, 6020, 5196, 10796, 9847, 9469, 2258, 10796, 10872, 3781, 12255, 9153, 6019, 2256, 6421, 9648, 9154, 426, 9157, 11870, 9157, 8633, 8634, 11870, 12100, 8634, 3565, 12151, 12055, 2254, 2252, 8291, 2251, 8636, 8287, 6431, 3752, 6009, 2250, 8284, 10333, 3781, 2250, 4304, 2250, 6009, 3565, 6008, 1074, 10801, 8283, 1074, 5172, 12234, 7257, 10327, 3168, 9166, 5171, 3753, 7017, 5997, 5997, 6437, 9167, 9167, 5171, 9168, 3930, 9457, 2248, 1438, 9457, 12189, 7580, 3929, 6439, 3929, 1068, 11879, 3928, 3928, 10804, 1067, 1067, 8276, 1440, 1974, 2248, 10308, 9454, 1974, 7018, 3926, 3926, 9454, 1975, 7018, 10809, 2246, 10327, 10635, 1059, 1059, 7798, 6796, 9838, 7936, 9453, 7279, 3923, 1057, 4836, 1056, 3778, 3923, 9452, 4836, 9188, 6461, 6919, 8266, 9450, 5612, 6918, 5151, 9448, 3171, 11454, 5151, 8039, 9448, 9448, 12128, 10630, 9193, 12097, 905, 10455, 11230, 4850, 7735, 10628, 4324, 11621, 3778, 10817, 3560, 2624, 5619, 11228, 11228, 7768, 3914, 4325, 11615, 3482, 4327, 3754, 7798, 2234, 11060, 11227, 7845, 4331, 2233, 1040, 2621, 12191, 716, 2233, 10622, 10622, 4332, 6474, 4332, 7845, 1034, 1666, 10335, 10526, 10394, 11464, 5133, 1034, 9430, 5132, 5132, 7023, 9430, 9428, 9821, 4865, 11220, 717, 7797, 8247, 11220, 10820, 8021, 6492, 4865, 10389, 9820, 4866, 6496, 10821, 8240, 7, 8239, 3505, 7943, 10526, 4866, 2615, 5634, 10053, 10333, 5634, 1657, 9426, 718, 3754, 8239, 8238, 9213, 3106, 1654, 2491, 11469, 4868, 2491, 1652, 3754, 3755, 3106, 2610, 718, 3461, 10055, 7849, 719, 6909, 5116, 6908, 2222, 12095, 3467, 4351, 10055, 4869, 2493, 1646, 6738, 10254, 2220, 9424, 10055, 4357, 9421, 8228, 722, 11906, 2219, 9417, 4358, 722, 11908, 4873, 9416, 4358, 6902, 4875, 11910, 3106, 4359, 11534, 5109, 3107, 11205, 1640, 11910, 11910, 5108, 12194, 9808, 5108, 5107, 7752, 11474, 4877, 3052, 7774, 3889, 9416, 11203, 11917, 1010, 2215, 1009, 5945, 5106, 11203, 10828, 6524, 7024, 11921, 11921, 2215, 2498, 7574, 9414, 11201, 10333, 2498, 5942, 5103, 6799, 11925, 2213, 6527, 7796, 2590, 9410, 2212, 4885, 6736, 2498, 7339, 2499, 11199, 5095, 8212, 11930, 4373, 11932, 4373, 6900, 12049, 5092, 5090, 5088, 11933, 11590, 11590, 10830, 5087, 10075, 11590, 7385, 5938, 10830, 11193, 5085, 5085, 10830, 4895, 4895, 7026, 8202, 4383, 6547, 7026, 10831, 8201, 5083, 5933, 6734, 8687, 8687, 2990, 4383, 7864, 4385, 5081, 12261, 4385, 10831, 9394, 5078, 9394, 8688, 10078, 4386, 3644, 2990, 12197, 10317, 3758, 9798, 4387, 7730, 3860, 9798, 3860, 8689, 11079, 9798, 9393, 4388, 11079, 4389, 3772, 7228, 5923, 2990, 5923, 4389, 10092, 794, 5921, 7791, 3858, 10092, 3713, 6565, 9261, 5919, 4391, 9261, 5918, 9791, 4902, 9261, 3857, 10834, 5917, 7791, 5917, 5059, 5916, 10834, 8817, 9392, 3856, 3758, 9271, 3855, 5911, 9783, 8034, 12230, 9271, 7655, 9272, 7863, 10099, 3769, 9277, 10835, 11490, 7851, 5048, 11491, 7851, 10836, 9388, 9280, 10100, 2067, 5047, 2068, 3846, 4909, 9281, 9385, 6582, 8177, 5041, 9383, 11493, 6587, 8805, 5040, 8034, 10209, 8026, 7244, 2516, 11087, 10408, 12130, 10589, 9768, 5037, 12233, 5037, 2979, 7779, 7748, 9382, 7656, 5036, 7656, 7033, 10210, 5036, 3386, 10144, 3228, 7852, 7245, 6598, 11088, 2079, 5030, 2079, 11966, 3110, 11088, 10292, 11966, 8167, 6600, 11570, 6601, 8167, 9376, 8028, 9293, 2082, 11967, 11499, 4927, 2086, 11968, 12237, 2188, 5712, 9294, 11500, 10337, 4933, 9756, 2088, 10146, 2094, 611, 4414, 4418, 2098, 4420, 3506, 2098, 4420, 9295, 3769, 10847, 9296, 10847, 4935, 2100, 12043, 11562, 2186, 11970, 8725, 4426, 2105, 12237, 2105, 860, 4426, 11160, 8727, 11562, 2105, 7656, 11504, 7246, 12087, 11562, 10172, 2106, 8150, 12231, 7657, 11159, 3511, 8146, 11158, 7861, 10854, 8732, 9705, 8792, 8792, 11158, 12264, 12040, 12091, 8791, 3531, 9311, 8137, 3373, 11508, 11508, 11509, 8137, 12039, 9311, 7781, 7383, 4944, 9742, 870, 8083, 5740, 5741, 871, 6625, 5743, 12039, 4474, 12038, 9735, 10859, 8083, 11523, 6879, 8745, 9313, 12232, 6714, 10859, 9313, 4946, 11148, 10859, 9317, 1530, 4947, 5754, 7041, 7728, 12232, 2121, 9732, 10567, 8754, 7042, 11147, 8754, 5763, 7968, 2126, 5763, 5801, 6804, 876, 5767, 3226, 2126, 11143, 12224, 9324, 10168, 6636, 10861, 9328, 2135, 2173, 2135, 1538, 882, 8030, 11997, 7858, 7743, 6640, 2136, 11135, 4445, 6643, 6643, 11530, 2140, 11131, 11998, 2144, 11530, 2144, 2170, 11999, 887, 10866, 10384, 12033, 2144, 10866, 2144, 11999, 2144, 3762, 7046, 1542, 2544, 3305, 11532, 7858, 3055, 11114, 2153, 11533, 4461, 3263, 470, 3766, 3525, 895, 8031, 1553, 7042, 4455, 896, 3525, 3529, 896, 6673, 907, 11122, 3187, 904, 3527, 10383, 6684, 11118, 7269, 898, 2162, 906, 3352, 8008, 1252, 7135, 1252, 1706]'],\n",
       " [526,\n",
       "  'DublinersbyJamesJoyce.txt',\n",
       "  '[6800, 8035, 8034, 1461, 285, 6120, 6142, 1466, 5428, 4970, 6124, 1472, 307, 308, 6997, 6163, 308, 308, 4273, 4964, 3311, 5579, 6231, 8012, 8074, 4031, 6162, 1428, 1484, 1964, 1964, 8010, 4612, 7523, 4310, 7486, 8007, 8004, 5093, 8002, 7484, 336, 1424, 338, 4956, 6928, 5903, 342, 5903, 7997, 345, 1420, 351, 5441, 5340, 7995, 7995, 4644, 2513, 6262, 7989, 4050, 94, 6916, 6916, 6086, 374, 376, 5372, 1519, 1519, 7984, 7983, 7544, 7263, 7983, 8056, 7263, 7548, 4245, 1413, 7980, 1537, 5304, 7978, 6283, 3106, 6283, 7560, 5604, 1541, 1541, 3097, 6291, 400, 7258, 3096, 1542, 5604, 1408, 3094, 2439, 5420, 3540, 7970, 6296, 7468, 3085, 3085, 5299, 3085, 6890, 5093, 2507, 3079, 3078, 3697, 2507, 7966, 1549, 3071, 7324, 2058, 3065, 7964, 3065, 6885, 4330, 3056, 2067, 6883, 3051, 7744, 7325, 4768, 2505, 3039, 4330, 4332, 5612, 7575, 2081, 7332, 4333, 3004, 4333, 453, 454, 3003, 460, 4333, 4218, 2503, 7943, 464, 2986, 6345, 465, 6346, 466, 7941, 4212, 107, 7590, 3734, 5618, 4208, 3739, 7933, 6002, 6847, 1586, 4335, 3748, 4682, 7725, 1592, 5621, 2501, 1003, 3751, 3751, 1592, 7923, 4019, 5459, 121, 5541, 5460, 4533, 7915, 7605, 7914, 7913, 3762, 3764, 7910, 3766, 5370, 4892, 7224, 7908, 2916, 4691, 2142, 5632, 7904, 5461, 2151, 4695, 4188, 7902, 535, 7900, 4885, 2157, 2896, 2157, 2157, 4883, 2895, 3784, 2495, 807, 1843, 1843, 3791, 4005, 7892, 5643, 3796, 7891, 7624, 6131, 7889, 3806, 6417, 5843, 7884, 7883, 132, 3813, 6430, 7882, 6431, 7881, 6436, 6436, 7879, 3816, 2848, 2847, 7878, 5349, 2847, 2847, 6795, 2488, 2846, 2846, 5509, 7876, 4164, 2846, 6043, 7876, 5535, 2845, 2845, 6437, 5706, 4160, 4158, 2829, 7867, 2829, 937, 2827, 7643, 3829, 2206, 7861, 2206, 4153, 7853, 3836, 2210, 2210, 2211, 7850, 921, 5822, 7849, 3839, 4863, 7849, 7848, 4029, 4147, 2223, 4010, 2226, 6466, 2228, 7654, 4860, 2790, 7843, 6468, 614, 2233, 2487, 2233, 6474, 6474, 6481, 4853, 7660, 7366, 6489, 4136, 6495, 2767, 4846, 5526, 3868, 5353, 4844, 629, 4130, 6498, 2260, 2260, 3872, 2760, 4843, 2759, 2262, 7369, 6505, 7171, 6055, 5667, 2485, 2263, 6506, 5354, 6508, 4723, 5668, 2270, 2272, 4723, 4020, 6749, 6520, 5385, 7373, 4724, 2282, 4724, 6741, 3896, 5116, 3896, 6741, 6741, 3899, 2480, 2291, 6735, 5356, 2717, 6732, 6644, 2712, 2712, 6732, 6729, 4109, 667, 5250, 880, 3910, 2696, 880, 2696, 2304, 2304, 5519, 6723, 2694, 2305, 2694, 4104, 2305, 4013, 2693, 8068, 2688, 3913, 1789, 2687, 1789, 2686, 2681, 6551, 2680, 2680, 7389, 6646, 5779, 2680, 4102, 5017, 3919, 2316, 6559, 5491, 4102, 6561, 2318, 6561, 868, 2318, 5244, 6660, 4100, 2325, 2657, 2325, 3929, 6660, 5681, 5518, 2332, 7695, 6575, 6575, 5715, 6579, 4, 149, 5767, 4016, 2338, 2626, 2343, 5101, 2348, 4085, 3949, 5101, 3950, 4084, 4083, 3952, 3952, 4082, 152, 6697, 2367, 2368, 2371, 2372, 2373, 2468, 4076, 3967, 4072, 2386, 3970, 3971, 2387, 4406, 2387, 2388, 2404, 2409, 2409, 5372, 2410, 3979, 5502, 3984, 3984, 2418, 5212, 821, 819, 5733, 8052, 5503, 8050, 8050, 4996, 8049, 5000, 5333, 6177, 4991, 8077, 8047, 3249, 5556, 3248, 8046, 6183, 8045, 5334, 8045, 4296, 8044, 6189, 6995, 8043, 8042, 2428, 8040, 8038, 6196, 6197, 8037, 4285, 4282, 8035]'],\n",
       " [481,\n",
       "  'AliceAdventuresinWonderlandbyLewisCarroll.txt',\n",
       "  '[2971, 2296, 986, 987, 3606, 2295, 2293, 2293, 2292, 987, 3604, 3604, 2279, 988, 3603, 3278, 122, 2267, 1215, 3601, 989, 1211, 2981, 2669, 3600, 3599, 3599, 370, 2989, 371, 3598, 2242, 3597, 2236, 2235, 2234, 2674, 2231, 3596, 119, 3593, 2216, 391, 2216, 2216, 118, 3592, 3005, 3005, 3590, 2201, 155, 996, 3010, 996, 1344, 2194, 2678, 2189, 117, 2633, 3588, 3588, 406, 3014, 3587, 1001, 409, 409, 2616, 2620, 412, 412, 413, 1001, 420, 1211, 427, 427, 429, 429, 2150, 3023, 431, 3023, 433, 3028, 1179, 2132, 2688, 2124, 440, 2118, 443, 444, 3038, 1325, 3564, 2693, 110, 110, 2620, 3562, 2105, 109, 1210, 3559, 3556, 1024, 465, 108, 1025, 3287, 1025, 470, 470, 3554, 1313, 475, 476, 3549, 1312, 485, 489, 1035, 3547, 495, 2062, 2062, 1039, 3546, 2055, 505, 516, 2033, 3539, 2023, 528, 2620, 529, 3076, 2013, 2012, 1041, 3535, 3533, 1042, 542, 3533, 1986, 2707, 3529, 3527, 557, 559, 1294, 1294, 1294, 1294, 1049, 3519, 581, 581, 582, 1948, 1947, 1945, 589, 1941, 1941, 601, 3515, 1927, 1926, 634, 639, 639, 642, 3513, 651, 653, 654, 95, 1051, 664, 666, 1881, 1878, 1875, 1874, 1874, 675, 2620, 676, 1286, 683, 2620, 1202, 1284, 1851, 688, 1850, 2621, 3122, 1057, 3491, 1831, 1823, 2728, 1823, 3489, 1059, 712, 1807, 1807, 1793, 1780, 1774, 3481, 1061, 1202, 1761, 1757, 3153, 1062, 1200, 3158, 1734, 1732, 1728, 1726, 1721, 1718, 2621, 1716, 1715, 1069, 1713, 2621, 3471, 1706, 3306, 1705, 1704, 1698, 1695, 1692, 1692, 2623, 1689, 769, 1680, 2854, 1672, 3463, 1662, 1071, 3462, 780, 1656, 3461, 780, 781, 3177, 1072, 3307, 1651, 3459, 1645, 1076, 1077, 2753, 3457, 1633, 799, 1629, 1626, 1623, 1621, 1618, 1618, 806, 3453, 1613, 1613, 1613, 1604, 817, 3450, 1595, 1593, 3449, 826, 826, 3196, 2621, 3197, 3197, 842, 1090, 3441, 843, 2850, 2627, 3440, 3205, 1551, 1550, 2621, 1548, 3438, 858, 1093, 3213, 860, 865, 3218, 1100, 1526, 868, 3433, 1520, 1520, 871, 1102, 1514, 3432, 871, 1510, 3431, 1508, 1508, 3430, 1505, 1505, 1503, 2776, 1501, 3226, 2776, 1500, 1496, 3229, 881, 2779, 3428, 1192, 1488, 3427, 1488, 3230, 1484, 1480, 3425, 1477, 3425, 3235, 3238, 3315, 3416, 1158, 2783, 1452, 1112, 1451, 2783, 3411, 3401, 3320, 1119, 3260, 3399, 1421, 1421, 2787, 1119, 3397, 2634, 3397, 2607, 2605, 2605, 2605, 2605, 2605, 161, 2604, 2604, 2604, 2604, 2639, 2604, 2602, 2598, 2591, 2589, 2584, 179, 179, 179, 3396, 181, 3263, 182, 2568, 1224, 2564, 2564, 3263, 2556, 2552, 2548, 2543, 202, 2541, 2540, 1382, 2523, 1222, 2910, 2910, 2506, 218, 2494, 2484, 2481, 2480, 2476, 2461, 2446, 2439, 2435, 260, 3631, 262, 262, 262, 2429, 2427, 2649, 2938, 2424, 1373, 3628, 2416, 965, 285, 2652, 2404, 286, 2652, 287, 2652, 3391, 2395, 2385, 3622, 298, 972, 2951, 2370, 2365, 2362, 2956, 2354, 2958, 2958, 4, 3272, 2331, 2330, 126, 976, 3610, 1362, 3274, 986, 2307, 2299, 2970, 1697]'],\n",
       " [91,\n",
       "  'BeowulfbyJLesslieHall.txt',\n",
       "  '[6718, 6406, 6899, 6709, 6708, 6706, 6721, 1952, 6693, 6693, 6896, 6396, 6701, 6695, 6759, 1540, 6700, 6781, 6699, 6659, 6698, 6696, 1540, 6783, 6890, 6725, 6679, 1982, 6878, 6787, 6874, 6872, 6727, 6872, 6012, 6871, 6729, 6669, 6730, 6869, 6731, 6868, 6867, 6867, 6866, 6795, 6865, 6667, 6757, 6797, 6864, 1496, 1971, 1971, 6665, 6861, 6739, 6665, 6860, 6822, 1948, 6858, 6817, 3490, 3490, 6856, 6856, 6664, 4, 6855, 6801, 1966, 1942, 1500, 6801, 1689, 2080, 6832, 6749, 2085, 6803, 6814, 2085, 6815, 6830, 6807, 6827, 6824, 6717, 6026, 6684]']]"
      ]
     },
     "execution_count": 201,
     "metadata": {},
     "output_type": "execute_result"
    }
   ],
   "source": [
    "reducer_index['you']"
   ]
  },
  {
   "cell_type": "code",
   "execution_count": null,
   "metadata": {
    "collapsed": true
   },
   "outputs": [],
   "source": []
  }
 ],
 "metadata": {
  "kernelspec": {
   "display_name": "Python 2",
   "language": "python",
   "name": "python2"
  },
  "language_info": {
   "codemirror_mode": {
    "name": "ipython",
    "version": 2
   },
   "file_extension": ".py",
   "mimetype": "text/x-python",
   "name": "python",
   "nbconvert_exporter": "python",
   "pygments_lexer": "ipython2",
   "version": "2.7.8"
  }
 },
 "nbformat": 4,
 "nbformat_minor": 2
}
